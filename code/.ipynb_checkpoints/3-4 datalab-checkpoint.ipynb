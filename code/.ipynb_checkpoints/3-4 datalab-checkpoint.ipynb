{
 "cells": [
  {
   "cell_type": "markdown",
   "metadata": {},
   "source": [
    "### 네이버 데이터랩\n",
    "\n",
    "영화 이름과 기간을 입력해 해당기간에 해당영화를 얼마나 검색했는지 확인"
   ]
  },
  {
   "cell_type": "code",
   "execution_count": 1,
   "metadata": {},
   "outputs": [
    {
     "data": {
      "text/plain": [
       "0"
      ]
     },
     "execution_count": 1,
     "metadata": {},
     "output_type": "execute_result"
    }
   ],
   "source": [
    "import os\n",
    "import sys\n",
    "import json\n",
    "import urllib.request\n",
    "from datetime import date\n",
    "import pandas as pd\n",
    "from dateutil.relativedelta import relativedelta\n",
    "from tqdm import tqdm_notebook\n",
    "\n",
    "df1 = pd.read_csv('/home/ubuntu/movie/data/naver_movie_all.csv')\n",
    "start_date = date(2017,1,1)\n",
    "end_date = date(2017,12,31)\n",
    "len(df1)"
   ]
  },
  {
   "cell_type": "code",
   "execution_count": null,
   "metadata": {},
   "outputs": [],
   "source": [
    "m_name = df1['movieNm'][0]\n",
    "m_code = df1['movieCd'][0]\n",
    "n_code = df1['naver_movieCd'][0]\n",
    "m_code"
   ]
  },
  {
   "cell_type": "code",
   "execution_count": null,
   "metadata": {},
   "outputs": [],
   "source": [
    "with open(\"/home/ubuntu/movie/raw_data/movie_info/\"+str(m_code)+\".json\") as data_file:    \n",
    "    data = json.load(data_file)\n",
    "openDt = data['movieInfoResult']['movieInfo']['openDt']\n",
    "openDt\n"
   ]
  },
  {
   "cell_type": "code",
   "execution_count": null,
   "metadata": {},
   "outputs": [],
   "source": [
    "date(int(str(openDt)[0:4]),int(str(openDt)[4:6]),int(str(openDt)[6:8]))\n",
    "edt = date(int(str(openDt)[0:4]),int(str(openDt)[4:6]),int(str(openDt)[6:8])) + relativedelta(months=1)\n",
    "sdt = date(int(str(openDt)[0:4]),int(str(openDt)[4:6]),int(str(openDt)[6:8]))\n",
    "str(sdt)"
   ]
  },
  {
   "cell_type": "code",
   "execution_count": null,
   "metadata": {},
   "outputs": [],
   "source": [
    "type(str(n_code))"
   ]
  },
  {
   "cell_type": "code",
   "execution_count": null,
   "metadata": {},
   "outputs": [],
   "source": [
    "for i in tqdm_notebook(range(len(df1['naver_movieCd']))):\n",
    "    m_name = df1['movieNm'][i]\n",
    "    m_code = df1['movieCd'][i]\n",
    "    n_code = df1['naver_movieCd'][i]\n",
    "    \n",
    "    with open('/home/ubuntu/movie/raw_data/movie_info/'+str(m_code)+'.json') as data_file:    \n",
    "        data = json.load(data_file)\n",
    "    openDt = data['movieInfoResult']['movieInfo']['openDt']\n",
    "    \n",
    "    idt = date(2016,1,1)\n",
    "    sdt = date(int(str(openDt)[0:4]),int(str(openDt)[4:6]),int(str(openDt)[6:8]))\n",
    "    edt = sdt + relativedelta(months=1)\n",
    "    \n",
    "    if(sdt > idt):\n",
    "        client_id = \"nA8Iwm4HJ6EM2W1dueU9\"\n",
    "        client_secret = \"HaEPQCPbyQ\"\n",
    "        url = \"https://openapi.naver.com/v1/datalab/search\"\n",
    "\n",
    "        # body='{\\\"startDate\\\":\\\"'+str(sdt)+'\\\",\\\"endDate\\\":\\\"2017-01-21\\\",\\\"timeUnit\\\":\\\"date\\\",\\\"keywordGroups\\\":[{\\\"groupName\\\":\\\"영화\\\",\\\"keywords\\\":[\\\"'+'꾼'+'\\\"]}]}'\n",
    "        body='{\\\"startDate\\\":\\\"'+str(sdt)+'\\\",\\\"endDate\\\":\\\"'+str(edt)+'\\\",\\\"timeUnit\\\":\\\"date\\\",\\\"keywordGroups\\\":[{\\\"groupName\\\":\\\"영화\\\",\\\"keywords\\\":[\\\"'+m_name+'\\\"]}]}'\n",
    "\n",
    "        print(body)\n",
    "        request = urllib.request.Request(url)\n",
    "        request.add_header(\"X-Naver-Client-Id\",client_id)\n",
    "        request.add_header(\"X-Naver-Client-Secret\",client_secret)\n",
    "        request.add_header(\"Content-Type\",\"application/json\")\n",
    "        response = urllib.request.urlopen(request, data=body.encode(\"utf-8\"))\n",
    "        rescode = response.getcode()\n",
    "        if(rescode==200):\n",
    "            response_body = response.read()\n",
    "\n",
    "            d = json.loads(response_body)\n",
    "        #     print(response_body.decode('utf-8'))\n",
    "#             with open('data2/datalab/'+str(n_code)+'.json', 'w', encoding=\"utf-8\") as make_file:\n",
    "#                 json.dump(d, make_file, ensure_ascii=False, indent=\"\\t\")\n",
    "        else:\n",
    "            print(\"Error Code:\" + rescode)\n",
    "            \n",
    "        d['results'][0]['data']\n",
    "        df = pd.DataFrame(d['results'][0]['data'])\n",
    "        df.to_csv('/home/ubuntu/movie/data/datalab/'+str(n_code)[:-2]+'_datalab.csv',index=False)\n",
    "    else:\n",
    "        pass"
   ]
  },
  {
   "cell_type": "code",
   "execution_count": null,
   "metadata": {},
   "outputs": [],
   "source": [
    "from tqdm import tqdm_notebook\n",
    "df1 = pd.read_csv('/home/ubuntu/movie/data/naver_movie_all.csv')\n",
    "\n",
    "for i in tqdm_notebook(range(len(df1))): #range(len(df1)):\n",
    "    ncd = str(df1['naver_movieCd'][i])[:-2]\n",
    "#     print(ncd)\n",
    "    try:\n",
    "        df2 = pd.read_csv('/home/ubuntu/movie/data/datalab/'+ncd+'_datalab.csv')\n",
    "        df3 = pd.read_csv('/home/ubuntu/movie/data/after_rating/'+ncd+'_rating.csv')\n",
    "    \n",
    "        for i in range(len(df3)):\n",
    "            df3['0'][i] = str(df3['0'][i])[0:4]+\"-\"+str(df3['0'][i])[4:6]+\"-\"+str(df3['0'][i])[6:8]\n",
    "        df3.rename(columns={\"0\":\"period\"}, inplace = True)\n",
    "        df4 = pd.merge(df2,df3,how='left',on='period')\n",
    "        for i in range(len(df4)):\n",
    "            df4['1'][i] = df4['1'][i] * 100\n",
    "            df4['2'][i] = df4['2'][i] * 10\n",
    "        df4.to_csv('/home/ubuntu/movie/data/merge/'+ncd+'_merge.csv',index=False)\n",
    "    except FileNotFoundError:\n",
    "        pass"
   ]
  },
  {
   "cell_type": "code",
   "execution_count": null,
   "metadata": {},
   "outputs": [],
   "source": []
  },
  {
   "cell_type": "code",
   "execution_count": null,
   "metadata": {},
   "outputs": [],
   "source": []
  }
 ],
 "metadata": {
  "kernelspec": {
   "display_name": "Python 3",
   "language": "python",
   "name": "python3"
  },
  "language_info": {
   "codemirror_mode": {
    "name": "ipython",
    "version": 3
   },
   "file_extension": ".py",
   "mimetype": "text/x-python",
   "name": "python",
   "nbconvert_exporter": "python",
   "pygments_lexer": "ipython3",
   "version": "3.6.7"
  }
 },
 "nbformat": 4,
 "nbformat_minor": 2
}
