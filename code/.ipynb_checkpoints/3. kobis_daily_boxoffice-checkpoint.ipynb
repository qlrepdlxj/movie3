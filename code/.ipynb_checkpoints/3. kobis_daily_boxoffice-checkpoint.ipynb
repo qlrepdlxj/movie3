{
 "cells": [
  {
   "cell_type": "markdown",
   "metadata": {},
   "source": [
    "# 3. KOBIS OPEN API\n",
    "\n",
    "영화관 입장권 통합 전산망 OPENAPI를 사용하여 일일 박스오피스 자료를 가져오고 JSON파일로 저장\n",
    "\n",
    "##  1) 일별 박스오피스\n",
    "kobis에서 일별박스오피스 api를 활용하여 movieCd, movieNm, openDt, salesAmt, salesShare, salesInten, salesChange, salesAcc, audiCnt, audiInten, audiChange, audiAcc, scrnCnt, showCnt, CurrentDate, Nation 을 추출\n",
    "\n",
    "##  2) 영화 상세정보\n",
    "kobis에서 영화상세정보 api를 활용하여 movieCd, movieNm, movieNmEn, movieNmOg, showTm, prdtYear, openDt, prdtStatNm, typeNm, nations, genres, directors, actors 를 추출 = movie_info.txt\n"
   ]
  },
  {
   "cell_type": "markdown",
   "metadata": {},
   "source": [
    "."
   ]
  },
  {
   "cell_type": "markdown",
   "metadata": {},
   "source": [
    "."
   ]
  },
  {
   "cell_type": "markdown",
   "metadata": {},
   "source": [
    "# 3.1 일별 박스오피스"
   ]
  },
  {
   "cell_type": "markdown",
   "metadata": {},
   "source": [
    "### 1) kobis API를 통해 일별 박스오피스 데이터를 받아온다. \n",
    "###     파일은' 해당일자'를 이름으로 지정하고\n",
    "###     JSON 타입으로 저장한다.\n"
   ]
  },
  {
   "cell_type": "code",
   "execution_count": 1,
   "metadata": {},
   "outputs": [],
   "source": [
    "import os\n",
    "import requests\n",
    "import json\n",
    "import calendar\n",
    "from tqdm import tqdm\n",
    "from tqdm import tqdm_notebook\n",
    "from datetime import date, timedelta\n",
    "\n",
    "key='ad816991534afeaef71f07e7336b0d61'\n",
    "movie_info_path='/home/ubuntu/movie/'"
   ]
  },
  {
   "cell_type": "code",
   "execution_count": 2,
   "metadata": {},
   "outputs": [],
   "source": [
    "def daily_box_office_to_json(start_date,end_date):    \n",
    "    tmp_date = start_date\n",
    "#     startDt = int(str(start_date)[0:4]+str(start_date)[5:7]+str(start_date)[8:10])\n",
    "#     endDt = int(str(end_date)[0:4]+str(end_date)[5:7]+str(end_date)[8:10])\n",
    "    days = end_date - start_date # 날짜 경과\n",
    "    for i in tqdm_notebook(range(days.days+1)):\n",
    "        targetDt = int(str(tmp_date)[0:4]+str(tmp_date)[5:7]+str(tmp_date)[8:10])\n",
    "        \n",
    "        if(os.path.isfile(movie_info_path+'raw_data/daily/'+str(targetDt)+'.json')!=1):\n",
    "            url='http://www.kobis.or.kr/kobisopenapi/webservice/rest/boxoffice/searchDailyBoxOfficeList.json?key='+key+'&targetDt='+str(targetDt)\n",
    "            res = requests.get(url)\n",
    "            text = res.text\n",
    "            d = json.loads(text)\n",
    "            with open(movie_info_path+'raw_data/daily/'+str(targetDt)+'.json', 'w', encoding=\"utf-8\") as make_file:\n",
    "                json.dump(d, make_file, ensure_ascii=False, indent=\"\\t\")\n",
    "        tmp_date += timedelta(1)"
   ]
  },
  {
   "cell_type": "code",
   "execution_count": null,
   "metadata": {},
   "outputs": [],
   "source": []
  },
  {
   "cell_type": "markdown",
   "metadata": {},
   "source": [
    "### 3) daliy_box_office_to_json 사용자 함수 실행한다."
   ]
  },
  {
   "cell_type": "code",
   "execution_count": 3,
   "metadata": {},
   "outputs": [
    {
     "data": {
      "application/vnd.jupyter.widget-view+json": {
       "model_id": "2f6170f4025c4329be98d91c304bc93e",
       "version_major": 2,
       "version_minor": 0
      },
      "text/plain": [
       "HBox(children=(IntProgress(value=0, max=424), HTML(value='')))"
      ]
     },
     "metadata": {},
     "output_type": "display_data"
    },
    {
     "name": "stdout",
     "output_type": "stream",
     "text": [
      "\n"
     ]
    }
   ],
   "source": [
    "# 2017년 01월 ~ 2018년 02월까지 boxoffice 를 받아온다.\n",
    "start_date = date(2017,1,1)\n",
    "end_date = date(2018,2,28)\n",
    "daily_box_office_to_json(start_date,end_date)"
   ]
  },
  {
   "cell_type": "code",
   "execution_count": null,
   "metadata": {},
   "outputs": [],
   "source": []
  },
  {
   "cell_type": "markdown",
   "metadata": {},
   "source": [
    "### 4) 일별 데이터를 분석할 때 용이하도록 월별로 합친다."
   ]
  },
  {
   "cell_type": "code",
   "execution_count": 14,
   "metadata": {},
   "outputs": [],
   "source": [
    "import pandas as pd\n",
    "import requests\n",
    "from datetime import datetime\n",
    "from datetime import timedelta\n",
    "import json\n",
    "from tqdm import tqdm_notebook\n",
    "from tqdm import tqdm\n",
    "from dateutil.relativedelta import relativedelta\n",
    "import os\n",
    "\n",
    "key='ad816991534afeaef71f07e7336b0d61'\n",
    "movie_info_path='/home/ubuntu/movie/'"
   ]
  },
  {
   "cell_type": "code",
   "execution_count": 5,
   "metadata": {},
   "outputs": [],
   "source": [
    "def daily_boxoffice(start_date, end_date) :\n",
    "    \n",
    "    final_list = []\n",
    "\n",
    "    for single_date in tqdm_notebook(pd.date_range(start_date, end_date)) :\n",
    "        targetDt = str(single_date)[0:4]+str(single_date)[5:7]+str(single_date)[8:10]\n",
    "        with open(movie_info_path+'raw_data/daily/'+str(targetDt)+'.json', 'r', encoding=\"utf-8\") as read_file:\n",
    "            d = json.load(read_file)\n",
    "\n",
    "        for item in d[\"boxOfficeResult\"][\"dailyBoxOfficeList\"] :\n",
    "            value_list = []\n",
    "            key_list = []\n",
    "            for key, value in item.items() :\n",
    "                key_list.append(key)\n",
    "                value_list.append(value)\n",
    "\n",
    "            value_list.append(single_date)\n",
    "            key_list.append('CurrentDate')\n",
    "            final_list.append(value_list)\n",
    "\n",
    "    return pd.DataFrame(final_list, columns=key_list)"
   ]
  },
  {
   "cell_type": "code",
   "execution_count": 6,
   "metadata": {},
   "outputs": [
    {
     "data": {
      "application/vnd.jupyter.widget-view+json": {
       "model_id": "1f6c3905e65445a997a5b126c08479f3",
       "version_major": 2,
       "version_minor": 0
      },
      "text/plain": [
       "HBox(children=(IntProgress(value=0, max=14), HTML(value='')))"
      ]
     },
     "metadata": {},
     "output_type": "display_data"
    },
    {
     "data": {
      "application/vnd.jupyter.widget-view+json": {
       "model_id": "1c662ab608f14c1a8b5c1c244b7c1f5e",
       "version_major": 2,
       "version_minor": 0
      },
      "text/plain": [
       "HBox(children=(IntProgress(value=0, max=31), HTML(value='')))"
      ]
     },
     "metadata": {},
     "output_type": "display_data"
    },
    {
     "data": {
      "application/vnd.jupyter.widget-view+json": {
       "model_id": "092321779d854cfb9809c3202fab9658",
       "version_major": 2,
       "version_minor": 0
      },
      "text/plain": [
       "HBox(children=(IntProgress(value=0, max=28), HTML(value='')))"
      ]
     },
     "metadata": {},
     "output_type": "display_data"
    },
    {
     "data": {
      "application/vnd.jupyter.widget-view+json": {
       "model_id": "5dd7c35a69684fe991fef29c440f4a94",
       "version_major": 2,
       "version_minor": 0
      },
      "text/plain": [
       "HBox(children=(IntProgress(value=0, max=31), HTML(value='')))"
      ]
     },
     "metadata": {},
     "output_type": "display_data"
    },
    {
     "data": {
      "application/vnd.jupyter.widget-view+json": {
       "model_id": "241fdc3d937740b7ad406fd031cfbedf",
       "version_major": 2,
       "version_minor": 0
      },
      "text/plain": [
       "HBox(children=(IntProgress(value=0, max=30), HTML(value='')))"
      ]
     },
     "metadata": {},
     "output_type": "display_data"
    },
    {
     "data": {
      "application/vnd.jupyter.widget-view+json": {
       "model_id": "70df8ad5c3b54fda91ba09ea31c92df0",
       "version_major": 2,
       "version_minor": 0
      },
      "text/plain": [
       "HBox(children=(IntProgress(value=0, max=31), HTML(value='')))"
      ]
     },
     "metadata": {},
     "output_type": "display_data"
    },
    {
     "data": {
      "application/vnd.jupyter.widget-view+json": {
       "model_id": "3bf6cdd55d284bdc9fbed7973f7a3872",
       "version_major": 2,
       "version_minor": 0
      },
      "text/plain": [
       "HBox(children=(IntProgress(value=0, max=30), HTML(value='')))"
      ]
     },
     "metadata": {},
     "output_type": "display_data"
    },
    {
     "data": {
      "application/vnd.jupyter.widget-view+json": {
       "model_id": "c874e5878a49431abf1ec8b55375b950",
       "version_major": 2,
       "version_minor": 0
      },
      "text/plain": [
       "HBox(children=(IntProgress(value=0, max=31), HTML(value='')))"
      ]
     },
     "metadata": {},
     "output_type": "display_data"
    },
    {
     "data": {
      "application/vnd.jupyter.widget-view+json": {
       "model_id": "7488faaabf33457584033a8e03ca690a",
       "version_major": 2,
       "version_minor": 0
      },
      "text/plain": [
       "HBox(children=(IntProgress(value=0, max=31), HTML(value='')))"
      ]
     },
     "metadata": {},
     "output_type": "display_data"
    },
    {
     "data": {
      "application/vnd.jupyter.widget-view+json": {
       "model_id": "212b5b4070cb444593722c5e5e4dd848",
       "version_major": 2,
       "version_minor": 0
      },
      "text/plain": [
       "HBox(children=(IntProgress(value=0, max=30), HTML(value='')))"
      ]
     },
     "metadata": {},
     "output_type": "display_data"
    },
    {
     "data": {
      "application/vnd.jupyter.widget-view+json": {
       "model_id": "62980f4a0d234e5c8a61b8d37e4794d9",
       "version_major": 2,
       "version_minor": 0
      },
      "text/plain": [
       "HBox(children=(IntProgress(value=0, max=31), HTML(value='')))"
      ]
     },
     "metadata": {},
     "output_type": "display_data"
    },
    {
     "data": {
      "application/vnd.jupyter.widget-view+json": {
       "model_id": "b0a1b10b8e1c46d7b68df85402a9a64e",
       "version_major": 2,
       "version_minor": 0
      },
      "text/plain": [
       "HBox(children=(IntProgress(value=0, max=30), HTML(value='')))"
      ]
     },
     "metadata": {},
     "output_type": "display_data"
    },
    {
     "data": {
      "application/vnd.jupyter.widget-view+json": {
       "model_id": "228de942817b4d9a985e86be551ef225",
       "version_major": 2,
       "version_minor": 0
      },
      "text/plain": [
       "HBox(children=(IntProgress(value=0, max=31), HTML(value='')))"
      ]
     },
     "metadata": {},
     "output_type": "display_data"
    },
    {
     "data": {
      "application/vnd.jupyter.widget-view+json": {
       "model_id": "cbd4d4e39000485e93c74d470761444f",
       "version_major": 2,
       "version_minor": 0
      },
      "text/plain": [
       "HBox(children=(IntProgress(value=0, max=31), HTML(value='')))"
      ]
     },
     "metadata": {},
     "output_type": "display_data"
    },
    {
     "data": {
      "application/vnd.jupyter.widget-view+json": {
       "model_id": "51376ba0e836491f805b21eff4b80013",
       "version_major": 2,
       "version_minor": 0
      },
      "text/plain": [
       "HBox(children=(IntProgress(value=0, max=28), HTML(value='')))"
      ]
     },
     "metadata": {},
     "output_type": "display_data"
    },
    {
     "name": "stdout",
     "output_type": "stream",
     "text": [
      "\n"
     ]
    }
   ],
   "source": [
    "my_date = date(2017, 1, 1)\n",
    "movie_code_list_all=pd.DataFrame()\n",
    "for i in tqdm_notebook(range(14)): # 14개월 추출이라서 range(14)\n",
    "    start_date = my_date + relativedelta(months=i)\n",
    "    end_date = start_date + relativedelta(months=1) - timedelta(days=1)\n",
    "    \n",
    "    daily_boxoffice_data = daily_boxoffice(start_date, end_date)\n",
    "    startdate=start_date.strftime('%Y%m%d')\n",
    "    enddate=end_date.strftime('%Y%m%d')\n",
    "    \n",
    "    movie_code_list = pd.DataFrame({'movieCd' :daily_boxoffice_data.movieCd.drop_duplicates(), 'movieNm':daily_boxoffice_data.movieNm.drop_duplicates(), 'director':'','Rate' : 0})\n",
    "    \n",
    "    \n",
    "    daily_boxoffice_data.to_csv(movie_info_path+\"data/\"+\"daily_\"+startdate+\"~\"+enddate+\".csv\", index=False)\n",
    "    \n",
    "    \n",
    "    movie_code_list_all = movie_code_list.append(movie_code_list_all)\n",
    "    movie_code_list_all = movie_code_list_all.drop_duplicates()\n",
    "    movie_code_list_all.to_csv(movie_info_path+\"data/\"+\"movie_code_list_all.csv\", index=False)"
   ]
  },
  {
   "cell_type": "code",
   "execution_count": 7,
   "metadata": {
    "scrolled": true
   },
   "outputs": [
    {
     "data": {
      "text/html": [
       "<div>\n",
       "<style scoped>\n",
       "    .dataframe tbody tr th:only-of-type {\n",
       "        vertical-align: middle;\n",
       "    }\n",
       "\n",
       "    .dataframe tbody tr th {\n",
       "        vertical-align: top;\n",
       "    }\n",
       "\n",
       "    .dataframe thead th {\n",
       "        text-align: right;\n",
       "    }\n",
       "</style>\n",
       "<table border=\"1\" class=\"dataframe\">\n",
       "  <thead>\n",
       "    <tr style=\"text-align: right;\">\n",
       "      <th></th>\n",
       "      <th>Rate</th>\n",
       "      <th>director</th>\n",
       "      <th>movieCd</th>\n",
       "      <th>movieNm</th>\n",
       "    </tr>\n",
       "  </thead>\n",
       "  <tbody>\n",
       "    <tr>\n",
       "      <th>0</th>\n",
       "      <td>0</td>\n",
       "      <td></td>\n",
       "      <td>20168323</td>\n",
       "      <td>염력</td>\n",
       "    </tr>\n",
       "    <tr>\n",
       "      <th>1</th>\n",
       "      <td>0</td>\n",
       "      <td></td>\n",
       "      <td>20176104</td>\n",
       "      <td>그것만이 내 세상</td>\n",
       "    </tr>\n",
       "    <tr>\n",
       "      <th>2</th>\n",
       "      <td>0</td>\n",
       "      <td></td>\n",
       "      <td>20178126</td>\n",
       "      <td>인시디어스4: 라스트 키</td>\n",
       "    </tr>\n",
       "    <tr>\n",
       "      <th>3</th>\n",
       "      <td>0</td>\n",
       "      <td></td>\n",
       "      <td>20179985</td>\n",
       "      <td>코코</td>\n",
       "    </tr>\n",
       "    <tr>\n",
       "      <th>4</th>\n",
       "      <td>0</td>\n",
       "      <td></td>\n",
       "      <td>20150976</td>\n",
       "      <td>신과함께-죄와 벌</td>\n",
       "    </tr>\n",
       "  </tbody>\n",
       "</table>\n",
       "</div>"
      ],
      "text/plain": [
       "   Rate director   movieCd        movieNm\n",
       "0     0           20168323             염력\n",
       "1     0           20176104      그것만이 내 세상\n",
       "2     0           20178126  인시디어스4: 라스트 키\n",
       "3     0           20179985             코코\n",
       "4     0           20150976      신과함께-죄와 벌"
      ]
     },
     "execution_count": 7,
     "metadata": {},
     "output_type": "execute_result"
    }
   ],
   "source": [
    "movie_code_list_all.head()"
   ]
  },
  {
   "cell_type": "code",
   "execution_count": null,
   "metadata": {},
   "outputs": [],
   "source": []
  },
  {
   "cell_type": "code",
   "execution_count": null,
   "metadata": {},
   "outputs": [],
   "source": []
  },
  {
   "cell_type": "markdown",
   "metadata": {},
   "source": [
    "### 5) 일일 데이터를 하나로 합치기\n"
   ]
  },
  {
   "cell_type": "code",
   "execution_count": 8,
   "metadata": {},
   "outputs": [],
   "source": [
    "# start_date = date(2017,1,1)\n",
    "# end_date = date(2018,2,28)\n",
    "# a = daily_boxoffice(start_date, end_date)\n",
    "# a"
   ]
  },
  {
   "cell_type": "code",
   "execution_count": null,
   "metadata": {},
   "outputs": [],
   "source": []
  },
  {
   "cell_type": "code",
   "execution_count": null,
   "metadata": {},
   "outputs": [],
   "source": []
  },
  {
   "cell_type": "markdown",
   "metadata": {},
   "source": [
    "# 3.2 영화 상세정보 "
   ]
  },
  {
   "cell_type": "markdown",
   "metadata": {},
   "source": [
    "### 1) kobis API를 통해 영화 정보 데이터를 받아온다.\n",
    "### 파일 이름은 movie_info 이고\n",
    "### csv 파일 형식으로 저장한다."
   ]
  },
  {
   "cell_type": "code",
   "execution_count": 9,
   "metadata": {},
   "outputs": [],
   "source": [
    "#영화데이터  : txt 로 저장 함수 정의\n",
    "def movie_data(lists) :    \n",
    "    dict_list = dict()\n",
    "    url = 'http://www.kobis.or.kr/kobisopenapi/webservice/rest/movie/searchMovieInfo.json'\n",
    "    \n",
    "    for movie in lists :\n",
    "        #print(movie)\n",
    "        dic={ 'key' : key, 'movieCd' : movie}        \n",
    "        req = requests.get(url, params = dic)\n",
    "        \n",
    "        dict_list[movie] = req.json()['movieInfoResult']['movieInfo'] #dict_list[movie] 가 있어야 append형식으로 됨. 없으면 마지막것만 추출\n",
    "    return dict_list"
   ]
  },
  {
   "cell_type": "code",
   "execution_count": 10,
   "metadata": {},
   "outputs": [],
   "source": [
    "movie_info=movie_data(movie_code_list_all.movieCd) \n",
    "with open(movie_info_path+'raw_data/movie_info/movie_info.txt', 'w', encoding='utf-8') as outfile:   #딕셔너리를 json으로 저장\n",
    "    json.dump(movie_info, outfile, ensure_ascii=False)"
   ]
  },
  {
   "cell_type": "code",
   "execution_count": null,
   "metadata": {},
   "outputs": [],
   "source": []
  },
  {
   "cell_type": "markdown",
   "metadata": {},
   "source": [
    "### 2)  movie_code_list_all 에 dirctors 삽입"
   ]
  },
  {
   "cell_type": "code",
   "execution_count": 11,
   "metadata": {
    "scrolled": true
   },
   "outputs": [
    {
     "data": {
      "text/html": [
       "<div>\n",
       "<style scoped>\n",
       "    .dataframe tbody tr th:only-of-type {\n",
       "        vertical-align: middle;\n",
       "    }\n",
       "\n",
       "    .dataframe tbody tr th {\n",
       "        vertical-align: top;\n",
       "    }\n",
       "\n",
       "    .dataframe thead th {\n",
       "        text-align: right;\n",
       "    }\n",
       "</style>\n",
       "<table border=\"1\" class=\"dataframe\">\n",
       "  <thead>\n",
       "    <tr style=\"text-align: right;\">\n",
       "      <th></th>\n",
       "      <th>Rate</th>\n",
       "      <th>director</th>\n",
       "      <th>movieCd</th>\n",
       "      <th>movieNm</th>\n",
       "    </tr>\n",
       "  </thead>\n",
       "  <tbody>\n",
       "    <tr>\n",
       "      <th>0</th>\n",
       "      <td>0</td>\n",
       "      <td></td>\n",
       "      <td>20168323</td>\n",
       "      <td>염력</td>\n",
       "    </tr>\n",
       "    <tr>\n",
       "      <th>1</th>\n",
       "      <td>0</td>\n",
       "      <td></td>\n",
       "      <td>20176104</td>\n",
       "      <td>그것만이 내 세상</td>\n",
       "    </tr>\n",
       "    <tr>\n",
       "      <th>2</th>\n",
       "      <td>0</td>\n",
       "      <td></td>\n",
       "      <td>20178126</td>\n",
       "      <td>인시디어스4: 라스트 키</td>\n",
       "    </tr>\n",
       "    <tr>\n",
       "      <th>3</th>\n",
       "      <td>0</td>\n",
       "      <td></td>\n",
       "      <td>20179985</td>\n",
       "      <td>코코</td>\n",
       "    </tr>\n",
       "    <tr>\n",
       "      <th>4</th>\n",
       "      <td>0</td>\n",
       "      <td></td>\n",
       "      <td>20150976</td>\n",
       "      <td>신과함께-죄와 벌</td>\n",
       "    </tr>\n",
       "    <tr>\n",
       "      <th>5</th>\n",
       "      <td>0</td>\n",
       "      <td></td>\n",
       "      <td>20175054</td>\n",
       "      <td>메이즈 러너: 데스 큐어</td>\n",
       "    </tr>\n",
       "    <tr>\n",
       "      <th>6</th>\n",
       "      <td>0</td>\n",
       "      <td></td>\n",
       "      <td>20178395</td>\n",
       "      <td>12 솔져스</td>\n",
       "    </tr>\n",
       "    <tr>\n",
       "      <th>7</th>\n",
       "      <td>0</td>\n",
       "      <td></td>\n",
       "      <td>20170590</td>\n",
       "      <td>1987</td>\n",
       "    </tr>\n",
       "    <tr>\n",
       "      <th>8</th>\n",
       "      <td>0</td>\n",
       "      <td></td>\n",
       "      <td>20179228</td>\n",
       "      <td>마야2</td>\n",
       "    </tr>\n",
       "    <tr>\n",
       "      <th>9</th>\n",
       "      <td>0</td>\n",
       "      <td></td>\n",
       "      <td>20179205</td>\n",
       "      <td>조선명탐정: 흡혈괴마의 비밀</td>\n",
       "    </tr>\n",
       "    <tr>\n",
       "      <th>10</th>\n",
       "      <td>0</td>\n",
       "      <td></td>\n",
       "      <td>20178469</td>\n",
       "      <td>올 더 머니</td>\n",
       "    </tr>\n",
       "    <tr>\n",
       "      <th>11</th>\n",
       "      <td>0</td>\n",
       "      <td></td>\n",
       "      <td>19980074</td>\n",
       "      <td>타이타닉</td>\n",
       "    </tr>\n",
       "    <tr>\n",
       "      <th>12</th>\n",
       "      <td>0</td>\n",
       "      <td></td>\n",
       "      <td>20189901</td>\n",
       "      <td>더 포리너</td>\n",
       "    </tr>\n",
       "    <tr>\n",
       "      <th>13</th>\n",
       "      <td>0</td>\n",
       "      <td></td>\n",
       "      <td>20178672</td>\n",
       "      <td>패딩턴 2</td>\n",
       "    </tr>\n",
       "    <tr>\n",
       "      <th>14</th>\n",
       "      <td>0</td>\n",
       "      <td></td>\n",
       "      <td>20189761</td>\n",
       "      <td>터닝메카드W: 반다인의 비밀 특별판</td>\n",
       "    </tr>\n",
       "    <tr>\n",
       "      <th>15</th>\n",
       "      <td>0</td>\n",
       "      <td></td>\n",
       "      <td>20170841</td>\n",
       "      <td>리틀 포레스트</td>\n",
       "    </tr>\n",
       "    <tr>\n",
       "      <th>16</th>\n",
       "      <td>0</td>\n",
       "      <td></td>\n",
       "      <td>20170561</td>\n",
       "      <td>블랙 팬서</td>\n",
       "    </tr>\n",
       "    <tr>\n",
       "      <th>17</th>\n",
       "      <td>0</td>\n",
       "      <td></td>\n",
       "      <td>20168250</td>\n",
       "      <td>골든슬럼버</td>\n",
       "    </tr>\n",
       "    <tr>\n",
       "      <th>18</th>\n",
       "      <td>0</td>\n",
       "      <td></td>\n",
       "      <td>20176121</td>\n",
       "      <td>흥부: 글로 세상을 바꾼 자</td>\n",
       "    </tr>\n",
       "    <tr>\n",
       "      <th>19</th>\n",
       "      <td>0</td>\n",
       "      <td></td>\n",
       "      <td>20078561</td>\n",
       "      <td>명탐정 코난:감벽의 관</td>\n",
       "    </tr>\n",
       "    <tr>\n",
       "      <th>20</th>\n",
       "      <td>0</td>\n",
       "      <td></td>\n",
       "      <td>20179462</td>\n",
       "      <td>위대한 쇼맨</td>\n",
       "    </tr>\n",
       "    <tr>\n",
       "      <th>21</th>\n",
       "      <td>0</td>\n",
       "      <td></td>\n",
       "      <td>20164844</td>\n",
       "      <td>불한당: 나쁜 놈들의 세상</td>\n",
       "    </tr>\n",
       "    <tr>\n",
       "      <th>22</th>\n",
       "      <td>0</td>\n",
       "      <td></td>\n",
       "      <td>20177946</td>\n",
       "      <td>월요일이 사라졌다</td>\n",
       "    </tr>\n",
       "    <tr>\n",
       "      <th>23</th>\n",
       "      <td>0</td>\n",
       "      <td></td>\n",
       "      <td>20180542</td>\n",
       "      <td>50가지 그림자: 해방</td>\n",
       "    </tr>\n",
       "    <tr>\n",
       "      <th>24</th>\n",
       "      <td>0</td>\n",
       "      <td></td>\n",
       "      <td>20173436</td>\n",
       "      <td>셰이프 오브 워터: 사랑의 모양</td>\n",
       "    </tr>\n",
       "    <tr>\n",
       "      <th>25</th>\n",
       "      <td>0</td>\n",
       "      <td></td>\n",
       "      <td>20189882</td>\n",
       "      <td>반딧불이 딘딘</td>\n",
       "    </tr>\n",
       "    <tr>\n",
       "      <th>26</th>\n",
       "      <td>0</td>\n",
       "      <td></td>\n",
       "      <td>20150969</td>\n",
       "      <td>궁합</td>\n",
       "    </tr>\n",
       "    <tr>\n",
       "      <th>27</th>\n",
       "      <td>0</td>\n",
       "      <td></td>\n",
       "      <td>20179731</td>\n",
       "      <td>나미야 잡화점의 기적</td>\n",
       "    </tr>\n",
       "    <tr>\n",
       "      <th>28</th>\n",
       "      <td>0</td>\n",
       "      <td></td>\n",
       "      <td>20180341</td>\n",
       "      <td>레드 스패로</td>\n",
       "    </tr>\n",
       "    <tr>\n",
       "      <th>29</th>\n",
       "      <td>0</td>\n",
       "      <td></td>\n",
       "      <td>20189861</td>\n",
       "      <td>더 포스트</td>\n",
       "    </tr>\n",
       "    <tr>\n",
       "      <th>...</th>\n",
       "      <td>...</td>\n",
       "      <td>...</td>\n",
       "      <td>...</td>\n",
       "      <td>...</td>\n",
       "    </tr>\n",
       "    <tr>\n",
       "      <th>294</th>\n",
       "      <td>0</td>\n",
       "      <td></td>\n",
       "      <td>20161141</td>\n",
       "      <td>50가지 그림자: 심연</td>\n",
       "    </tr>\n",
       "    <tr>\n",
       "      <th>295</th>\n",
       "      <td>0</td>\n",
       "      <td></td>\n",
       "      <td>20163580</td>\n",
       "      <td>그레이트 월</td>\n",
       "    </tr>\n",
       "    <tr>\n",
       "      <th>296</th>\n",
       "      <td>0</td>\n",
       "      <td></td>\n",
       "      <td>20167362</td>\n",
       "      <td>더 큐어</td>\n",
       "    </tr>\n",
       "    <tr>\n",
       "      <th>297</th>\n",
       "      <td>0</td>\n",
       "      <td></td>\n",
       "      <td>20161366</td>\n",
       "      <td>그래, 가족</td>\n",
       "    </tr>\n",
       "    <tr>\n",
       "      <th>298</th>\n",
       "      <td>0</td>\n",
       "      <td></td>\n",
       "      <td>20167906</td>\n",
       "      <td>마이펫 오지</td>\n",
       "    </tr>\n",
       "    <tr>\n",
       "      <th>299</th>\n",
       "      <td>0</td>\n",
       "      <td></td>\n",
       "      <td>20161723</td>\n",
       "      <td>싱글라이더</td>\n",
       "    </tr>\n",
       "    <tr>\n",
       "      <th>300</th>\n",
       "      <td>0</td>\n",
       "      <td></td>\n",
       "      <td>20156562</td>\n",
       "      <td>루시드 드림</td>\n",
       "    </tr>\n",
       "    <tr>\n",
       "      <th>301</th>\n",
       "      <td>0</td>\n",
       "      <td></td>\n",
       "      <td>20167922</td>\n",
       "      <td>핵소 고지</td>\n",
       "    </tr>\n",
       "    <tr>\n",
       "      <th>302</th>\n",
       "      <td>0</td>\n",
       "      <td></td>\n",
       "      <td>20161725</td>\n",
       "      <td>마스터</td>\n",
       "    </tr>\n",
       "    <tr>\n",
       "      <th>303</th>\n",
       "      <td>0</td>\n",
       "      <td></td>\n",
       "      <td>20163183</td>\n",
       "      <td>로그 원: 스타워즈 스토리</td>\n",
       "    </tr>\n",
       "    <tr>\n",
       "      <th>304</th>\n",
       "      <td>0</td>\n",
       "      <td></td>\n",
       "      <td>20162025</td>\n",
       "      <td>씽</td>\n",
       "    </tr>\n",
       "    <tr>\n",
       "      <th>305</th>\n",
       "      <td>0</td>\n",
       "      <td></td>\n",
       "      <td>20144641</td>\n",
       "      <td>판도라</td>\n",
       "    </tr>\n",
       "    <tr>\n",
       "      <th>306</th>\n",
       "      <td>0</td>\n",
       "      <td></td>\n",
       "      <td>20162727</td>\n",
       "      <td>루돌프와 많이있어</td>\n",
       "    </tr>\n",
       "    <tr>\n",
       "      <th>307</th>\n",
       "      <td>0</td>\n",
       "      <td></td>\n",
       "      <td>20162183</td>\n",
       "      <td>포켓몬 더 무비 XY&amp;Z 「볼케니온 : 기계왕국의 비밀」</td>\n",
       "    </tr>\n",
       "    <tr>\n",
       "      <th>308</th>\n",
       "      <td>0</td>\n",
       "      <td></td>\n",
       "      <td>20152371</td>\n",
       "      <td>당신, 거기 있어줄래요</td>\n",
       "    </tr>\n",
       "    <tr>\n",
       "      <th>309</th>\n",
       "      <td>0</td>\n",
       "      <td></td>\n",
       "      <td>20165285</td>\n",
       "      <td>극장판 도라에몽: 신 진구의 버스 오브 재팬</td>\n",
       "    </tr>\n",
       "    <tr>\n",
       "      <th>310</th>\n",
       "      <td>0</td>\n",
       "      <td></td>\n",
       "      <td>19890291</td>\n",
       "      <td>해리가 샐리를 만났을 때</td>\n",
       "    </tr>\n",
       "    <tr>\n",
       "      <th>311</th>\n",
       "      <td>0</td>\n",
       "      <td></td>\n",
       "      <td>20161763</td>\n",
       "      <td>나, 다니엘 블레이크</td>\n",
       "    </tr>\n",
       "    <tr>\n",
       "      <th>312</th>\n",
       "      <td>0</td>\n",
       "      <td></td>\n",
       "      <td>20163014</td>\n",
       "      <td>7년-그들이 없는 언론</td>\n",
       "    </tr>\n",
       "    <tr>\n",
       "      <th>313</th>\n",
       "      <td>0</td>\n",
       "      <td></td>\n",
       "      <td>20161084</td>\n",
       "      <td>패신저스</td>\n",
       "    </tr>\n",
       "    <tr>\n",
       "      <th>314</th>\n",
       "      <td>0</td>\n",
       "      <td></td>\n",
       "      <td>20150966</td>\n",
       "      <td>사랑하기 때문에</td>\n",
       "    </tr>\n",
       "    <tr>\n",
       "      <th>315</th>\n",
       "      <td>0</td>\n",
       "      <td></td>\n",
       "      <td>20165153</td>\n",
       "      <td>눈의 여왕 3: 눈과 불의 마법대결</td>\n",
       "    </tr>\n",
       "    <tr>\n",
       "      <th>316</th>\n",
       "      <td>0</td>\n",
       "      <td></td>\n",
       "      <td>20151181</td>\n",
       "      <td>여교사</td>\n",
       "    </tr>\n",
       "    <tr>\n",
       "      <th>317</th>\n",
       "      <td>0</td>\n",
       "      <td></td>\n",
       "      <td>20164421</td>\n",
       "      <td>어쌔신 크리드</td>\n",
       "    </tr>\n",
       "    <tr>\n",
       "      <th>318</th>\n",
       "      <td>0</td>\n",
       "      <td></td>\n",
       "      <td>20168381</td>\n",
       "      <td>얼라이드</td>\n",
       "    </tr>\n",
       "    <tr>\n",
       "      <th>319</th>\n",
       "      <td>0</td>\n",
       "      <td></td>\n",
       "      <td>20168324</td>\n",
       "      <td>반지의 제왕 : 반지원정대 (확장판)</td>\n",
       "    </tr>\n",
       "    <tr>\n",
       "      <th>320</th>\n",
       "      <td>0</td>\n",
       "      <td></td>\n",
       "      <td>20168664</td>\n",
       "      <td>반지의 제왕 : 두개의 탑 (확장판)</td>\n",
       "    </tr>\n",
       "    <tr>\n",
       "      <th>321</th>\n",
       "      <td>0</td>\n",
       "      <td></td>\n",
       "      <td>20163186</td>\n",
       "      <td>단지 세상의 끝</td>\n",
       "    </tr>\n",
       "    <tr>\n",
       "      <th>322</th>\n",
       "      <td>0</td>\n",
       "      <td></td>\n",
       "      <td>20168689</td>\n",
       "      <td>반지의 제왕 : 왕의 귀환 (확장판)</td>\n",
       "    </tr>\n",
       "    <tr>\n",
       "      <th>323</th>\n",
       "      <td>0</td>\n",
       "      <td></td>\n",
       "      <td>20168366</td>\n",
       "      <td>바다 탐험대 옥토넛 시즌4: 바다 괴물 대소동</td>\n",
       "    </tr>\n",
       "  </tbody>\n",
       "</table>\n",
       "<p>324 rows × 4 columns</p>\n",
       "</div>"
      ],
      "text/plain": [
       "     Rate director   movieCd                          movieNm\n",
       "0       0           20168323                               염력\n",
       "1       0           20176104                        그것만이 내 세상\n",
       "2       0           20178126                    인시디어스4: 라스트 키\n",
       "3       0           20179985                               코코\n",
       "4       0           20150976                        신과함께-죄와 벌\n",
       "5       0           20175054                    메이즈 러너: 데스 큐어\n",
       "6       0           20178395                           12 솔져스\n",
       "7       0           20170590                             1987\n",
       "8       0           20179228                              마야2\n",
       "9       0           20179205                  조선명탐정: 흡혈괴마의 비밀\n",
       "10      0           20178469                           올 더 머니\n",
       "11      0           19980074                             타이타닉\n",
       "12      0           20189901                            더 포리너\n",
       "13      0           20178672                            패딩턴 2\n",
       "14      0           20189761              터닝메카드W: 반다인의 비밀 특별판\n",
       "15      0           20170841                          리틀 포레스트\n",
       "16      0           20170561                            블랙 팬서\n",
       "17      0           20168250                            골든슬럼버\n",
       "18      0           20176121                  흥부: 글로 세상을 바꾼 자\n",
       "19      0           20078561                     명탐정 코난:감벽의 관\n",
       "20      0           20179462                           위대한 쇼맨\n",
       "21      0           20164844                   불한당: 나쁜 놈들의 세상\n",
       "22      0           20177946                        월요일이 사라졌다\n",
       "23      0           20180542                     50가지 그림자: 해방\n",
       "24      0           20173436                셰이프 오브 워터: 사랑의 모양\n",
       "25      0           20189882                          반딧불이 딘딘\n",
       "26      0           20150969                               궁합\n",
       "27      0           20179731                      나미야 잡화점의 기적\n",
       "28      0           20180341                           레드 스패로\n",
       "29      0           20189861                            더 포스트\n",
       "..    ...      ...       ...                              ...\n",
       "294     0           20161141                     50가지 그림자: 심연\n",
       "295     0           20163580                           그레이트 월\n",
       "296     0           20167362                             더 큐어\n",
       "297     0           20161366                           그래, 가족\n",
       "298     0           20167906                           마이펫 오지\n",
       "299     0           20161723                            싱글라이더\n",
       "300     0           20156562                           루시드 드림\n",
       "301     0           20167922                            핵소 고지\n",
       "302     0           20161725                              마스터\n",
       "303     0           20163183                   로그 원: 스타워즈 스토리\n",
       "304     0           20162025                                씽\n",
       "305     0           20144641                              판도라\n",
       "306     0           20162727                        루돌프와 많이있어\n",
       "307     0           20162183  포켓몬 더 무비 XY&Z 「볼케니온 : 기계왕국의 비밀」\n",
       "308     0           20152371                     당신, 거기 있어줄래요\n",
       "309     0           20165285         극장판 도라에몽: 신 진구의 버스 오브 재팬\n",
       "310     0           19890291                    해리가 샐리를 만났을 때\n",
       "311     0           20161763                      나, 다니엘 블레이크\n",
       "312     0           20163014                     7년-그들이 없는 언론\n",
       "313     0           20161084                             패신저스\n",
       "314     0           20150966                         사랑하기 때문에\n",
       "315     0           20165153              눈의 여왕 3: 눈과 불의 마법대결\n",
       "316     0           20151181                              여교사\n",
       "317     0           20164421                          어쌔신 크리드\n",
       "318     0           20168381                             얼라이드\n",
       "319     0           20168324             반지의 제왕 : 반지원정대 (확장판)\n",
       "320     0           20168664             반지의 제왕 : 두개의 탑 (확장판)\n",
       "321     0           20163186                         단지 세상의 끝\n",
       "322     0           20168689             반지의 제왕 : 왕의 귀환 (확장판)\n",
       "323     0           20168366        바다 탐험대 옥토넛 시즌4: 바다 괴물 대소동\n",
       "\n",
       "[324 rows x 4 columns]"
      ]
     },
     "execution_count": 11,
     "metadata": {},
     "output_type": "execute_result"
    }
   ],
   "source": [
    "movie_code_list_all.reset_index(drop=True, inplace=True)\n",
    "movie_code_list_all"
   ]
  },
  {
   "cell_type": "code",
   "execution_count": 12,
   "metadata": {},
   "outputs": [],
   "source": [
    "#movie_info의  director를 뽑아서 movie_code_list에 넣기\n",
    "movie_info_keys=list(movie_info.keys())\n",
    "#movie_info_keys"
   ]
  },
  {
   "cell_type": "code",
   "execution_count": 18,
   "metadata": {},
   "outputs": [
    {
     "name": "stderr",
     "output_type": "stream",
     "text": [
      "/home/ubuntu/.local/lib/python3.6/site-packages/ipykernel_launcher.py:5: SettingWithCopyWarning: \n",
      "A value is trying to be set on a copy of a slice from a DataFrame\n",
      "\n",
      "See the caveats in the documentation: http://pandas.pydata.org/pandas-docs/stable/indexing.html#indexing-view-versus-copy\n",
      "  \"\"\"\n",
      "/usr/lib/python3/dist-packages/pandas/core/indexing.py:194: SettingWithCopyWarning: \n",
      "A value is trying to be set on a copy of a slice from a DataFrame\n",
      "\n",
      "See the caveats in the documentation: http://pandas.pydata.org/pandas-docs/stable/indexing.html#indexing-view-versus-copy\n",
      "  self._setitem_with_indexer(indexer, value)\n",
      "/home/ubuntu/.local/lib/python3.6/site-packages/ipykernel_launcher.py:8: SettingWithCopyWarning: \n",
      "A value is trying to be set on a copy of a slice from a DataFrame\n",
      "\n",
      "See the caveats in the documentation: http://pandas.pydata.org/pandas-docs/stable/indexing.html#indexing-view-versus-copy\n",
      "  \n"
     ]
    }
   ],
   "source": [
    "for i in range(len(movie_code_list_all)):\n",
    "    with open(movie_info_path+'raw_data/movie_info/movie_info.txt', 'r', encoding=\"utf-8\") as make_file:\n",
    "        d = json.load(make_file)\n",
    "    if(d[movie_info_keys[i]]['directors'] != []):\n",
    "        movie_code_list_all['director'][i]=d[movie_info_keys[i]]['directors'][0]['peopleNm']\n",
    "        \n",
    "    else:\n",
    "        movie_code_list_all['director'][i] = '---'"
   ]
  },
  {
   "cell_type": "code",
   "execution_count": 19,
   "metadata": {
    "scrolled": true
   },
   "outputs": [],
   "source": [
    "movie_code_list_all.to_csv(movie_info_path+\"data/movie_code_add_director.csv\")"
   ]
  },
  {
   "cell_type": "code",
   "execution_count": 15,
   "metadata": {},
   "outputs": [],
   "source": [
    "with open('movie_info.txt', 'w', encoding='utf-8') as outfile:   #딕셔너리를 json으로 저장\n",
    "    json.dump(movie_info, outfile, ensure_ascii=False)"
   ]
  },
  {
   "cell_type": "code",
   "execution_count": 15,
   "metadata": {},
   "outputs": [],
   "source": [
    "def movie_info_api(df):\n",
    "    for i in tqdm(range(0,len(df['movieCd']))):\n",
    "        movieCd = str(df['movieCd'][i])\n",
    "\n",
    "        if(os.path.isfile(\"/home/ubuntu/movie/raw_data/movie_info/\"+movieCd+\".json\")):\n",
    "#             print(movieCd+\".json already exist!\")\n",
    "            pass\n",
    "        else:\n",
    "            url = 'http://www.kobis.or.kr/kobisopenapi/webservice/rest/movie/searchMovieInfo.json?key='\\\n",
    "                +key+'&movieCd='+movieCd    \n",
    "            res = requests.get(url)\n",
    "            text = res.text\n",
    "            d = json.loads(text)\n",
    "#             print(movieCd+\".json is created!\")\n",
    "            with open('/home/ubuntu/movie/raw_data/movie_info/'+movieCd+'.json', 'w', encoding=\"utf-8\") as make_file:\n",
    "                json.dump(d, make_file, ensure_ascii=False, indent=\"\\t\")"
   ]
  },
  {
   "cell_type": "code",
   "execution_count": 16,
   "metadata": {},
   "outputs": [
    {
     "name": "stderr",
     "output_type": "stream",
     "text": [
      "100%|██████████| 324/324 [00:32<00:00,  9.91it/s]  \n"
     ]
    }
   ],
   "source": [
    "df = pd.read_csv('/home/ubuntu/movie/data/movie_code_list_all.csv')\n",
    "movie_info_api(df)"
   ]
  },
  {
   "cell_type": "code",
   "execution_count": null,
   "metadata": {},
   "outputs": [],
   "source": []
  },
  {
   "cell_type": "code",
   "execution_count": null,
   "metadata": {},
   "outputs": [],
   "source": []
  }
 ],
 "metadata": {
  "kernelspec": {
   "display_name": "Python 3",
   "language": "python",
   "name": "python3"
  },
  "language_info": {
   "codemirror_mode": {
    "name": "ipython",
    "version": 3
   },
   "file_extension": ".py",
   "mimetype": "text/x-python",
   "name": "python",
   "nbconvert_exporter": "python",
   "pygments_lexer": "ipython3",
   "version": "3.6.7"
  }
 },
 "nbformat": 4,
 "nbformat_minor": 2
}
