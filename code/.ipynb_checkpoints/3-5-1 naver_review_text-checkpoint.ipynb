{
 "cells": [
  {
   "cell_type": "code",
   "execution_count": null,
   "metadata": {
    "scrolled": false
   },
   "outputs": [],
   "source": [
    "import requests\n",
    "from bs4 import BeautifulSoup\n",
    "from datetime import datetime\n",
    "import sys\n",
    "import pandas as pd\n",
    "from tqdm import tqdm_notebook\n",
    "import multiprocessing\n",
    "\n",
    "af='after'\n",
    "be='before'\n",
    "lis = pd.read_csv('/home/ubuntu/movie/data/naver_movie_all.csv')\n",
    "movie_lis =[]\n",
    "\n",
    "for i in range(len(lis['naver_movieCd'])):\n",
    "    movie_lis.insert(i,str(lis['naver_movieCd'][i])[:-2])\n",
    "# len(movie_lis)\n",
    "\n",
    "def func12(code):\n",
    "    lists = []\n",
    "#     code=str(movie_lis[i])[:-2]\n",
    "    test_url = 'https://movie.naver.com/movie/bi/mi/pointWriteFormList.nhn?code='+code+'&type='+af+'&onlyActualPointYn=N&order=newest'\n",
    "    resp = requests.get(test_url)\n",
    "    html = BeautifulSoup(resp.content, 'html.parser')\n",
    "    result = html.find('div', {'class':'score_total'}).find('strong').findChildren('em')[1].getText()\n",
    "    total_count = int(result.replace(',', ''))\n",
    "    print(code)\n",
    "    if(4000 <= total_count < 5000):\n",
    "        for i in tqdm_notebook(range(1,int(total_count / 10) + 2)):\n",
    "\n",
    "            url = test_url + '&page=' + str(i)\n",
    "            resp = requests.get(url)\n",
    "            html = BeautifulSoup(resp.content, 'html.parser')\n",
    "            score_result = html.find('div', {'class': 'score_result'})\n",
    "            lis = score_result.findAll('li')\n",
    "            for li in lis:\n",
    "                try:\n",
    "                    a = []\n",
    "                    created_at = li.find('dt').findAll('em')[-1].getText()[0:10]\n",
    "                    created_at = created_at.replace(\".\",\"\")\n",
    "                    score = li.find('em').getText()\n",
    "                    review_text = li.find('p').getText()\n",
    "                    a = [created_at, score, review_text]\n",
    "                    lists.append(a)\n",
    "                except AttributeError:\n",
    "                    pass\n",
    "\n",
    "        df = pd.DataFrame(lists)\n",
    "        df.to_csv('/home/ubuntu/movie/data/'+af+'/'+code+'.csv',index=False)\n",
    "    else:\n",
    "        print(\"total_count over \",total_count)\n",
    "        \n",
    "pool = multiprocessing.Pool(processes=8)\n",
    "pool.map(func12,movie_lis)\n",
    "pool.close()\n",
    "pool.join()"
   ]
  },
  {
   "cell_type": "code",
   "execution_count": null,
   "metadata": {},
   "outputs": [],
   "source": [
    "134772 (147092 or 154214)"
   ]
  },
  {
   "cell_type": "code",
   "execution_count": 2,
   "metadata": {},
   "outputs": [
    {
     "data": {
      "text/plain": [
       "304"
      ]
     },
     "execution_count": 2,
     "metadata": {},
     "output_type": "execute_result"
    }
   ],
   "source": [
    "import glob\n",
    "lis = glob.glob('/home/ubuntu/movie/data/before/*.csv')\n",
    "len(lis)"
   ]
  },
  {
   "cell_type": "code",
   "execution_count": null,
   "metadata": {},
   "outputs": [],
   "source": [
    "import requests\n",
    "from bs4 import BeautifulSoup\n",
    "from datetime import datetime\n",
    "import sys\n",
    "import pandas as pd\n",
    "from tqdm import tqdm_notebook\n",
    "import multiprocessing\n",
    "\n",
    "pool = multiprocessing.Pool(processes=8)\n",
    "pool.map(func12,lis3)\n",
    "pool.close()\n",
    "pool.join()"
   ]
  },
  {
   "cell_type": "code",
   "execution_count": null,
   "metadata": {},
   "outputs": [],
   "source": [
    "import glob\n",
    "lis = pd.read_csv('/home/ubuntu/movie/data/naver_movie_all.csv')\n",
    "movie_lis =[]\n",
    "lis2 = glob.glob('/home/ubuntu/movie/data/after/*.csv')\n",
    "for i in range(len(lis['naver_movieCd'])):\n",
    "    movie_lis.insert(i,str(lis['naver_movieCd'][i])[:-2])\n",
    "for i in range(len(lis2)):\n",
    "    lis2[i] = lis2[i][30:-4]\n"
   ]
  },
  {
   "cell_type": "code",
   "execution_count": null,
   "metadata": {},
   "outputs": [],
   "source": [
    "movie_lis2 = movie_lis\n",
    "for i in range(len(movie_lis2)):\n",
    "    for li in lis2:\n",
    "        if(movie_lis2[i] == li):\n",
    "            movie_lis2[i] = 0\n",
    "        else:\n",
    "            pass"
   ]
  },
  {
   "cell_type": "code",
   "execution_count": null,
   "metadata": {},
   "outputs": [],
   "source": [
    "len(movie_lis)"
   ]
  },
  {
   "cell_type": "code",
   "execution_count": null,
   "metadata": {},
   "outputs": [],
   "source": [
    "len(lis2)"
   ]
  },
  {
   "cell_type": "code",
   "execution_count": null,
   "metadata": {},
   "outputs": [],
   "source": [
    "lis3 = list(set(movie_lis2))\n",
    "len(lis3)"
   ]
  },
  {
   "cell_type": "code",
   "execution_count": null,
   "metadata": {},
   "outputs": [],
   "source": [
    "lis3"
   ]
  },
  {
   "cell_type": "code",
   "execution_count": null,
   "metadata": {},
   "outputs": [],
   "source": []
  }
 ],
 "metadata": {
  "kernelspec": {
   "display_name": "Python 3",
   "language": "python",
   "name": "python3"
  },
  "language_info": {
   "codemirror_mode": {
    "name": "ipython",
    "version": 3
   },
   "file_extension": ".py",
   "mimetype": "text/x-python",
   "name": "python",
   "nbconvert_exporter": "python",
   "pygments_lexer": "ipython3",
   "version": "3.6.7"
  }
 },
 "nbformat": 4,
 "nbformat_minor": 2
}
