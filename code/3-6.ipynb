{
 "cells": [
  {
   "cell_type": "code",
   "execution_count": null,
   "metadata": {},
   "outputs": [],
   "source": [
    "import requests\n",
    "from bs4 import BeautifulSoup\n",
    "from datetime import datetime\n",
    "import sys\n",
    "import os\n",
    "import pandas as pd\n",
    "from tqdm import tqdm_notebook\n",
    "import multiprocessing\n",
    "\n",
    "af='after'\n",
    "be='before'\n",
    "lis = pd.read_csv('/home/ubuntu/movie/data/naver_movie_all.csv')\n",
    "j=0\n",
    "movie_lis2=[]\n",
    "for i in range(len(lis['naver_movieCd'])):\n",
    "    if(os.path.isfile('/home/ubuntu/movie/data/after/'+str(lis['naver_movieCd'][i])[:-2]+'.csv') == True):\n",
    "        movie_lis2.insert(j,str(lis['naver_movieCd'][i])[:-2])\n",
    "        j+=1\n",
    "# movie_lis2"
   ]
  },
  {
   "cell_type": "code",
   "execution_count": 2,
   "metadata": {},
   "outputs": [],
   "source": [
    "import pandas as pd\n",
    "import numpy as np\n",
    "import multiprocessing"
   ]
  },
  {
   "cell_type": "code",
   "execution_count": null,
   "metadata": {},
   "outputs": [],
   "source": [
    "def func123(code):    \n",
    "    print(code)\n",
    "    df = pd.read_csv('/home/ubuntu/movie/data/after/'+code+'.csv')\n",
    "    df2 = df['0'].drop_duplicates()\n",
    "    \n",
    "    aa_list=[]\n",
    "    for i in tqdm_notebook(df2):\n",
    "        aa = np.where(df['0'] == i)\n",
    "        aa_list.append(aa)\n",
    "        \n",
    "    bb_list=[]\n",
    "    for i in tqdm_notebook(range(len(aa_list))):\n",
    "        tmp=0\n",
    "        tmp_score=0\n",
    "        len1 = len(aa_list[i][0])            \n",
    "        bb_list.append(len1)\n",
    "        \n",
    "    list2= pd.DataFrame(list(zip(df2,bb_list)))\n",
    "    list2.to_csv('/home/ubuntu/movie/data/after_rating/'+code+'_rating.csv',index=False)"
   ]
  },
  {
   "cell_type": "code",
   "execution_count": null,
   "metadata": {},
   "outputs": [],
   "source": [
    "for code in tqdm_notebook(movie_lis2):\n",
    "    func123(code)"
   ]
  },
  {
   "cell_type": "code",
   "execution_count": 6,
   "metadata": {},
   "outputs": [],
   "source": [
    "from tqdm import tqdm_notebook\n",
    "df1 = pd.read_csv('/home/ubuntu/movie/data/naver_movie_all.csv')\n",
    "\n",
    "def func22(i):\n",
    "    ncd = str(df1['naver_movieCd'][i])[:-2]\n",
    "    print(ncd)\n",
    "    try:\n",
    "        df2 = pd.read_csv('/home/ubuntu/movie/data/datalab/'+ncd+'_datalab.csv')\n",
    "        df3 = pd.read_csv('/home/ubuntu/movie/data/after_rating/'+ncd+'_rating.csv')\n",
    "    \n",
    "        for i in range(len(df3)):\n",
    "            df3['0'][i] = str(df3['0'][i])[0:4]+\"-\"+str(df3['0'][i])[4:6]+\"-\"+str(df3['0'][i])[6:8]\n",
    "        df3.rename(columns={\"0\":\"period\"}, inplace = True)\n",
    "        df4 = pd.merge(df2,df3,how='left',on='period')\n",
    "        df4.to_csv('/home/ubuntu/movie/data/merge/'+ncd+'_merge.csv',index=False)\n",
    "    except FileNotFoundError:\n",
    "        pass"
   ]
  },
  {
   "cell_type": "code",
   "execution_count": null,
   "metadata": {},
   "outputs": [],
   "source": [
    "import multiprocessing\n",
    "from tqdm import tqdm_notebook\n",
    "pool = multiprocessing.Pool(processes=4)\n",
    "pool.map(func22,range(0,len(df1)))\n",
    "pool.close()\n",
    "pool.join()"
   ]
  }
 ],
 "metadata": {
  "kernelspec": {
   "display_name": "Python 3",
   "language": "python",
   "name": "python3"
  },
  "language_info": {
   "codemirror_mode": {
    "name": "ipython",
    "version": 3
   },
   "file_extension": ".py",
   "mimetype": "text/x-python",
   "name": "python",
   "nbconvert_exporter": "python",
   "pygments_lexer": "ipython3",
   "version": "3.6.7"
  }
 },
 "nbformat": 4,
 "nbformat_minor": 2
}
