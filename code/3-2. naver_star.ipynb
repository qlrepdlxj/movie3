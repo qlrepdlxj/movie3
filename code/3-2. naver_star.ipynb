{
 "cells": [
  {
   "cell_type": "markdown",
   "metadata": {},
   "source": [
    "# 4. 네이버 OPEN API\n",
    "\n",
    "네이버 데이터 OPEN API를 사용하여 영화별 별점과 검색량 자료를 CSV파일로 저장\n",
    "\n",
    "## 1) 네이버 별점\n",
    "\n",
    "## 2) 네이버 datalab\n"
   ]
  },
  {
   "cell_type": "code",
   "execution_count": 1,
   "metadata": {},
   "outputs": [],
   "source": [
    "from bs4 import BeautifulSoup\n",
    "from urllib.request import urlopen\n",
    "import requests\n",
    "import pandas as pd\n",
    "from tqdm import tqdm\n",
    "from tqdm import tqdm_notebook\n",
    "from datetime import date\n",
    "import glob\n",
    "import multiprocessing\n",
    "import os"
   ]
  },
  {
   "cell_type": "code",
   "execution_count": 2,
   "metadata": {},
   "outputs": [],
   "source": [
    "# requests 모듈로 url 내용을 가져오고 BeautifulSoup로 내용 가공하기\n",
    "start_date = date(2017,1,1)\n",
    "end_date = date(2018,2,28)\n",
    "# Dt=20170101\n",
    "# m_name=[]\n",
    "# movie_dict=[]\n",
    "# movie_dict2=[]\n",
    "# dff2 = pd.DataFrame()\n",
    "#title_n = soup.find_all('div', 'tit3')\n",
    "\n",
    "# for single_date in tqdm_notebook(pd.date_range(start_date, end_date)):\n",
    "def naver_movie_daily_boxoffice(single_date):\n",
    "    j=0\n",
    "    movie_name=[]\n",
    "    movie_point=[]\n",
    "    targetDt = str(single_date)[0:4]+str(single_date)[5:7]+str(single_date)[8:10]\n",
    "    url = \"http://movie.naver.com/movie/sdb/rank/rmovie.nhn?sel=cnt&date=\"+targetDt\n",
    "    res = requests.get(url)\n",
    "    soup = BeautifulSoup(res.content, \"html.parser\")\n",
    "    b = soup.find_all('div','tit3')\n",
    "    title_n = soup.find_all('div', 'tit3')\n",
    "    # b = soup.find_all('div', 'tit3')[n]\n",
    "    # 전체 영화의 제목 뽑아옴\n",
    "    \n",
    "    \n",
    "    for n in range(0, len(title_n)):\n",
    "        movie_name.append(b[n].find('a').text)\n",
    "\n",
    "    # 전체 순위의 평점 뽑아옴\n",
    "        movie_point.append(b[n].find('a')['href'][28:])\n",
    "        \n",
    "    dff = list(zip(movie_name,movie_point))\n",
    "    dff = pd.DataFrame(dff)\n",
    "#     dff = dff.drop_duplicates()\n",
    "#     dff = dff.reset_index(drop=True)\n",
    "    dff.to_csv('/home/ubuntu/movie/tmp_data/'+targetDt+'.csv',index=False)\n",
    "    \n",
    "    # 하루만 저장됨 전체가 저장되는 코드 필요함"
   ]
  },
  {
   "cell_type": "code",
   "execution_count": 3,
   "metadata": {},
   "outputs": [],
   "source": [
    "cpu = os.cpu_count()\n",
    "date_list = pd.date_range(start_date, end_date)\n",
    "pool = multiprocessing.Pool(processes=cpu)\n",
    "pool.map(naver_movie_daily_boxoffice,date_list)\n",
    "pool.close()\n",
    "pool.join()"
   ]
  },
  {
   "cell_type": "code",
   "execution_count": 4,
   "metadata": {},
   "outputs": [],
   "source": [
    "tmp = glob.glob('/home/ubuntu/movie/tmp_data/*.csv')\n",
    "dff = pd.DataFrame()\n",
    "for i in tmp:\n",
    "    df = pd.read_csv(i)\n",
    "    dff = pd.concat([df,dff])\n",
    "dff.to_csv('/home/ubuntu/movie/data/naver_boxoffice.csv',index=False)"
   ]
  },
  {
   "cell_type": "code",
   "execution_count": 5,
   "metadata": {},
   "outputs": [],
   "source": [
    "tmp_data = glob.glob('/home/ubuntu/movie/tmp_data/*.csv')\n",
    "for data in tmp_data:\n",
    "    os.remove(data)"
   ]
  },
  {
   "cell_type": "code",
   "execution_count": 6,
   "metadata": {},
   "outputs": [],
   "source": [
    "dff = pd.read_csv('/home/ubuntu/movie/data/naver_boxoffice.csv')\n",
    "dff = dff.drop_duplicates()\n",
    "dff2 = pd.DataFrame(columns=['2','3','4'])\n",
    "dff = pd.concat([dff,dff2])\n",
    "dff.to_csv('/home/ubuntu/movie/data/naver_boxoffice.csv',index=False)"
   ]
  },
  {
   "cell_type": "code",
   "execution_count": 7,
   "metadata": {},
   "outputs": [],
   "source": [
    "# dff\n",
    "import numpy as np\n",
    "star1=[]\n",
    "star2=[]\n",
    "star3=[]\n",
    "list1=[]\n",
    "list2=[]\n",
    "\n",
    "\n",
    "num1=df['1']\n",
    "# for i in tqdm_notebook(range(0,len(df['1']))):\n",
    "def naver_movie_rating(code):\n",
    "    df = pd.read_csv('/home/ubuntu/movie/data/naver_boxoffice.csv')\n",
    "    idx = np.where(df['1']==code)\n",
    "    \n",
    "    url1 = \"https://movie.naver.com/movie/bi/mi/basic.nhn?code=\"\n",
    "    page1 = urlopen(url1+str(code)[:-2])\n",
    "    soup1 = BeautifulSoup(page1, \"html.parser\")\n",
    "    b = soup1.find_all('span','st_on')\n",
    "#     list1.append(df['1'][i])\n",
    "#     list2.append(df['0'][i])\n",
    "    print(len(b))\n",
    "    if(len(b)<3):\n",
    "        df['2'][idx[0][0]] = 0\n",
    "        df['3'][idx[0][0]] = 0\n",
    "        df['4'][idx[0][0]] = 0\n",
    "    else:\n",
    "        if(b[2]['style'][6:-1] == '0'):\n",
    "            df['2'][idx[0][0]] = round(float(b[0]['style'][6:-1])/10,2)\n",
    "            df['3'][idx[0][0]] = 0\n",
    "            df['4'][idx[0][0]] = round(float(b[1]['style'][6:-1])/10,2)\n",
    "        else:\n",
    "            df['2'][idx[0][0]] = round(float(b[0]['style'][6:-1])/10,2)\n",
    "            df['3'][idx[0][0]] = round(float(b[1]['style'][6:-1])/10,2)\n",
    "            df['4'][idx[0][0]] = round(float(b[2]['style'][6:-1])/10,2)\n",
    "    print(df['2'][idx[0][0]])\n",
    "    print(df['3'][idx[0][0]])\n",
    "    print(df['4'][idx[0][0]])\n",
    "    df.to_csv('/home/ubuntu/movie/data/naver_boxoffice.csv',index=False)\n",
    "# movie_dict2.append(list(zip(list1,list2,star1,star2,star3)))"
   ]
  },
  {
   "cell_type": "code",
   "execution_count": null,
   "metadata": {},
   "outputs": [],
   "source": [
    "df = pd.read_csv('/home/ubuntu/movie/data/naver_boxoffice.csv')\n",
    "code = 146506.0\n",
    "idx = np.where(df['1']==code)\n",
    "naver_movie_rating(code)\n"
   ]
  },
  {
   "cell_type": "code",
   "execution_count": null,
   "metadata": {},
   "outputs": [],
   "source": [
    "import numpy as np\n",
    "\n",
    "df = pd.read_csv('/home/ubuntu/movie/data/naver_boxoffice.csv')\n",
    "url1 = \"https://movie.naver.com/movie/bi/mi/basic.nhn?code=\"\n",
    "page1 = urlopen(url1+str(df['1'][0])[:-2])\n",
    "soup1 = BeautifulSoup(page1, \"html.parser\")\n",
    "b = soup1.find_all('span','st_on')\n",
    "len(b)"
   ]
  },
  {
   "cell_type": "code",
   "execution_count": null,
   "metadata": {},
   "outputs": [],
   "source": [
    "from tqdm import tqdm\n",
    "cpu = os.cpu_count()\n",
    "df = pd.read_csv('/home/ubuntu/movie/data/naver_boxoffice.csv')\n",
    "pool = multiprocessing.Pool(processes=cpu)\n",
    "pool.map(naver_movie_rating,tqdm(df['1']))\n",
    "pool.close()\n",
    "pool.join()"
   ]
  },
  {
   "cell_type": "code",
   "execution_count": null,
   "metadata": {},
   "outputs": [],
   "source": [
    "import pandas as pd\n",
    "df = pd.read_csv('/home/ubuntu/movie/data/naver_boxoffice.csv')\n",
    "# for i in tqdm_notebook(range(1,len(movie_dict2))):\n",
    "#     df = df.append(movie_dict2[i], ignore_index=True)\n",
    "df2 = df.drop_duplicates()\n",
    "df2 = df2.reset_index(drop=True)\n",
    "df2 = df2.rename(columns={df2.columns[0]:'movieNm',df2.columns[1]:'naver_movieCd', df2.columns[2]:'ntz_see_score', df2.columns[3]:'spc_score', df2.columns[4]:'ntz_score'})\n",
    "df2.to_csv('/home/ubuntu/movie/data/naver_movie.csv',index=False)"
   ]
  },
  {
   "cell_type": "code",
   "execution_count": null,
   "metadata": {},
   "outputs": [],
   "source": []
  }
 ],
 "metadata": {
  "kernelspec": {
   "display_name": "Python 3",
   "language": "python",
   "name": "python3"
  },
  "language_info": {
   "codemirror_mode": {
    "name": "ipython",
    "version": 3
   },
   "file_extension": ".py",
   "mimetype": "text/x-python",
   "name": "python",
   "nbconvert_exporter": "python",
   "pygments_lexer": "ipython3",
   "version": "3.6.7"
  }
 },
 "nbformat": 4,
 "nbformat_minor": 2
}
