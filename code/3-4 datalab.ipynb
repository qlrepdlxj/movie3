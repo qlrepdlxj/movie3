{
 "cells": [
  {
   "cell_type": "markdown",
   "metadata": {},
   "source": [
    "### 네이버 데이터랩\n",
    "\n",
    "영화 이름과 기간을 입력해 해당기간에 해당영화를 얼마나 검색했는지 확인"
   ]
  },
  {
   "cell_type": "code",
   "execution_count": 4,
   "metadata": {},
   "outputs": [
    {
     "data": {
      "text/plain": [
       "306"
      ]
     },
     "execution_count": 4,
     "metadata": {},
     "output_type": "execute_result"
    }
   ],
   "source": [
    "import os\n",
    "import sys\n",
    "import json\n",
    "import urllib.request\n",
    "from datetime import date\n",
    "import pandas as pd\n",
    "from dateutil.relativedelta import relativedelta\n",
    "from tqdm import tqdm_notebook\n",
    "\n",
    "df1 = pd.read_csv('/home/ubuntu/movie/data/naver_movie_all.csv')\n",
    "start_date = date(2017,1,1)\n",
    "end_date = date(2017,12,31)\n",
    "len(df1)"
   ]
  },
  {
   "cell_type": "code",
   "execution_count": 5,
   "metadata": {},
   "outputs": [
    {
     "data": {
      "text/plain": [
       "20168323"
      ]
     },
     "execution_count": 5,
     "metadata": {},
     "output_type": "execute_result"
    }
   ],
   "source": [
    "m_name = df1['movieNm'][0]\n",
    "m_code = df1['movieCd'][0]\n",
    "n_code = df1['naver_movieCd'][0]\n",
    "m_code"
   ]
  },
  {
   "cell_type": "code",
   "execution_count": 6,
   "metadata": {},
   "outputs": [
    {
     "data": {
      "text/plain": [
       "'20180131'"
      ]
     },
     "execution_count": 6,
     "metadata": {},
     "output_type": "execute_result"
    }
   ],
   "source": [
    "with open(\"/home/ubuntu/movie/raw_data/movie_info/\"+str(m_code)+\".json\") as data_file:    \n",
    "    data = json.load(data_file)\n",
    "openDt = data['movieInfoResult']['movieInfo']['openDt']\n",
    "openDt\n"
   ]
  },
  {
   "cell_type": "code",
   "execution_count": 7,
   "metadata": {},
   "outputs": [
    {
     "data": {
      "text/plain": [
       "'2018-01-31'"
      ]
     },
     "execution_count": 7,
     "metadata": {},
     "output_type": "execute_result"
    }
   ],
   "source": [
    "date(int(str(openDt)[0:4]),int(str(openDt)[4:6]),int(str(openDt)[6:8]))\n",
    "edt = date(int(str(openDt)[0:4]),int(str(openDt)[4:6]),int(str(openDt)[6:8])) + relativedelta(months=1)\n",
    "sdt = date(int(str(openDt)[0:4]),int(str(openDt)[4:6]),int(str(openDt)[6:8]))\n",
    "str(sdt)"
   ]
  },
  {
   "cell_type": "code",
   "execution_count": 8,
   "metadata": {},
   "outputs": [
    {
     "data": {
      "text/plain": [
       "str"
      ]
     },
     "execution_count": 8,
     "metadata": {},
     "output_type": "execute_result"
    }
   ],
   "source": [
    "type(str(n_code))"
   ]
  },
  {
   "cell_type": "code",
   "execution_count": 10,
   "metadata": {},
   "outputs": [
    {
     "data": {
      "application/vnd.jupyter.widget-view+json": {
       "model_id": "f7272ac5d2ee4fb883e414068b622a4f",
       "version_major": 2,
       "version_minor": 0
      },
      "text/plain": [
       "HBox(children=(IntProgress(value=0, max=306), HTML(value='')))"
      ]
     },
     "metadata": {},
     "output_type": "display_data"
    },
    {
     "name": "stdout",
     "output_type": "stream",
     "text": [
      "{\"startDate\":\"2018-01-31\",\"endDate\":\"2018-02-28\",\"timeUnit\":\"date\",\"keywordGroups\":[{\"groupName\":\"영화\",\"keywords\":[\"염력\"]}]}\n",
      "{\"startDate\":\"2018-01-17\",\"endDate\":\"2018-02-17\",\"timeUnit\":\"date\",\"keywordGroups\":[{\"groupName\":\"영화\",\"keywords\":[\"그것만이 내 세상\"]}]}\n",
      "{\"startDate\":\"2018-01-31\",\"endDate\":\"2018-02-28\",\"timeUnit\":\"date\",\"keywordGroups\":[{\"groupName\":\"영화\",\"keywords\":[\"인시디어스4: 라스트 키\"]}]}\n",
      "{\"startDate\":\"2018-01-11\",\"endDate\":\"2018-02-11\",\"timeUnit\":\"date\",\"keywordGroups\":[{\"groupName\":\"영화\",\"keywords\":[\"코코\"]}]}\n",
      "{\"startDate\":\"2017-12-20\",\"endDate\":\"2018-01-20\",\"timeUnit\":\"date\",\"keywordGroups\":[{\"groupName\":\"영화\",\"keywords\":[\"신과함께-죄와 벌\"]}]}\n",
      "{\"startDate\":\"2018-01-17\",\"endDate\":\"2018-02-17\",\"timeUnit\":\"date\",\"keywordGroups\":[{\"groupName\":\"영화\",\"keywords\":[\"메이즈 러너: 데스 큐어\"]}]}\n",
      "{\"startDate\":\"2018-01-31\",\"endDate\":\"2018-02-28\",\"timeUnit\":\"date\",\"keywordGroups\":[{\"groupName\":\"영화\",\"keywords\":[\"12 솔져스\"]}]}\n",
      "{\"startDate\":\"2017-12-27\",\"endDate\":\"2018-01-27\",\"timeUnit\":\"date\",\"keywordGroups\":[{\"groupName\":\"영화\",\"keywords\":[\"1987\"]}]}\n",
      "{\"startDate\":\"2018-02-01\",\"endDate\":\"2018-03-01\",\"timeUnit\":\"date\",\"keywordGroups\":[{\"groupName\":\"영화\",\"keywords\":[\"마야2\"]}]}\n",
      "{\"startDate\":\"2018-02-08\",\"endDate\":\"2018-03-08\",\"timeUnit\":\"date\",\"keywordGroups\":[{\"groupName\":\"영화\",\"keywords\":[\"조선명탐정: 흡혈괴마의 비밀\"]}]}\n",
      "{\"startDate\":\"2018-02-01\",\"endDate\":\"2018-03-01\",\"timeUnit\":\"date\",\"keywordGroups\":[{\"groupName\":\"영화\",\"keywords\":[\"올 더 머니\"]}]}\n",
      "{\"startDate\":\"2018-02-07\",\"endDate\":\"2018-03-07\",\"timeUnit\":\"date\",\"keywordGroups\":[{\"groupName\":\"영화\",\"keywords\":[\"더 포리너\"]}]}\n",
      "{\"startDate\":\"2018-02-08\",\"endDate\":\"2018-03-08\",\"timeUnit\":\"date\",\"keywordGroups\":[{\"groupName\":\"영화\",\"keywords\":[\"패딩턴 2\"]}]}\n",
      "{\"startDate\":\"2018-02-28\",\"endDate\":\"2018-03-28\",\"timeUnit\":\"date\",\"keywordGroups\":[{\"groupName\":\"영화\",\"keywords\":[\"리틀 포레스트\"]}]}\n",
      "{\"startDate\":\"2018-02-14\",\"endDate\":\"2018-03-14\",\"timeUnit\":\"date\",\"keywordGroups\":[{\"groupName\":\"영화\",\"keywords\":[\"블랙 팬서\"]}]}\n",
      "{\"startDate\":\"2018-02-14\",\"endDate\":\"2018-03-14\",\"timeUnit\":\"date\",\"keywordGroups\":[{\"groupName\":\"영화\",\"keywords\":[\"골든슬럼버\"]}]}\n",
      "{\"startDate\":\"2018-02-14\",\"endDate\":\"2018-03-14\",\"timeUnit\":\"date\",\"keywordGroups\":[{\"groupName\":\"영화\",\"keywords\":[\"명탐정 코난:감벽의 관\"]}]}\n",
      "{\"startDate\":\"2017-12-20\",\"endDate\":\"2018-01-20\",\"timeUnit\":\"date\",\"keywordGroups\":[{\"groupName\":\"영화\",\"keywords\":[\"위대한 쇼맨\"]}]}\n",
      "{\"startDate\":\"2017-05-17\",\"endDate\":\"2017-06-17\",\"timeUnit\":\"date\",\"keywordGroups\":[{\"groupName\":\"영화\",\"keywords\":[\"불한당: 나쁜 놈들의 세상\"]}]}\n",
      "{\"startDate\":\"2018-02-22\",\"endDate\":\"2018-03-22\",\"timeUnit\":\"date\",\"keywordGroups\":[{\"groupName\":\"영화\",\"keywords\":[\"월요일이 사라졌다\"]}]}\n",
      "{\"startDate\":\"2018-02-21\",\"endDate\":\"2018-03-21\",\"timeUnit\":\"date\",\"keywordGroups\":[{\"groupName\":\"영화\",\"keywords\":[\"50가지 그림자: 해방\"]}]}\n",
      "{\"startDate\":\"2018-02-22\",\"endDate\":\"2018-03-22\",\"timeUnit\":\"date\",\"keywordGroups\":[{\"groupName\":\"영화\",\"keywords\":[\"셰이프 오브 워터: 사랑의 모양\"]}]}\n",
      "{\"startDate\":\"2018-02-22\",\"endDate\":\"2018-03-22\",\"timeUnit\":\"date\",\"keywordGroups\":[{\"groupName\":\"영화\",\"keywords\":[\"반딧불이 딘딘\"]}]}\n",
      "{\"startDate\":\"2018-02-28\",\"endDate\":\"2018-03-28\",\"timeUnit\":\"date\",\"keywordGroups\":[{\"groupName\":\"영화\",\"keywords\":[\"궁합\"]}]}\n",
      "{\"startDate\":\"2018-02-28\",\"endDate\":\"2018-03-28\",\"timeUnit\":\"date\",\"keywordGroups\":[{\"groupName\":\"영화\",\"keywords\":[\"나미야 잡화점의 기적\"]}]}\n",
      "{\"startDate\":\"2018-02-28\",\"endDate\":\"2018-03-28\",\"timeUnit\":\"date\",\"keywordGroups\":[{\"groupName\":\"영화\",\"keywords\":[\"레드 스패로\"]}]}\n",
      "{\"startDate\":\"2018-02-28\",\"endDate\":\"2018-03-28\",\"timeUnit\":\"date\",\"keywordGroups\":[{\"groupName\":\"영화\",\"keywords\":[\"더 포스트\"]}]}\n",
      "{\"startDate\":\"2018-02-28\",\"endDate\":\"2018-03-28\",\"timeUnit\":\"date\",\"keywordGroups\":[{\"groupName\":\"영화\",\"keywords\":[\"게이트\"]}]}\n",
      "{\"startDate\":\"2017-12-14\",\"endDate\":\"2018-01-14\",\"timeUnit\":\"date\",\"keywordGroups\":[{\"groupName\":\"영화\",\"keywords\":[\"강철비\"]}]}\n",
      "{\"startDate\":\"2017-12-21\",\"endDate\":\"2018-01-21\",\"timeUnit\":\"date\",\"keywordGroups\":[{\"groupName\":\"영화\",\"keywords\":[\"극장판 포켓몬스터 너로 정했다!\"]}]}\n",
      "{\"startDate\":\"2017-12-21\",\"endDate\":\"2018-01-21\",\"timeUnit\":\"date\",\"keywordGroups\":[{\"groupName\":\"영화\",\"keywords\":[\"몬스터 패밀리\"]}]}\n",
      "{\"startDate\":\"2017-12-27\",\"endDate\":\"2018-01-27\",\"timeUnit\":\"date\",\"keywordGroups\":[{\"groupName\":\"영화\",\"keywords\":[\"원더\"]}]}\n",
      "{\"startDate\":\"2017-12-07\",\"endDate\":\"2018-01-07\",\"timeUnit\":\"date\",\"keywordGroups\":[{\"groupName\":\"영화\",\"keywords\":[\"뽀로로 극장판 공룡섬 대모험\"]}]}\n",
      "{\"startDate\":\"2017-12-28\",\"endDate\":\"2018-01-28\",\"timeUnit\":\"date\",\"keywordGroups\":[{\"groupName\":\"영화\",\"keywords\":[\"극장판 프리파라 모두의 동경♪ 렛츠고☆프리파리\"]}]}\n",
      "{\"startDate\":\"2017-12-14\",\"endDate\":\"2018-01-14\",\"timeUnit\":\"date\",\"keywordGroups\":[{\"groupName\":\"영화\",\"keywords\":[\"스타워즈: 라스트 제다이\"]}]}\n",
      "{\"startDate\":\"2018-01-03\",\"endDate\":\"2018-02-03\",\"timeUnit\":\"date\",\"keywordGroups\":[{\"groupName\":\"영화\",\"keywords\":[\"쥬만지: 새로운 세계\"]}]}\n",
      "{\"startDate\":\"2018-01-03\",\"endDate\":\"2018-02-03\",\"timeUnit\":\"date\",\"keywordGroups\":[{\"groupName\":\"영화\",\"keywords\":[\"페르디난드\"]}]}\n",
      "{\"startDate\":\"2017-01-04\",\"endDate\":\"2017-02-04\",\"timeUnit\":\"date\",\"keywordGroups\":[{\"groupName\":\"영화\",\"keywords\":[\"너의 이름은.\"]}]}\n",
      "{\"startDate\":\"2018-01-11\",\"endDate\":\"2018-02-11\",\"timeUnit\":\"date\",\"keywordGroups\":[{\"groupName\":\"영화\",\"keywords\":[\"다운사이징\"]}]}\n",
      "{\"startDate\":\"2018-01-11\",\"endDate\":\"2018-02-11\",\"timeUnit\":\"date\",\"keywordGroups\":[{\"groupName\":\"영화\",\"keywords\":[\"쏘아올린 불꽃, 밑에서 볼까? 옆에서 볼까?\"]}]}\n",
      "{\"startDate\":\"2018-01-11\",\"endDate\":\"2018-02-11\",\"timeUnit\":\"date\",\"keywordGroups\":[{\"groupName\":\"영화\",\"keywords\":[\"하이큐!! 콘셉트의 싸움\"]}]}\n",
      "{\"startDate\":\"2018-01-17\",\"endDate\":\"2018-02-17\",\"timeUnit\":\"date\",\"keywordGroups\":[{\"groupName\":\"영화\",\"keywords\":[\"다키스트 아워\"]}]}\n",
      "{\"startDate\":\"2018-01-18\",\"endDate\":\"2018-02-18\",\"timeUnit\":\"date\",\"keywordGroups\":[{\"groupName\":\"영화\",\"keywords\":[\"주문은 토끼입니까?? ~디어 마이 시스터~\"]}]}\n",
      "{\"startDate\":\"2018-01-18\",\"endDate\":\"2018-02-18\",\"timeUnit\":\"date\",\"keywordGroups\":[{\"groupName\":\"영화\",\"keywords\":[\"리틀 뱀파이어\"]}]}\n",
      "{\"startDate\":\"2018-01-24\",\"endDate\":\"2018-02-24\",\"timeUnit\":\"date\",\"keywordGroups\":[{\"groupName\":\"영화\",\"keywords\":[\"커뮤터\"]}]}\n",
      "{\"startDate\":\"2018-01-24\",\"endDate\":\"2018-02-24\",\"timeUnit\":\"date\",\"keywordGroups\":[{\"groupName\":\"영화\",\"keywords\":[\"1급기밀\"]}]}\n",
      "{\"startDate\":\"2018-01-24\",\"endDate\":\"2018-02-24\",\"timeUnit\":\"date\",\"keywordGroups\":[{\"groupName\":\"영화\",\"keywords\":[\"비밥바룰라\"]}]}\n",
      "{\"startDate\":\"2018-01-25\",\"endDate\":\"2018-02-25\",\"timeUnit\":\"date\",\"keywordGroups\":[{\"groupName\":\"영화\",\"keywords\":[\"극장판 레이디버그: 미라클스톤의 비밀\"]}]}\n",
      "{\"startDate\":\"2017-11-22\",\"endDate\":\"2017-12-22\",\"timeUnit\":\"date\",\"keywordGroups\":[{\"groupName\":\"영화\",\"keywords\":[\"꾼\"]}]}\n",
      "{\"startDate\":\"2017-11-29\",\"endDate\":\"2017-12-29\",\"timeUnit\":\"date\",\"keywordGroups\":[{\"groupName\":\"영화\",\"keywords\":[\"기억의 밤\"]}]}\n",
      "{\"startDate\":\"2017-11-29\",\"endDate\":\"2017-12-29\",\"timeUnit\":\"date\",\"keywordGroups\":[{\"groupName\":\"영화\",\"keywords\":[\"오리엔트 특급 살인\"]}]}\n",
      "{\"startDate\":\"2017-11-29\",\"endDate\":\"2017-12-29\",\"timeUnit\":\"date\",\"keywordGroups\":[{\"groupName\":\"영화\",\"keywords\":[\"반드시 잡는다\"]}]}\n",
      "{\"startDate\":\"2017-11-15\",\"endDate\":\"2017-12-15\",\"timeUnit\":\"date\",\"keywordGroups\":[{\"groupName\":\"영화\",\"keywords\":[\"저스티스 리그\"]}]}\n",
      "{\"startDate\":\"2017-11-09\",\"endDate\":\"2017-12-09\",\"timeUnit\":\"date\",\"keywordGroups\":[{\"groupName\":\"영화\",\"keywords\":[\"러빙 빈센트\"]}]}\n",
      "{\"startDate\":\"2017-10-25\",\"endDate\":\"2017-11-25\",\"timeUnit\":\"date\",\"keywordGroups\":[{\"groupName\":\"영화\",\"keywords\":[\"토르: 라그나로크\"]}]}\n",
      "{\"startDate\":\"2017-11-08\",\"endDate\":\"2017-12-08\",\"timeUnit\":\"date\",\"keywordGroups\":[{\"groupName\":\"영화\",\"keywords\":[\"해피 데스데이\"]}]}\n",
      "{\"startDate\":\"2017-11-23\",\"endDate\":\"2017-12-23\",\"timeUnit\":\"date\",\"keywordGroups\":[{\"groupName\":\"영화\",\"keywords\":[\"래빗 스쿨\"]}]}\n",
      "{\"startDate\":\"2017-11-30\",\"endDate\":\"2017-12-30\",\"timeUnit\":\"date\",\"keywordGroups\":[{\"groupName\":\"영화\",\"keywords\":[\"빅 배드 폭스\"]}]}\n",
      "{\"startDate\":\"2017-12-07\",\"endDate\":\"2018-01-07\",\"timeUnit\":\"date\",\"keywordGroups\":[{\"groupName\":\"영화\",\"keywords\":[\"산상수훈\"]}]}\n",
      "{\"startDate\":\"2017-11-09\",\"endDate\":\"2017-12-09\",\"timeUnit\":\"date\",\"keywordGroups\":[{\"groupName\":\"영화\",\"keywords\":[\"채비\"]}]}\n",
      "{\"startDate\":\"2017-12-07\",\"endDate\":\"2018-01-07\",\"timeUnit\":\"date\",\"keywordGroups\":[{\"groupName\":\"영화\",\"keywords\":[\"은혼\"]}]}\n",
      "{\"startDate\":\"2017-12-07\",\"endDate\":\"2018-01-07\",\"timeUnit\":\"date\",\"keywordGroups\":[{\"groupName\":\"영화\",\"keywords\":[\"메리와 마녀의 꽃\"]}]}\n",
      "{\"startDate\":\"2017-12-07\",\"endDate\":\"2018-01-07\",\"timeUnit\":\"date\",\"keywordGroups\":[{\"groupName\":\"영화\",\"keywords\":[\"어쌔신: 더 비기닝\"]}]}\n",
      "{\"startDate\":\"2016-12-07\",\"endDate\":\"2017-01-07\",\"timeUnit\":\"date\",\"keywordGroups\":[{\"groupName\":\"영화\",\"keywords\":[\"라라랜드\"]}]}\n"
     ]
    },
    {
     "name": "stdout",
     "output_type": "stream",
     "text": [
      "{\"startDate\":\"2017-12-14\",\"endDate\":\"2018-01-14\",\"timeUnit\":\"date\",\"keywordGroups\":[{\"groupName\":\"영화\",\"keywords\":[\"튤립 피버\"]}]}\n",
      "{\"startDate\":\"2017-12-21\",\"endDate\":\"2018-01-21\",\"timeUnit\":\"date\",\"keywordGroups\":[{\"groupName\":\"영화\",\"keywords\":[\"더 크리스마스\"]}]}\n",
      "{\"startDate\":\"2017-12-21\",\"endDate\":\"2018-01-21\",\"timeUnit\":\"date\",\"keywordGroups\":[{\"groupName\":\"영화\",\"keywords\":[\"패터슨\"]}]}\n",
      "{\"startDate\":\"2017-10-03\",\"endDate\":\"2017-11-03\",\"timeUnit\":\"date\",\"keywordGroups\":[{\"groupName\":\"영화\",\"keywords\":[\"범죄도시\"]}]}\n",
      "{\"startDate\":\"2017-10-25\",\"endDate\":\"2017-11-25\",\"timeUnit\":\"date\",\"keywordGroups\":[{\"groupName\":\"영화\",\"keywords\":[\"너의 췌장을 먹고 싶어\"]}]}\n",
      "{\"startDate\":\"2017-10-19\",\"endDate\":\"2017-11-19\",\"timeUnit\":\"date\",\"keywordGroups\":[{\"groupName\":\"영화\",\"keywords\":[\"지오스톰\"]}]}\n",
      "{\"startDate\":\"2017-10-19\",\"endDate\":\"2017-11-19\",\"timeUnit\":\"date\",\"keywordGroups\":[{\"groupName\":\"영화\",\"keywords\":[\"대장 김창수\"]}]}\n",
      "{\"startDate\":\"2017-10-03\",\"endDate\":\"2017-11-03\",\"timeUnit\":\"date\",\"keywordGroups\":[{\"groupName\":\"영화\",\"keywords\":[\"남한산성\"]}]}\n",
      "{\"startDate\":\"2017-10-12\",\"endDate\":\"2017-11-12\",\"timeUnit\":\"date\",\"keywordGroups\":[{\"groupName\":\"영화\",\"keywords\":[\"나는 내일, 어제의 너와 만난다\"]}]}\n",
      "{\"startDate\":\"2017-09-21\",\"endDate\":\"2017-10-21\",\"timeUnit\":\"date\",\"keywordGroups\":[{\"groupName\":\"영화\",\"keywords\":[\"아이 캔 스피크\"]}]}\n",
      "{\"startDate\":\"2017-10-26\",\"endDate\":\"2017-11-26\",\"timeUnit\":\"date\",\"keywordGroups\":[{\"groupName\":\"영화\",\"keywords\":[\"뷰티풀 투모로우\"]}]}\n",
      "{\"startDate\":\"2017-11-02\",\"endDate\":\"2017-12-02\",\"timeUnit\":\"date\",\"keywordGroups\":[{\"groupName\":\"영화\",\"keywords\":[\"부라더\"]}]}\n",
      "{\"startDate\":\"2017-11-02\",\"endDate\":\"2017-12-02\",\"timeUnit\":\"date\",\"keywordGroups\":[{\"groupName\":\"영화\",\"keywords\":[\"침묵\"]}]}\n",
      "{\"startDate\":\"2017-11-02\",\"endDate\":\"2017-12-02\",\"timeUnit\":\"date\",\"keywordGroups\":[{\"groupName\":\"영화\",\"keywords\":[\"직쏘\"]}]}\n",
      "{\"startDate\":\"2017-10-19\",\"endDate\":\"2017-11-19\",\"timeUnit\":\"date\",\"keywordGroups\":[{\"groupName\":\"영화\",\"keywords\":[\"노 게임 노 라이프 -제로-\"]}]}\n",
      "{\"startDate\":\"2017-11-02\",\"endDate\":\"2017-12-02\",\"timeUnit\":\"date\",\"keywordGroups\":[{\"groupName\":\"영화\",\"keywords\":[\"메소드\"]}]}\n",
      "{\"startDate\":\"2017-11-02\",\"endDate\":\"2017-12-02\",\"timeUnit\":\"date\",\"keywordGroups\":[{\"groupName\":\"영화\",\"keywords\":[\"내게 남은 사랑을\"]}]}\n",
      "{\"startDate\":\"2017-11-02\",\"endDate\":\"2017-12-02\",\"timeUnit\":\"date\",\"keywordGroups\":[{\"groupName\":\"영화\",\"keywords\":[\"신서유기 : 몽키킹의 부활\"]}]}\n",
      "{\"startDate\":\"2017-10-03\",\"endDate\":\"2017-11-03\",\"timeUnit\":\"date\",\"keywordGroups\":[{\"groupName\":\"영화\",\"keywords\":[\"넛잡 2\"]}]}\n",
      "{\"startDate\":\"2017-11-09\",\"endDate\":\"2017-12-09\",\"timeUnit\":\"date\",\"keywordGroups\":[{\"groupName\":\"영화\",\"keywords\":[\"미옥\"]}]}\n",
      "{\"startDate\":\"2017-11-02\",\"endDate\":\"2017-12-02\",\"timeUnit\":\"date\",\"keywordGroups\":[{\"groupName\":\"영화\",\"keywords\":[\"배드 지니어스\"]}]}\n",
      "{\"startDate\":\"2017-11-09\",\"endDate\":\"2017-12-09\",\"timeUnit\":\"date\",\"keywordGroups\":[{\"groupName\":\"영화\",\"keywords\":[\"리빙보이 인 뉴욕\"]}]}\n",
      "{\"startDate\":\"2017-11-09\",\"endDate\":\"2017-12-09\",\"timeUnit\":\"date\",\"keywordGroups\":[{\"groupName\":\"영화\",\"keywords\":[\"극장판 파워레인저: 애니멀포스 VS 닌자포스 미래에서 온 메시지 \"]}]}\n",
      "{\"startDate\":\"2017-11-15\",\"endDate\":\"2017-12-15\",\"timeUnit\":\"date\",\"keywordGroups\":[{\"groupName\":\"영화\",\"keywords\":[\"7호실\"]}]}\n",
      "{\"startDate\":\"2017-11-16\",\"endDate\":\"2017-12-16\",\"timeUnit\":\"date\",\"keywordGroups\":[{\"groupName\":\"영화\",\"keywords\":[\"페이트 스테이 나이트 헤븐즈필 제1장 프레시지 플라워\"]}]}\n",
      "{\"startDate\":\"2017-11-22\",\"endDate\":\"2017-12-22\",\"timeUnit\":\"date\",\"keywordGroups\":[{\"groupName\":\"영화\",\"keywords\":[\"키드냅\"]}]}\n",
      "{\"startDate\":\"2017-11-23\",\"endDate\":\"2017-12-23\",\"timeUnit\":\"date\",\"keywordGroups\":[{\"groupName\":\"영화\",\"keywords\":[\"역모-반란의 시대\"]}]}\n",
      "{\"startDate\":\"2017-11-15\",\"endDate\":\"2017-12-15\",\"timeUnit\":\"date\",\"keywordGroups\":[{\"groupName\":\"영화\",\"keywords\":[\"하이큐!! 재능과 센스\"]}]}\n",
      "{\"startDate\":\"2017-11-23\",\"endDate\":\"2017-12-23\",\"timeUnit\":\"date\",\"keywordGroups\":[{\"groupName\":\"영화\",\"keywords\":[\"피터와 모글리의 크리스마스 어드벤처\"]}]}\n",
      "{\"startDate\":\"2017-09-27\",\"endDate\":\"2017-10-27\",\"timeUnit\":\"date\",\"keywordGroups\":[{\"groupName\":\"영화\",\"keywords\":[\"킹스맨: 골든 서클\"]}]}\n",
      "{\"startDate\":\"2017-09-27\",\"endDate\":\"2017-10-27\",\"timeUnit\":\"date\",\"keywordGroups\":[{\"groupName\":\"영화\",\"keywords\":[\"극장판 요괴워치: 하늘을 나는 고래와 더블세계다냥!\"]}]}\n",
      "{\"startDate\":\"2017-09-28\",\"endDate\":\"2017-10-28\",\"timeUnit\":\"date\",\"keywordGroups\":[{\"groupName\":\"영화\",\"keywords\":[\"레고 닌자고 무비\"]}]}\n",
      "{\"startDate\":\"2017-09-06\",\"endDate\":\"2017-10-06\",\"timeUnit\":\"date\",\"keywordGroups\":[{\"groupName\":\"영화\",\"keywords\":[\"살인자의 기억법\"]}]}\n",
      "{\"startDate\":\"2017-08-30\",\"endDate\":\"2017-09-30\",\"timeUnit\":\"date\",\"keywordGroups\":[{\"groupName\":\"영화\",\"keywords\":[\"킬러의 보디가드\"]}]}\n",
      "{\"startDate\":\"2017-09-14\",\"endDate\":\"2017-10-14\",\"timeUnit\":\"date\",\"keywordGroups\":[{\"groupName\":\"영화\",\"keywords\":[\"베이비 드라이버\"]}]}\n",
      "{\"startDate\":\"2017-09-28\",\"endDate\":\"2017-10-28\",\"timeUnit\":\"date\",\"keywordGroups\":[{\"groupName\":\"영화\",\"keywords\":[\"리틀 프린세스 소피아 : 신비한 섬\"]}]}\n",
      "{\"startDate\":\"2017-09-21\",\"endDate\":\"2017-10-21\",\"timeUnit\":\"date\",\"keywordGroups\":[{\"groupName\":\"영화\",\"keywords\":[\"인비저블 게스트\"]}]}\n",
      "{\"startDate\":\"2017-08-30\",\"endDate\":\"2017-09-30\",\"timeUnit\":\"date\",\"keywordGroups\":[{\"groupName\":\"영화\",\"keywords\":[\"김광석\"]}]}\n",
      "{\"startDate\":\"2017-10-03\",\"endDate\":\"2017-11-03\",\"timeUnit\":\"date\",\"keywordGroups\":[{\"groupName\":\"영화\",\"keywords\":[\"딥\"]}]}\n",
      "{\"startDate\":\"2017-10-12\",\"endDate\":\"2017-11-12\",\"timeUnit\":\"date\",\"keywordGroups\":[{\"groupName\":\"영화\",\"keywords\":[\"블레이드 러너 2049\"]}]}\n",
      "{\"startDate\":\"2017-10-12\",\"endDate\":\"2017-11-12\",\"timeUnit\":\"date\",\"keywordGroups\":[{\"groupName\":\"영화\",\"keywords\":[\"희생부활자\"]}]}\n",
      "{\"startDate\":\"2017-09-27\",\"endDate\":\"2017-10-27\",\"timeUnit\":\"date\",\"keywordGroups\":[{\"groupName\":\"영화\",\"keywords\":[\"우리의 20세기\"]}]}\n",
      "{\"startDate\":\"2017-10-04\",\"endDate\":\"2017-11-04\",\"timeUnit\":\"date\",\"keywordGroups\":[{\"groupName\":\"영화\",\"keywords\":[\"어메이징 메리\"]}]}\n",
      "{\"startDate\":\"2017-09-27\",\"endDate\":\"2017-10-27\",\"timeUnit\":\"date\",\"keywordGroups\":[{\"groupName\":\"영화\",\"keywords\":[\"다시 태어나도 우리\"]}]}\n",
      "{\"startDate\":\"2017-10-12\",\"endDate\":\"2017-11-12\",\"timeUnit\":\"date\",\"keywordGroups\":[{\"groupName\":\"영화\",\"keywords\":[\"나의 엔젤\"]}]}\n",
      "{\"startDate\":\"2017-10-12\",\"endDate\":\"2017-11-12\",\"timeUnit\":\"date\",\"keywordGroups\":[{\"groupName\":\"영화\",\"keywords\":[\"주키퍼스 와이프\"]}]}\n",
      "{\"startDate\":\"2017-08-30\",\"endDate\":\"2017-09-30\",\"timeUnit\":\"date\",\"keywordGroups\":[{\"groupName\":\"영화\",\"keywords\":[\"발레리안: 천 개 행성의 도시\"]}]}\n",
      "{\"startDate\":\"2017-10-19\",\"endDate\":\"2017-11-19\",\"timeUnit\":\"date\",\"keywordGroups\":[{\"groupName\":\"영화\",\"keywords\":[\"마더!\"]}]}\n",
      "{\"startDate\":\"2017-10-19\",\"endDate\":\"2017-11-19\",\"timeUnit\":\"date\",\"keywordGroups\":[{\"groupName\":\"영화\",\"keywords\":[\"잠깐만 회사 좀 관두고 올게\"]}]}\n",
      "{\"startDate\":\"2017-10-25\",\"endDate\":\"2017-11-25\",\"timeUnit\":\"date\",\"keywordGroups\":[{\"groupName\":\"영화\",\"keywords\":[\"유리정원\"]}]}\n",
      "{\"startDate\":\"2017-10-26\",\"endDate\":\"2017-11-26\",\"timeUnit\":\"date\",\"keywordGroups\":[{\"groupName\":\"영화\",\"keywords\":[\"배저로와 친구들: 신비한 모험\"]}]}\n",
      "{\"startDate\":\"2017-08-09\",\"endDate\":\"2017-09-09\",\"timeUnit\":\"date\",\"keywordGroups\":[{\"groupName\":\"영화\",\"keywords\":[\"청년경찰\"]}]}\n",
      "{\"startDate\":\"2017-08-02\",\"endDate\":\"2017-09-02\",\"timeUnit\":\"date\",\"keywordGroups\":[{\"groupName\":\"영화\",\"keywords\":[\"택시운전사\"]}]}\n",
      "{\"startDate\":\"2017-08-23\",\"endDate\":\"2017-09-23\",\"timeUnit\":\"date\",\"keywordGroups\":[{\"groupName\":\"영화\",\"keywords\":[\"브이아이피\"]}]}\n",
      "{\"startDate\":\"2017-08-30\",\"endDate\":\"2017-09-30\",\"timeUnit\":\"date\",\"keywordGroups\":[{\"groupName\":\"영화\",\"keywords\":[\"아토믹 블론드\"]}]}\n",
      "{\"startDate\":\"2017-08-17\",\"endDate\":\"2017-09-17\",\"timeUnit\":\"date\",\"keywordGroups\":[{\"groupName\":\"영화\",\"keywords\":[\"장산범\"]}]}\n",
      "{\"startDate\":\"2017-08-30\",\"endDate\":\"2017-09-30\",\"timeUnit\":\"date\",\"keywordGroups\":[{\"groupName\":\"영화\",\"keywords\":[\"로마의 휴일\"]}]}\n",
      "{\"startDate\":\"2017-08-15\",\"endDate\":\"2017-09-15\",\"timeUnit\":\"date\",\"keywordGroups\":[{\"groupName\":\"영화\",\"keywords\":[\"혹성탈출: 종의 전쟁\"]}]}\n",
      "{\"startDate\":\"2017-08-17\",\"endDate\":\"2017-09-17\",\"timeUnit\":\"date\",\"keywordGroups\":[{\"groupName\":\"영화\",\"keywords\":[\"공범자들\"]}]}\n",
      "{\"startDate\":\"2017-09-06\",\"endDate\":\"2017-10-06\",\"timeUnit\":\"date\",\"keywordGroups\":[{\"groupName\":\"영화\",\"keywords\":[\"그것\"]}]}\n",
      "{\"startDate\":\"2017-09-06\",\"endDate\":\"2017-10-06\",\"timeUnit\":\"date\",\"keywordGroups\":[{\"groupName\":\"영화\",\"keywords\":[\"매혹당한 사람들\"]}]}\n",
      "{\"startDate\":\"2017-09-07\",\"endDate\":\"2017-10-07\",\"timeUnit\":\"date\",\"keywordGroups\":[{\"groupName\":\"영화\",\"keywords\":[\"극장판 에그엔젤 코코밍: 푸르밍과 두근두근 코코밍 세계\"]}]}\n",
      "{\"startDate\":\"2017-09-07\",\"endDate\":\"2017-10-07\",\"timeUnit\":\"date\",\"keywordGroups\":[{\"groupName\":\"영화\",\"keywords\":[\"저수지 게임\"]}]}\n",
      "{\"startDate\":\"2017-09-07\",\"endDate\":\"2017-10-07\",\"timeUnit\":\"date\",\"keywordGroups\":[{\"groupName\":\"영화\",\"keywords\":[\"몬스터 섬의 비밀\"]}]}\n",
      "{\"startDate\":\"2017-09-14\",\"endDate\":\"2017-10-14\",\"timeUnit\":\"date\",\"keywordGroups\":[{\"groupName\":\"영화\",\"keywords\":[\"좋아해, 너를\"]}]}\n",
      "{\"startDate\":\"2017-09-14\",\"endDate\":\"2017-10-14\",\"timeUnit\":\"date\",\"keywordGroups\":[{\"groupName\":\"영화\",\"keywords\":[\"아메리칸 메이드\"]}]}\n"
     ]
    },
    {
     "name": "stdout",
     "output_type": "stream",
     "text": [
      "{\"startDate\":\"2017-09-14\",\"endDate\":\"2017-10-14\",\"timeUnit\":\"date\",\"keywordGroups\":[{\"groupName\":\"영화\",\"keywords\":[\"몬스터 콜\"]}]}\n",
      "{\"startDate\":\"2017-09-14\",\"endDate\":\"2017-10-14\",\"timeUnit\":\"date\",\"keywordGroups\":[{\"groupName\":\"영화\",\"keywords\":[\"윈드 리버\"]}]}\n",
      "{\"startDate\":\"2017-07-26\",\"endDate\":\"2017-08-26\",\"timeUnit\":\"date\",\"keywordGroups\":[{\"groupName\":\"영화\",\"keywords\":[\"군함도\"]}]}\n",
      "{\"startDate\":\"2017-09-21\",\"endDate\":\"2017-10-21\",\"timeUnit\":\"date\",\"keywordGroups\":[{\"groupName\":\"영화\",\"keywords\":[\"잃어버린 도시 Z\"]}]}\n",
      "{\"startDate\":\"2017-07-26\",\"endDate\":\"2017-08-26\",\"timeUnit\":\"date\",\"keywordGroups\":[{\"groupName\":\"영화\",\"keywords\":[\"슈퍼배드 3\"]}]}\n",
      "{\"startDate\":\"2017-07-20\",\"endDate\":\"2017-08-20\",\"timeUnit\":\"date\",\"keywordGroups\":[{\"groupName\":\"영화\",\"keywords\":[\"덩케르크\"]}]}\n",
      "{\"startDate\":\"2017-07-05\",\"endDate\":\"2017-08-05\",\"timeUnit\":\"date\",\"keywordGroups\":[{\"groupName\":\"영화\",\"keywords\":[\"스파이더맨: 홈 커밍\"]}]}\n",
      "{\"startDate\":\"2017-07-20\",\"endDate\":\"2017-08-20\",\"timeUnit\":\"date\",\"keywordGroups\":[{\"groupName\":\"영화\",\"keywords\":[\"극장판 짱구는 못말려 : 습격!! 외계인 덩덩이\"]}]}\n",
      "{\"startDate\":\"2017-07-12\",\"endDate\":\"2017-08-12\",\"timeUnit\":\"date\",\"keywordGroups\":[{\"groupName\":\"영화\",\"keywords\":[\"내 사랑\"]}]}\n",
      "{\"startDate\":\"2017-07-19\",\"endDate\":\"2017-08-19\",\"timeUnit\":\"date\",\"keywordGroups\":[{\"groupName\":\"영화\",\"keywords\":[\"47 미터\"]}]}\n",
      "{\"startDate\":\"2017-07-12\",\"endDate\":\"2017-08-12\",\"timeUnit\":\"date\",\"keywordGroups\":[{\"groupName\":\"영화\",\"keywords\":[\"플립\"]}]}\n",
      "{\"startDate\":\"2017-07-13\",\"endDate\":\"2017-08-13\",\"timeUnit\":\"date\",\"keywordGroups\":[{\"groupName\":\"영화\",\"keywords\":[\"카3: 새로운 도전\"]}]}\n",
      "{\"startDate\":\"2017-08-02\",\"endDate\":\"2017-09-02\",\"timeUnit\":\"date\",\"keywordGroups\":[{\"groupName\":\"영화\",\"keywords\":[\"명탐정 코난:진홍의 연가\"]}]}\n",
      "{\"startDate\":\"2017-08-02\",\"endDate\":\"2017-09-02\",\"timeUnit\":\"date\",\"keywordGroups\":[{\"groupName\":\"영화\",\"keywords\":[\"이모티: 더 무비\"]}]}\n",
      "{\"startDate\":\"2017-08-10\",\"endDate\":\"2017-09-10\",\"timeUnit\":\"date\",\"keywordGroups\":[{\"groupName\":\"영화\",\"keywords\":[\"애나벨 : 인형의 주인\"]}]}\n",
      "{\"startDate\":\"2017-08-03\",\"endDate\":\"2017-09-03\",\"timeUnit\":\"date\",\"keywordGroups\":[{\"groupName\":\"영화\",\"keywords\":[\"파리로 가는 길\"]}]}\n",
      "{\"startDate\":\"2017-08-09\",\"endDate\":\"2017-09-09\",\"timeUnit\":\"date\",\"keywordGroups\":[{\"groupName\":\"영화\",\"keywords\":[\"빅풋 주니어\"]}]}\n",
      "{\"startDate\":\"2017-08-10\",\"endDate\":\"2017-09-10\",\"timeUnit\":\"date\",\"keywordGroups\":[{\"groupName\":\"영화\",\"keywords\":[\"극장판 도라에몽: 진구의 남극 꽁꽁 대모험\"]}]}\n",
      "{\"startDate\":\"2017-08-23\",\"endDate\":\"2017-09-23\",\"timeUnit\":\"date\",\"keywordGroups\":[{\"groupName\":\"영화\",\"keywords\":[\"다크타워: 희망의 탑\"]}]}\n",
      "{\"startDate\":\"2017-08-24\",\"endDate\":\"2017-09-24\",\"timeUnit\":\"date\",\"keywordGroups\":[{\"groupName\":\"영화\",\"keywords\":[\"더 테이블\"]}]}\n",
      "{\"startDate\":\"2017-08-24\",\"endDate\":\"2017-09-24\",\"timeUnit\":\"date\",\"keywordGroups\":[{\"groupName\":\"영화\",\"keywords\":[\"극장판 위 베어 베어스: 곰 브라더스\"]}]}\n",
      "{\"startDate\":\"2017-06-28\",\"endDate\":\"2017-07-28\",\"timeUnit\":\"date\",\"keywordGroups\":[{\"groupName\":\"영화\",\"keywords\":[\"박열\"]}]}\n",
      "{\"startDate\":\"2017-06-21\",\"endDate\":\"2017-07-21\",\"timeUnit\":\"date\",\"keywordGroups\":[{\"groupName\":\"영화\",\"keywords\":[\"트랜스포머: 최후의 기사\"]}]}\n",
      "{\"startDate\":\"2017-06-28\",\"endDate\":\"2017-07-28\",\"timeUnit\":\"date\",\"keywordGroups\":[{\"groupName\":\"영화\",\"keywords\":[\"리얼\"]}]}\n",
      "{\"startDate\":\"2017-06-29\",\"endDate\":\"2017-07-29\",\"timeUnit\":\"date\",\"keywordGroups\":[{\"groupName\":\"영화\",\"keywords\":[\"옥자\"]}]}\n",
      "{\"startDate\":\"2017-06-06\",\"endDate\":\"2017-07-06\",\"timeUnit\":\"date\",\"keywordGroups\":[{\"groupName\":\"영화\",\"keywords\":[\"미이라\"]}]}\n",
      "{\"startDate\":\"2017-06-15\",\"endDate\":\"2017-07-15\",\"timeUnit\":\"date\",\"keywordGroups\":[{\"groupName\":\"영화\",\"keywords\":[\"하루\"]}]}\n",
      "{\"startDate\":\"2017-06-28\",\"endDate\":\"2017-07-28\",\"timeUnit\":\"date\",\"keywordGroups\":[{\"groupName\":\"영화\",\"keywords\":[\"지랄발광 17세\"]}]}\n",
      "{\"startDate\":\"2017-06-08\",\"endDate\":\"2017-07-08\",\"timeUnit\":\"date\",\"keywordGroups\":[{\"groupName\":\"영화\",\"keywords\":[\"악녀\"]}]}\n",
      "{\"startDate\":\"2017-06-29\",\"endDate\":\"2017-07-29\",\"timeUnit\":\"date\",\"keywordGroups\":[{\"groupName\":\"영화\",\"keywords\":[\"부니베어: 로거빅 컴백홈 프로젝트\"]}]}\n",
      "{\"startDate\":\"2017-05-25\",\"endDate\":\"2017-06-25\",\"timeUnit\":\"date\",\"keywordGroups\":[{\"groupName\":\"영화\",\"keywords\":[\"노무현입니다\"]}]}\n",
      "{\"startDate\":\"2017-07-06\",\"endDate\":\"2017-08-06\",\"timeUnit\":\"date\",\"keywordGroups\":[{\"groupName\":\"영화\",\"keywords\":[\"그 후\"]}]}\n",
      "{\"startDate\":\"2017-07-06\",\"endDate\":\"2017-08-06\",\"timeUnit\":\"date\",\"keywordGroups\":[{\"groupName\":\"영화\",\"keywords\":[\"베를린 신드롬\"]}]}\n",
      "{\"startDate\":\"2017-06-15\",\"endDate\":\"2017-07-15\",\"timeUnit\":\"date\",\"keywordGroups\":[{\"groupName\":\"영화\",\"keywords\":[\"꼬마참새 리차드: 아프리카 원정대\"]}]}\n",
      "{\"startDate\":\"2017-06-29\",\"endDate\":\"2017-07-29\",\"timeUnit\":\"date\",\"keywordGroups\":[{\"groupName\":\"영화\",\"keywords\":[\"토마스와 친구들: 수수께끼 해적선과 보물찾기\"]}]}\n",
      "{\"startDate\":\"2017-07-20\",\"endDate\":\"2017-08-20\",\"timeUnit\":\"date\",\"keywordGroups\":[{\"groupName\":\"영화\",\"keywords\":[\"오즈: 신기한 마법가루\"]}]}\n",
      "{\"startDate\":\"2017-07-13\",\"endDate\":\"2017-08-13\",\"timeUnit\":\"date\",\"keywordGroups\":[{\"groupName\":\"영화\",\"keywords\":[\"예수는 역사다\"]}]}\n",
      "{\"startDate\":\"2017-07-19\",\"endDate\":\"2017-08-19\",\"timeUnit\":\"date\",\"keywordGroups\":[{\"groupName\":\"영화\",\"keywords\":[\"내가 죽기 전에 가장 듣고 싶은 말\"]}]}\n",
      "{\"startDate\":\"2017-07-20\",\"endDate\":\"2017-08-20\",\"timeUnit\":\"date\",\"keywordGroups\":[{\"groupName\":\"영화\",\"keywords\":[\"위시 어폰\"]}]}\n",
      "{\"startDate\":\"2017-07-26\",\"endDate\":\"2017-08-26\",\"timeUnit\":\"date\",\"keywordGroups\":[{\"groupName\":\"영화\",\"keywords\":[\"송 투 송\"]}]}\n",
      "{\"startDate\":\"2017-05-31\",\"endDate\":\"2017-06-30\",\"timeUnit\":\"date\",\"keywordGroups\":[{\"groupName\":\"영화\",\"keywords\":[\"원더 우먼\"]}]}\n",
      "{\"startDate\":\"2017-05-31\",\"endDate\":\"2017-06-30\",\"timeUnit\":\"date\",\"keywordGroups\":[{\"groupName\":\"영화\",\"keywords\":[\"대립군\"]}]}\n",
      "{\"startDate\":\"2017-05-24\",\"endDate\":\"2017-06-24\",\"timeUnit\":\"date\",\"keywordGroups\":[{\"groupName\":\"영화\",\"keywords\":[\"캐리비안의 해적: 죽은 자는 말이 없다\"]}]}\n",
      "{\"startDate\":\"2017-05-17\",\"endDate\":\"2017-06-17\",\"timeUnit\":\"date\",\"keywordGroups\":[{\"groupName\":\"영화\",\"keywords\":[\"겟 아웃\"]}]}\n",
      "{\"startDate\":\"2017-05-31\",\"endDate\":\"2017-06-30\",\"timeUnit\":\"date\",\"keywordGroups\":[{\"groupName\":\"영화\",\"keywords\":[\"7번째 내가 죽던 날\"]}]}\n",
      "{\"startDate\":\"2016-11-16\",\"endDate\":\"2016-12-16\",\"timeUnit\":\"date\",\"keywordGroups\":[{\"groupName\":\"영화\",\"keywords\":[\"하이큐!! 끝과 시작\"]}]}\n",
      "{\"startDate\":\"2017-05-25\",\"endDate\":\"2017-06-25\",\"timeUnit\":\"date\",\"keywordGroups\":[{\"groupName\":\"영화\",\"keywords\":[\"너와 100번째 사랑\"]}]}\n",
      "{\"startDate\":\"2017-06-01\",\"endDate\":\"2017-07-01\",\"timeUnit\":\"date\",\"keywordGroups\":[{\"groupName\":\"영화\",\"keywords\":[\"베이블레이드 버스트 갓 : 갓 발키리의 탄생\"]}]}\n",
      "{\"startDate\":\"2017-05-03\",\"endDate\":\"2017-06-03\",\"timeUnit\":\"date\",\"keywordGroups\":[{\"groupName\":\"영화\",\"keywords\":[\"보스 베이비\"]}]}\n",
      "{\"startDate\":\"2017-06-01\",\"endDate\":\"2017-07-01\",\"timeUnit\":\"date\",\"keywordGroups\":[{\"groupName\":\"영화\",\"keywords\":[\"바다 탐험대 옥토넛 시즌4: 더 파이널\"]}]}\n",
      "{\"startDate\":\"2017-06-01\",\"endDate\":\"2017-07-01\",\"timeUnit\":\"date\",\"keywordGroups\":[{\"groupName\":\"영화\",\"keywords\":[\"파워배틀 와치카: 와치가면의 역습\"]}]}\n",
      "{\"startDate\":\"2017-05-31\",\"endDate\":\"2017-06-30\",\"timeUnit\":\"date\",\"keywordGroups\":[{\"groupName\":\"영화\",\"keywords\":[\"꿈의 제인\"]}]}\n",
      "{\"startDate\":\"2017-06-08\",\"endDate\":\"2017-07-08\",\"timeUnit\":\"date\",\"keywordGroups\":[{\"groupName\":\"영화\",\"keywords\":[\"심야식당 2\"]}]}\n",
      "{\"startDate\":\"2017-04-27\",\"endDate\":\"2017-05-27\",\"timeUnit\":\"date\",\"keywordGroups\":[{\"groupName\":\"영화\",\"keywords\":[\"극장판 쿠로코의 농구 라스트 게임\"]}]}\n",
      "{\"startDate\":\"2017-06-08\",\"endDate\":\"2017-07-08\",\"timeUnit\":\"date\",\"keywordGroups\":[{\"groupName\":\"영화\",\"keywords\":[\"용순\"]}]}\n",
      "{\"startDate\":\"2017-06-15\",\"endDate\":\"2017-07-15\",\"timeUnit\":\"date\",\"keywordGroups\":[{\"groupName\":\"영화\",\"keywords\":[\"나의 붉은고래\"]}]}\n",
      "{\"startDate\":\"2017-06-15\",\"endDate\":\"2017-07-15\",\"timeUnit\":\"date\",\"keywordGroups\":[{\"groupName\":\"영화\",\"keywords\":[\"엘르\"]}]}\n",
      "{\"startDate\":\"2017-06-15\",\"endDate\":\"2017-07-15\",\"timeUnit\":\"date\",\"keywordGroups\":[{\"groupName\":\"영화\",\"keywords\":[\"꼬마돼지 베이브의 대모험\"]}]}\n",
      "{\"startDate\":\"2017-06-22\",\"endDate\":\"2017-07-22\",\"timeUnit\":\"date\",\"keywordGroups\":[{\"groupName\":\"영화\",\"keywords\":[\"더 서클\"]}]}\n",
      "{\"startDate\":\"2017-06-22\",\"endDate\":\"2017-07-22\",\"timeUnit\":\"date\",\"keywordGroups\":[{\"groupName\":\"영화\",\"keywords\":[\"다크 하우스\"]}]}\n",
      "{\"startDate\":\"2017-04-26\",\"endDate\":\"2017-05-26\",\"timeUnit\":\"date\",\"keywordGroups\":[{\"groupName\":\"영화\",\"keywords\":[\"임금님의 사건수첩\"]}]}\n",
      "{\"startDate\":\"2017-04-26\",\"endDate\":\"2017-05-26\",\"timeUnit\":\"date\",\"keywordGroups\":[{\"groupName\":\"영화\",\"keywords\":[\"특별시민\"]}]}\n",
      "{\"startDate\":\"2017-04-12\",\"endDate\":\"2017-05-12\",\"timeUnit\":\"date\",\"keywordGroups\":[{\"groupName\":\"영화\",\"keywords\":[\"분노의 질주: 더 익스트림\"]}]}\n",
      "{\"startDate\":\"2017-04-28\",\"endDate\":\"2017-05-28\",\"timeUnit\":\"date\",\"keywordGroups\":[{\"groupName\":\"영화\",\"keywords\":[\"스머프: 비밀의 숲\"]}]}\n"
     ]
    },
    {
     "name": "stdout",
     "output_type": "stream",
     "text": [
      "{\"startDate\":\"2017-04-27\",\"endDate\":\"2017-05-27\",\"timeUnit\":\"date\",\"keywordGroups\":[{\"groupName\":\"영화\",\"keywords\":[\"극장판 또봇: 로봇군단의 습격\"]}]}\n",
      "{\"startDate\":\"2017-03-16\",\"endDate\":\"2017-04-16\",\"timeUnit\":\"date\",\"keywordGroups\":[{\"groupName\":\"영화\",\"keywords\":[\"미녀와 야수\"]}]}\n",
      "{\"startDate\":\"2017-04-12\",\"endDate\":\"2017-05-12\",\"timeUnit\":\"date\",\"keywordGroups\":[{\"groupName\":\"영화\",\"keywords\":[\"아빠는 딸\"]}]}\n",
      "{\"startDate\":\"2017-04-26\",\"endDate\":\"2017-05-26\",\"timeUnit\":\"date\",\"keywordGroups\":[{\"groupName\":\"영화\",\"keywords\":[\"서서평, 천천히 평온하게\"]}]}\n",
      "{\"startDate\":\"2017-04-26\",\"endDate\":\"2017-05-26\",\"timeUnit\":\"date\",\"keywordGroups\":[{\"groupName\":\"영화\",\"keywords\":[\"나는 부정한다\"]}]}\n",
      "{\"startDate\":\"2017-04-20\",\"endDate\":\"2017-05-20\",\"timeUnit\":\"date\",\"keywordGroups\":[{\"groupName\":\"영화\",\"keywords\":[\"오두막\"]}]}\n",
      "{\"startDate\":\"2017-05-03\",\"endDate\":\"2017-06-03\",\"timeUnit\":\"date\",\"keywordGroups\":[{\"groupName\":\"영화\",\"keywords\":[\"가디언즈 오브 갤럭시 VOL. 2\"]}]}\n",
      "{\"startDate\":\"2017-05-03\",\"endDate\":\"2017-06-03\",\"timeUnit\":\"date\",\"keywordGroups\":[{\"groupName\":\"영화\",\"keywords\":[\"보안관\"]}]}\n",
      "{\"startDate\":\"2017-05-03\",\"endDate\":\"2017-06-03\",\"timeUnit\":\"date\",\"keywordGroups\":[{\"groupName\":\"영화\",\"keywords\":[\"슈퍼 빼꼼: 스파이 대작전\"]}]}\n",
      "{\"startDate\":\"2017-05-09\",\"endDate\":\"2017-06-09\",\"timeUnit\":\"date\",\"keywordGroups\":[{\"groupName\":\"영화\",\"keywords\":[\"목소리의 형태\"]}]}\n",
      "{\"startDate\":\"2017-05-09\",\"endDate\":\"2017-06-09\",\"timeUnit\":\"date\",\"keywordGroups\":[{\"groupName\":\"영화\",\"keywords\":[\"석조저택 살인사건\"]}]}\n",
      "{\"startDate\":\"2017-05-03\",\"endDate\":\"2017-06-03\",\"timeUnit\":\"date\",\"keywordGroups\":[{\"groupName\":\"영화\",\"keywords\":[\"언노운 걸\"]}]}\n",
      "{\"startDate\":\"2017-05-09\",\"endDate\":\"2017-06-09\",\"timeUnit\":\"date\",\"keywordGroups\":[{\"groupName\":\"영화\",\"keywords\":[\"에이리언: 커버넌트\"]}]}\n",
      "{\"startDate\":\"2017-05-17\",\"endDate\":\"2017-06-17\",\"timeUnit\":\"date\",\"keywordGroups\":[{\"groupName\":\"영화\",\"keywords\":[\"킹 아서: 제왕의 검\"]}]}\n",
      "{\"startDate\":\"2017-05-18\",\"endDate\":\"2017-06-18\",\"timeUnit\":\"date\",\"keywordGroups\":[{\"groupName\":\"영화\",\"keywords\":[\"로스트 인 파리\"]}]}\n",
      "{\"startDate\":\"2017-05-11\",\"endDate\":\"2017-06-11\",\"timeUnit\":\"date\",\"keywordGroups\":[{\"groupName\":\"영화\",\"keywords\":[\"길\"]}]}\n",
      "{\"startDate\":\"2017-03-23\",\"endDate\":\"2017-04-23\",\"timeUnit\":\"date\",\"keywordGroups\":[{\"groupName\":\"영화\",\"keywords\":[\"프리즌\"]}]}\n",
      "{\"startDate\":\"2017-03-29\",\"endDate\":\"2017-04-29\",\"timeUnit\":\"date\",\"keywordGroups\":[{\"groupName\":\"영화\",\"keywords\":[\"공각기동대 : 고스트 인 더 쉘\"]}]}\n",
      "{\"startDate\":\"2017-03-29\",\"endDate\":\"2017-04-29\",\"timeUnit\":\"date\",\"keywordGroups\":[{\"groupName\":\"영화\",\"keywords\":[\"원라인\"]}]}\n",
      "{\"startDate\":\"2017-03-23\",\"endDate\":\"2017-04-23\",\"timeUnit\":\"date\",\"keywordGroups\":[{\"groupName\":\"영화\",\"keywords\":[\"히든 피겨스\"]}]}\n",
      "{\"startDate\":\"2017-03-23\",\"endDate\":\"2017-04-23\",\"timeUnit\":\"date\",\"keywordGroups\":[{\"groupName\":\"영화\",\"keywords\":[\"보통사람\"]}]}\n",
      "{\"startDate\":\"2017-03-29\",\"endDate\":\"2017-04-29\",\"timeUnit\":\"date\",\"keywordGroups\":[{\"groupName\":\"영화\",\"keywords\":[\"데스노트: 더 뉴 월드\"]}]}\n",
      "{\"startDate\":\"2017-03-29\",\"endDate\":\"2017-04-29\",\"timeUnit\":\"date\",\"keywordGroups\":[{\"groupName\":\"영화\",\"keywords\":[\"미스 슬로운\"]}]}\n",
      "{\"startDate\":\"2017-03-23\",\"endDate\":\"2017-04-23\",\"timeUnit\":\"date\",\"keywordGroups\":[{\"groupName\":\"영화\",\"keywords\":[\"아기돼지 3형제와 매직램프\"]}]}\n",
      "{\"startDate\":\"2017-03-23\",\"endDate\":\"2017-04-23\",\"timeUnit\":\"date\",\"keywordGroups\":[{\"groupName\":\"영화\",\"keywords\":[\"밤의 해변에서 혼자\"]}]}\n",
      "{\"startDate\":\"2017-03-23\",\"endDate\":\"2017-04-23\",\"timeUnit\":\"date\",\"keywordGroups\":[{\"groupName\":\"영화\",\"keywords\":[\"극장판 암살교실 : 365일의 시간\"]}]}\n",
      "{\"startDate\":\"2017-04-05\",\"endDate\":\"2017-05-05\",\"timeUnit\":\"date\",\"keywordGroups\":[{\"groupName\":\"영화\",\"keywords\":[\"라이프\"]}]}\n",
      "{\"startDate\":\"2017-04-05\",\"endDate\":\"2017-05-05\",\"timeUnit\":\"date\",\"keywordGroups\":[{\"groupName\":\"영화\",\"keywords\":[\"어느날\"]}]}\n",
      "{\"startDate\":\"2017-04-05\",\"endDate\":\"2017-05-05\",\"timeUnit\":\"date\",\"keywordGroups\":[{\"groupName\":\"영화\",\"keywords\":[\"시간위의 집\"]}]}\n",
      "{\"startDate\":\"2017-04-06\",\"endDate\":\"2017-05-06\",\"timeUnit\":\"date\",\"keywordGroups\":[{\"groupName\":\"영화\",\"keywords\":[\"패트리어트 데이\"]}]}\n",
      "{\"startDate\":\"2017-04-06\",\"endDate\":\"2017-05-06\",\"timeUnit\":\"date\",\"keywordGroups\":[{\"groupName\":\"영화\",\"keywords\":[\"링스\"]}]}\n",
      "{\"startDate\":\"2017-04-13\",\"endDate\":\"2017-05-13\",\"timeUnit\":\"date\",\"keywordGroups\":[{\"groupName\":\"영화\",\"keywords\":[\"지니어스\"]}]}\n",
      "{\"startDate\":\"2017-04-13\",\"endDate\":\"2017-05-13\",\"timeUnit\":\"date\",\"keywordGroups\":[{\"groupName\":\"영화\",\"keywords\":[\"리틀 프린세스 소피아: 엘레나와 비밀의 아발로 왕국\"]}]}\n",
      "{\"startDate\":\"2017-04-20\",\"endDate\":\"2017-05-20\",\"timeUnit\":\"date\",\"keywordGroups\":[{\"groupName\":\"영화\",\"keywords\":[\"파워레인져스: 더 비기닝\"]}]}\n",
      "{\"startDate\":\"2017-04-20\",\"endDate\":\"2017-05-20\",\"timeUnit\":\"date\",\"keywordGroups\":[{\"groupName\":\"영화\",\"keywords\":[\"더 플랜\"]}]}\n",
      "{\"startDate\":\"2017-04-20\",\"endDate\":\"2017-05-20\",\"timeUnit\":\"date\",\"keywordGroups\":[{\"groupName\":\"영화\",\"keywords\":[\"파운더\"]}]}\n",
      "{\"startDate\":\"2017-04-20\",\"endDate\":\"2017-05-20\",\"timeUnit\":\"date\",\"keywordGroups\":[{\"groupName\":\"영화\",\"keywords\":[\"콜로설\"]}]}\n",
      "{\"startDate\":\"2017-03-01\",\"endDate\":\"2017-04-01\",\"timeUnit\":\"date\",\"keywordGroups\":[{\"groupName\":\"영화\",\"keywords\":[\"해빙\"]}]}\n",
      "{\"startDate\":\"2017-03-01\",\"endDate\":\"2017-04-01\",\"timeUnit\":\"date\",\"keywordGroups\":[{\"groupName\":\"영화\",\"keywords\":[\"로건\"]}]}\n",
      "{\"startDate\":\"2017-02-22\",\"endDate\":\"2017-03-22\",\"timeUnit\":\"date\",\"keywordGroups\":[{\"groupName\":\"영화\",\"keywords\":[\"23 아이덴티티\"]}]}\n",
      "{\"startDate\":\"2017-02-15\",\"endDate\":\"2017-03-15\",\"timeUnit\":\"date\",\"keywordGroups\":[{\"groupName\":\"영화\",\"keywords\":[\"재심\"]}]}\n",
      "{\"startDate\":\"2017-02-16\",\"endDate\":\"2017-03-16\",\"timeUnit\":\"date\",\"keywordGroups\":[{\"groupName\":\"영화\",\"keywords\":[\"트롤\"]}]}\n",
      "{\"startDate\":\"2017-03-01\",\"endDate\":\"2017-04-01\",\"timeUnit\":\"date\",\"keywordGroups\":[{\"groupName\":\"영화\",\"keywords\":[\"눈길\"]}]}\n",
      "{\"startDate\":\"2017-02-09\",\"endDate\":\"2017-03-09\",\"timeUnit\":\"date\",\"keywordGroups\":[{\"groupName\":\"영화\",\"keywords\":[\"조작된 도시\"]}]}\n",
      "{\"startDate\":\"2017-02-22\",\"endDate\":\"2017-03-22\",\"timeUnit\":\"date\",\"keywordGroups\":[{\"groupName\":\"영화\",\"keywords\":[\"문라이트\"]}]}\n",
      "{\"startDate\":\"2017-02-28\",\"endDate\":\"2017-03-28\",\"timeUnit\":\"date\",\"keywordGroups\":[{\"groupName\":\"영화\",\"keywords\":[\"사일런스\"]}]}\n",
      "{\"startDate\":\"2017-02-22\",\"endDate\":\"2017-03-22\",\"timeUnit\":\"date\",\"keywordGroups\":[{\"groupName\":\"영화\",\"keywords\":[\"존 윅 - 리로드\"]}]}\n",
      "{\"startDate\":\"2017-03-08\",\"endDate\":\"2017-04-08\",\"timeUnit\":\"date\",\"keywordGroups\":[{\"groupName\":\"영화\",\"keywords\":[\"콩: 스컬 아일랜드\"]}]}\n",
      "{\"startDate\":\"2017-03-08\",\"endDate\":\"2017-04-08\",\"timeUnit\":\"date\",\"keywordGroups\":[{\"groupName\":\"영화\",\"keywords\":[\"파도가 지나간 자리\"]}]}\n",
      "{\"startDate\":\"2017-03-09\",\"endDate\":\"2017-04-09\",\"timeUnit\":\"date\",\"keywordGroups\":[{\"groupName\":\"영화\",\"keywords\":[\"걸 온 더 트레인\"]}]}\n",
      "{\"startDate\":\"2017-02-23\",\"endDate\":\"2017-03-23\",\"timeUnit\":\"date\",\"keywordGroups\":[{\"groupName\":\"영화\",\"keywords\":[\"극장판 소드 아트 온라인 -오디널 스케일-\"]}]}\n",
      "{\"startDate\":\"2017-03-16\",\"endDate\":\"2017-04-16\",\"timeUnit\":\"date\",\"keywordGroups\":[{\"groupName\":\"영화\",\"keywords\":[\"비정규직 특수요원\"]}]}\n",
      "{\"startDate\":\"2017-03-16\",\"endDate\":\"2017-04-16\",\"timeUnit\":\"date\",\"keywordGroups\":[{\"groupName\":\"영화\",\"keywords\":[\"스페이스 비트윈 어스\"]}]}\n",
      "{\"startDate\":\"2017-03-22\",\"endDate\":\"2017-04-22\",\"timeUnit\":\"date\",\"keywordGroups\":[{\"groupName\":\"영화\",\"keywords\":[\"골드\"]}]}\n",
      "{\"startDate\":\"2017-03-22\",\"endDate\":\"2017-04-22\",\"timeUnit\":\"date\",\"keywordGroups\":[{\"groupName\":\"영화\",\"keywords\":[\"아우토반\"]}]}\n",
      "{\"startDate\":\"2017-03-30\",\"endDate\":\"2017-04-30\",\"timeUnit\":\"date\",\"keywordGroups\":[{\"groupName\":\"영화\",\"keywords\":[\"분노\"]}]}\n",
      "{\"startDate\":\"2017-01-18\",\"endDate\":\"2017-02-18\",\"timeUnit\":\"date\",\"keywordGroups\":[{\"groupName\":\"영화\",\"keywords\":[\"공조\"]}]}\n",
      "{\"startDate\":\"2017-01-18\",\"endDate\":\"2017-02-18\",\"timeUnit\":\"date\",\"keywordGroups\":[{\"groupName\":\"영화\",\"keywords\":[\"더 킹\"]}]}\n",
      "{\"startDate\":\"2017-01-25\",\"endDate\":\"2017-02-25\",\"timeUnit\":\"date\",\"keywordGroups\":[{\"groupName\":\"영화\",\"keywords\":[\"레지던트 이블: 파멸의 날\"]}]}\n",
      "{\"startDate\":\"2017-01-12\",\"endDate\":\"2017-02-12\",\"timeUnit\":\"date\",\"keywordGroups\":[{\"groupName\":\"영화\",\"keywords\":[\"모아나\"]}]}\n",
      "{\"startDate\":\"2017-02-01\",\"endDate\":\"2017-03-01\",\"timeUnit\":\"date\",\"keywordGroups\":[{\"groupName\":\"영화\",\"keywords\":[\"라이언\"]}]}\n",
      "{\"startDate\":\"2017-01-25\",\"endDate\":\"2017-02-25\",\"timeUnit\":\"date\",\"keywordGroups\":[{\"groupName\":\"영화\",\"keywords\":[\"딥워터 호라이즌\"]}]}\n",
      "{\"startDate\":\"2017-01-25\",\"endDate\":\"2017-02-25\",\"timeUnit\":\"date\",\"keywordGroups\":[{\"groupName\":\"영화\",\"keywords\":[\"짱구는 못말려 극장판: 폭풍수면! 꿈꾸는 세계 대돌격\"]}]}\n",
      "{\"startDate\":\"2017-01-18\",\"endDate\":\"2017-02-18\",\"timeUnit\":\"date\",\"keywordGroups\":[{\"groupName\":\"영화\",\"keywords\":[\"터닝메카드W: 블랙미러의 부활\"]}]}\n"
     ]
    },
    {
     "name": "stdout",
     "output_type": "stream",
     "text": [
      "{\"startDate\":\"2017-02-02\",\"endDate\":\"2017-03-02\",\"timeUnit\":\"date\",\"keywordGroups\":[{\"groupName\":\"영화\",\"keywords\":[\"컨택트\"]}]}\n",
      "{\"startDate\":\"2017-01-25\",\"endDate\":\"2017-02-25\",\"timeUnit\":\"date\",\"keywordGroups\":[{\"groupName\":\"영화\",\"keywords\":[\"매기스 플랜\"]}]}\n",
      "{\"startDate\":\"2017-02-09\",\"endDate\":\"2017-03-09\",\"timeUnit\":\"date\",\"keywordGroups\":[{\"groupName\":\"영화\",\"keywords\":[\"레고 배트맨 무비\"]}]}\n",
      "{\"startDate\":\"2017-02-01\",\"endDate\":\"2017-03-01\",\"timeUnit\":\"date\",\"keywordGroups\":[{\"groupName\":\"영화\",\"keywords\":[\"뚜르: 내 생애 최고의 49일\"]}]}\n",
      "{\"startDate\":\"2017-02-09\",\"endDate\":\"2017-03-09\",\"timeUnit\":\"date\",\"keywordGroups\":[{\"groupName\":\"영화\",\"keywords\":[\"발레리나\"]}]}\n",
      "{\"startDate\":\"2017-02-08\",\"endDate\":\"2017-03-08\",\"timeUnit\":\"date\",\"keywordGroups\":[{\"groupName\":\"영화\",\"keywords\":[\"트리플 엑스 리턴즈\"]}]}\n",
      "{\"startDate\":\"2017-02-08\",\"endDate\":\"2017-03-08\",\"timeUnit\":\"date\",\"keywordGroups\":[{\"groupName\":\"영화\",\"keywords\":[\"명탐정 코난: 에피소드 원-작아진 명탐정\"]}]}\n",
      "{\"startDate\":\"2017-02-09\",\"endDate\":\"2017-03-09\",\"timeUnit\":\"date\",\"keywordGroups\":[{\"groupName\":\"영화\",\"keywords\":[\"50가지 그림자: 심연\"]}]}\n",
      "{\"startDate\":\"2017-02-15\",\"endDate\":\"2017-03-15\",\"timeUnit\":\"date\",\"keywordGroups\":[{\"groupName\":\"영화\",\"keywords\":[\"그레이트 월\"]}]}\n",
      "{\"startDate\":\"2017-02-15\",\"endDate\":\"2017-03-15\",\"timeUnit\":\"date\",\"keywordGroups\":[{\"groupName\":\"영화\",\"keywords\":[\"더 큐어\"]}]}\n",
      "{\"startDate\":\"2017-02-15\",\"endDate\":\"2017-03-15\",\"timeUnit\":\"date\",\"keywordGroups\":[{\"groupName\":\"영화\",\"keywords\":[\"그래, 가족\"]}]}\n",
      "{\"startDate\":\"2017-02-16\",\"endDate\":\"2017-03-16\",\"timeUnit\":\"date\",\"keywordGroups\":[{\"groupName\":\"영화\",\"keywords\":[\"마이펫 오지\"]}]}\n",
      "{\"startDate\":\"2017-02-22\",\"endDate\":\"2017-03-22\",\"timeUnit\":\"date\",\"keywordGroups\":[{\"groupName\":\"영화\",\"keywords\":[\"싱글라이더\"]}]}\n",
      "{\"startDate\":\"2017-02-22\",\"endDate\":\"2017-03-22\",\"timeUnit\":\"date\",\"keywordGroups\":[{\"groupName\":\"영화\",\"keywords\":[\"루시드 드림\"]}]}\n",
      "{\"startDate\":\"2017-02-22\",\"endDate\":\"2017-03-22\",\"timeUnit\":\"date\",\"keywordGroups\":[{\"groupName\":\"영화\",\"keywords\":[\"핵소 고지\"]}]}\n",
      "{\"startDate\":\"2016-12-21\",\"endDate\":\"2017-01-21\",\"timeUnit\":\"date\",\"keywordGroups\":[{\"groupName\":\"영화\",\"keywords\":[\"마스터\"]}]}\n",
      "{\"startDate\":\"2016-12-28\",\"endDate\":\"2017-01-28\",\"timeUnit\":\"date\",\"keywordGroups\":[{\"groupName\":\"영화\",\"keywords\":[\"로그 원: 스타워즈 스토리\"]}]}\n",
      "{\"startDate\":\"2016-12-21\",\"endDate\":\"2017-01-21\",\"timeUnit\":\"date\",\"keywordGroups\":[{\"groupName\":\"영화\",\"keywords\":[\"씽\"]}]}\n",
      "{\"startDate\":\"2016-12-07\",\"endDate\":\"2017-01-07\",\"timeUnit\":\"date\",\"keywordGroups\":[{\"groupName\":\"영화\",\"keywords\":[\"판도라\"]}]}\n",
      "{\"startDate\":\"2016-12-28\",\"endDate\":\"2017-01-28\",\"timeUnit\":\"date\",\"keywordGroups\":[{\"groupName\":\"영화\",\"keywords\":[\"루돌프와 많이있어\"]}]}\n",
      "{\"startDate\":\"2016-12-22\",\"endDate\":\"2017-01-22\",\"timeUnit\":\"date\",\"keywordGroups\":[{\"groupName\":\"영화\",\"keywords\":[\"포켓몬 더 무비 XY&Z 「볼케니온 : 기계왕국의 비밀」\"]}]}\n",
      "{\"startDate\":\"2016-12-14\",\"endDate\":\"2017-01-14\",\"timeUnit\":\"date\",\"keywordGroups\":[{\"groupName\":\"영화\",\"keywords\":[\"당신, 거기 있어줄래요\"]}]}\n",
      "{\"startDate\":\"2016-12-21\",\"endDate\":\"2017-01-21\",\"timeUnit\":\"date\",\"keywordGroups\":[{\"groupName\":\"영화\",\"keywords\":[\"극장판 도라에몽: 신 진구의 버스 오브 재팬\"]}]}\n",
      "{\"startDate\":\"2016-12-08\",\"endDate\":\"2017-01-08\",\"timeUnit\":\"date\",\"keywordGroups\":[{\"groupName\":\"영화\",\"keywords\":[\"나, 다니엘 블레이크\"]}]}\n",
      "{\"startDate\":\"2017-01-12\",\"endDate\":\"2017-02-12\",\"timeUnit\":\"date\",\"keywordGroups\":[{\"groupName\":\"영화\",\"keywords\":[\"7년-그들이 없는 언론\"]}]}\n",
      "{\"startDate\":\"2017-01-04\",\"endDate\":\"2017-02-04\",\"timeUnit\":\"date\",\"keywordGroups\":[{\"groupName\":\"영화\",\"keywords\":[\"패신저스\"]}]}\n",
      "{\"startDate\":\"2017-01-04\",\"endDate\":\"2017-02-04\",\"timeUnit\":\"date\",\"keywordGroups\":[{\"groupName\":\"영화\",\"keywords\":[\"사랑하기 때문에\"]}]}\n",
      "{\"startDate\":\"2017-01-04\",\"endDate\":\"2017-02-04\",\"timeUnit\":\"date\",\"keywordGroups\":[{\"groupName\":\"영화\",\"keywords\":[\"눈의 여왕 3: 눈과 불의 마법대결\"]}]}\n",
      "{\"startDate\":\"2017-01-04\",\"endDate\":\"2017-02-04\",\"timeUnit\":\"date\",\"keywordGroups\":[{\"groupName\":\"영화\",\"keywords\":[\"여교사\"]}]}\n",
      "{\"startDate\":\"2017-01-11\",\"endDate\":\"2017-02-11\",\"timeUnit\":\"date\",\"keywordGroups\":[{\"groupName\":\"영화\",\"keywords\":[\"어쌔신 크리드\"]}]}\n",
      "{\"startDate\":\"2017-01-11\",\"endDate\":\"2017-02-11\",\"timeUnit\":\"date\",\"keywordGroups\":[{\"groupName\":\"영화\",\"keywords\":[\"얼라이드\"]}]}\n",
      "{\"startDate\":\"2017-01-11\",\"endDate\":\"2017-02-11\",\"timeUnit\":\"date\",\"keywordGroups\":[{\"groupName\":\"영화\",\"keywords\":[\"반지의 제왕 : 반지원정대 (확장판)\"]}]}\n",
      "{\"startDate\":\"2017-01-18\",\"endDate\":\"2017-02-18\",\"timeUnit\":\"date\",\"keywordGroups\":[{\"groupName\":\"영화\",\"keywords\":[\"반지의 제왕 : 두개의 탑 (확장판)\"]}]}\n",
      "{\"startDate\":\"2017-01-18\",\"endDate\":\"2017-02-18\",\"timeUnit\":\"date\",\"keywordGroups\":[{\"groupName\":\"영화\",\"keywords\":[\"단지 세상의 끝\"]}]}\n",
      "{\"startDate\":\"2017-01-25\",\"endDate\":\"2017-02-25\",\"timeUnit\":\"date\",\"keywordGroups\":[{\"groupName\":\"영화\",\"keywords\":[\"반지의 제왕 : 왕의 귀환 (확장판)\"]}]}\n",
      "{\"startDate\":\"2017-01-25\",\"endDate\":\"2017-02-25\",\"timeUnit\":\"date\",\"keywordGroups\":[{\"groupName\":\"영화\",\"keywords\":[\"바다 탐험대 옥토넛 시즌4: 바다 괴물 대소동\"]}]}\n",
      "\n"
     ]
    }
   ],
   "source": [
    "for i in tqdm_notebook(range(len(df1['naver_movieCd']))):\n",
    "    m_name = df1['movieNm'][i]\n",
    "    m_code = df1['movieCd'][i]\n",
    "    n_code = df1['naver_movieCd'][i]\n",
    "    \n",
    "    with open('/home/ubuntu/movie/raw_data/movie_info/'+str(m_code)+'.json') as data_file:    \n",
    "        data = json.load(data_file)\n",
    "    openDt = data['movieInfoResult']['movieInfo']['openDt']\n",
    "    \n",
    "    idt = date(2016,1,1)\n",
    "    sdt = date(int(str(openDt)[0:4]),int(str(openDt)[4:6]),int(str(openDt)[6:8]))\n",
    "    edt = sdt + relativedelta(months=1)\n",
    "    \n",
    "    if(sdt > idt):\n",
    "        client_id = \"nA8Iwm4HJ6EM2W1dueU9\"\n",
    "        client_secret = \"HaEPQCPbyQ\"\n",
    "        url = \"https://openapi.naver.com/v1/datalab/search\"\n",
    "\n",
    "        # body='{\\\"startDate\\\":\\\"'+str(sdt)+'\\\",\\\"endDate\\\":\\\"2017-01-21\\\",\\\"timeUnit\\\":\\\"date\\\",\\\"keywordGroups\\\":[{\\\"groupName\\\":\\\"영화\\\",\\\"keywords\\\":[\\\"'+'꾼'+'\\\"]}]}'\n",
    "        body='{\\\"startDate\\\":\\\"'+str(sdt)+'\\\",\\\"endDate\\\":\\\"'+str(edt)+'\\\",\\\"timeUnit\\\":\\\"date\\\",\\\"keywordGroups\\\":[{\\\"groupName\\\":\\\"영화\\\",\\\"keywords\\\":[\\\"'+m_name+'\\\"]}]}'\n",
    "\n",
    "        print(body)\n",
    "        request = urllib.request.Request(url)\n",
    "        request.add_header(\"X-Naver-Client-Id\",client_id)\n",
    "        request.add_header(\"X-Naver-Client-Secret\",client_secret)\n",
    "        request.add_header(\"Content-Type\",\"application/json\")\n",
    "        response = urllib.request.urlopen(request, data=body.encode(\"utf-8\"))\n",
    "        rescode = response.getcode()\n",
    "        if(rescode==200):\n",
    "            response_body = response.read()\n",
    "\n",
    "            d = json.loads(response_body)\n",
    "        #     print(response_body.decode('utf-8'))\n",
    "#             with open('data2/datalab/'+str(n_code)+'.json', 'w', encoding=\"utf-8\") as make_file:\n",
    "#                 json.dump(d, make_file, ensure_ascii=False, indent=\"\\t\")\n",
    "        else:\n",
    "            print(\"Error Code:\" + rescode)\n",
    "            \n",
    "        d['results'][0]['data']\n",
    "        df = pd.DataFrame(d['results'][0]['data'])\n",
    "        df.to_csv('/home/ubuntu/movie/data/datalab/'+str(n_code)[:-2]+'_datalab.csv',index=False)\n",
    "    else:\n",
    "        pass"
   ]
  },
  {
   "cell_type": "code",
   "execution_count": 13,
   "metadata": {},
   "outputs": [],
   "source": [
    "import requests\n",
    "from bs4 import BeautifulSoup\n",
    "from datetime import datetime\n",
    "import sys\n",
    "import os\n",
    "import pandas as pd\n",
    "from tqdm import tqdm_notebook\n",
    "import multiprocessing\n",
    "\n",
    "af='after'\n",
    "be='before'\n",
    "lis = pd.read_csv('/home/ubuntu/movie/data/naver_movie_all.csv')\n",
    "j=0\n",
    "movie_lis2=[]\n",
    "for i in range(len(lis['naver_movieCd'])):\n",
    "    if(os.path.isfile('/home/ubuntu/movie/data/after/'+str(lis['naver_movieCd'][i])[:-2]+'.csv') == True):\n",
    "        movie_lis2.insert(j,str(lis['naver_movieCd'][i])[:-2])\n",
    "        j+=1"
   ]
  },
  {
   "cell_type": "code",
   "execution_count": 11,
   "metadata": {},
   "outputs": [
    {
     "data": {
      "application/vnd.jupyter.widget-view+json": {
       "model_id": "07736a869d7944e1b9603e2915d7e80d",
       "version_major": 2,
       "version_minor": 0
      },
      "text/plain": [
       "HBox(children=(IntProgress(value=0, max=306), HTML(value='')))"
      ]
     },
     "metadata": {},
     "output_type": "display_data"
    },
    {
     "name": "stdout",
     "output_type": "stream",
     "text": [
      "\n"
     ]
    }
   ],
   "source": [
    "from tqdm import tqdm_notebook\n",
    "df1 = pd.read_csv('/home/ubuntu/movie/data/naver_movie_all.csv')\n",
    "\n",
    "for i in tqdm_notebook(range(len(df1))): #range(len(df1)):\n",
    "    ncd = str(df1['naver_movieCd'][i])[:-2]\n",
    "#     print(ncd)\n",
    "    try:\n",
    "        df2 = pd.read_csv('/home/ubuntu/movie/data/datalab/'+ncd+'_datalab.csv')\n",
    "        df3 = pd.read_csv('/home/ubuntu/movie/data/after_rating/'+ncd+'_rating.csv')\n",
    "    \n",
    "        for i in range(len(df3)):\n",
    "            df3['0'][i] = str(df3['0'][i])[0:4]+\"-\"+str(df3['0'][i])[4:6]+\"-\"+str(df3['0'][i])[6:8]\n",
    "        df3.rename(columns={\"0\":\"period\"}, inplace = True)\n",
    "        df4 = pd.merge(df2,df3,how='left',on='period')\n",
    "        for i in range(len(df4)):\n",
    "            df4['1'][i] = df4['1'][i] * 100\n",
    "            df4['2'][i] = df4['2'][i] * 10\n",
    "        df4.to_csv('/home/ubuntu/movie/data/merge/'+ncd+'_merge.csv',index=False)\n",
    "    except FileNotFoundError:\n",
    "        pass"
   ]
  },
  {
   "cell_type": "code",
   "execution_count": null,
   "metadata": {},
   "outputs": [],
   "source": []
  },
  {
   "cell_type": "code",
   "execution_count": null,
   "metadata": {},
   "outputs": [],
   "source": []
  }
 ],
 "metadata": {
  "kernelspec": {
   "display_name": "Python 3",
   "language": "python",
   "name": "python3"
  },
  "language_info": {
   "codemirror_mode": {
    "name": "ipython",
    "version": 3
   },
   "file_extension": ".py",
   "mimetype": "text/x-python",
   "name": "python",
   "nbconvert_exporter": "python",
   "pygments_lexer": "ipython3",
   "version": "3.6.7"
  }
 },
 "nbformat": 4,
 "nbformat_minor": 2
}
