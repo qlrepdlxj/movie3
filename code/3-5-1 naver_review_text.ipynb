{
 "cells": [
  {
   "cell_type": "code",
   "execution_count": 13,
   "metadata": {
    "scrolled": false
   },
   "outputs": [
    {
     "name": "stdout",
     "output_type": "stream",
     "text": [
      "166807\n",
      "total_count over  45\n",
      "165030\n",
      "total_count over  790\n",
      "118955\n",
      "total_count over  2865\n",
      "153651\n"
     ]
    },
    {
     "data": {
      "application/vnd.jupyter.widget-view+json": {
       "model_id": "e067b53587f5495eb486b7ba022005d8",
       "version_major": 2,
       "version_minor": 0
      },
      "text/plain": [
       "HBox(children=(IntProgress(value=0, max=1004), HTML(value='')))"
      ]
     },
     "metadata": {},
     "output_type": "display_data"
    },
    {
     "name": "stdout",
     "output_type": "stream",
     "text": [
      "164335\n",
      "total_count over  166\n",
      "171753\n",
      "total_count over  181\n",
      "154598\n",
      "total_count over  1476\n",
      "162932\n",
      "total_count over  1378\n",
      "150687\n",
      "total_count over  917\n",
      "158626\n",
      "total_count over  5219\n",
      "154594\n",
      "total_count over  449\n",
      "171767\n",
      "170427\n",
      "total_count over  999\n",
      "total_count over  77\n",
      "159037\n",
      "total_count over  2666\n",
      "144381\n",
      "total_count over  94\n",
      "141206\n",
      "100205\n",
      "total_count over  1197\n",
      "152249\n",
      "total_count over  1514\n",
      "149504\n",
      "134963\n",
      "total_count over  2016\n"
     ]
    },
    {
     "data": {
      "application/vnd.jupyter.widget-view+json": {
       "model_id": "3de4f3d8bbf14ee9b76bedb6491be5db",
       "version_major": 2,
       "version_minor": 0
      },
      "text/plain": [
       "HBox(children=(IntProgress(value=0, max=2254), HTML(value='')))"
      ]
     },
     "metadata": {},
     "output_type": "display_data"
    },
    {
     "name": "stdout",
     "output_type": "stream",
     "text": [
      "151254\n",
      "total_count over  501\n",
      "171727\n",
      "total_count over  241\n",
      "152385\n"
     ]
    },
    {
     "data": {
      "application/vnd.jupyter.widget-view+json": {
       "model_id": "ee44465dd6d04a8c8251026c1a1ef6cf",
       "version_major": 2,
       "version_minor": 0
      },
      "text/plain": [
       "HBox(children=(IntProgress(value=0, max=1238), HTML(value='')))"
      ]
     },
     "metadata": {},
     "output_type": "display_data"
    },
    {
     "data": {
      "application/vnd.jupyter.widget-view+json": {
       "model_id": "f653e078063a462cae56238229b8008b",
       "version_major": 2,
       "version_minor": 0
      },
      "text/plain": [
       "HBox(children=(IntProgress(value=0, max=851), HTML(value='')))"
      ]
     },
     "metadata": {},
     "output_type": "display_data"
    },
    {
     "name": "stdout",
     "output_type": "stream",
     "text": [
      "\n",
      "169561\n",
      "total_count over  807\n",
      "160749\n",
      "total_count over  5258\n",
      "153642\n",
      "total_count over  4684\n",
      "152268\n",
      "total_count over  891\n",
      "164968\n",
      "total_count over  3126\n",
      "165669\n",
      "total_count over  969\n",
      "164108\n",
      "total_count over  273\n",
      "143250\n",
      "total_count over  62\n",
      "121052\n",
      "total_count over  941\n",
      "142317\n",
      "total_count over  2441\n",
      "163386\n",
      "total_count over  930\n",
      "99093\n",
      "total_count over  176\n",
      "158576\n",
      "total_count over  232\n",
      "155715\n",
      "total_count over  3059\n",
      "169262\n",
      "total_count over  810\n",
      "164986\n",
      "total_count over  256\n",
      "142210\n",
      "total_count over  822\n",
      "169348\n",
      "total_count over  322\n",
      "169850\n",
      "total_count over  118\n",
      "149747\n"
     ]
    },
    {
     "data": {
      "application/vnd.jupyter.widget-view+json": {
       "model_id": "840775a57a11446886c498f1985dbf63",
       "version_major": 2,
       "version_minor": 0
      },
      "text/plain": [
       "HBox(children=(IntProgress(value=0, max=1999), HTML(value='')))"
      ]
     },
     "metadata": {},
     "output_type": "display_data"
    },
    {
     "name": "stdout",
     "output_type": "stream",
     "text": [
      "\n",
      "158180\n"
     ]
    },
    {
     "data": {
      "application/vnd.jupyter.widget-view+json": {
       "model_id": "619234eddedf4e78a9203523c1924847",
       "version_major": 2,
       "version_minor": 0
      },
      "text/plain": [
       "HBox(children=(IntProgress(value=0, max=1411), HTML(value='')))"
      ]
     },
     "metadata": {},
     "output_type": "display_data"
    },
    {
     "name": "stdout",
     "output_type": "stream",
     "text": [
      "\n",
      "160399\n"
     ]
    },
    {
     "data": {
      "application/vnd.jupyter.widget-view+json": {
       "model_id": "c8e790339a444b86aedb0581bf742b9e",
       "version_major": 2,
       "version_minor": 0
      },
      "text/plain": [
       "HBox(children=(IntProgress(value=0, max=929), HTML(value='')))"
      ]
     },
     "metadata": {},
     "output_type": "display_data"
    },
    {
     "name": "stdout",
     "output_type": "stream",
     "text": [
      "\n",
      "154272\n",
      "total_count over  4534\n",
      "155411\n",
      "total_count over  3794\n",
      "39440\n"
     ]
    },
    {
     "data": {
      "application/vnd.jupyter.widget-view+json": {
       "model_id": "b4fbe65237d64aeebd45619c298dabc7",
       "version_major": 2,
       "version_minor": 0
      },
      "text/plain": [
       "HBox(children=(IntProgress(value=0, max=870), HTML(value='')))"
      ]
     },
     "metadata": {},
     "output_type": "display_data"
    },
    {
     "name": "stdout",
     "output_type": "stream",
     "text": [
      "\n",
      "158647\n",
      "total_count over  2505\n",
      "151728\n"
     ]
    },
    {
     "data": {
      "application/vnd.jupyter.widget-view+json": {
       "model_id": "fdb95b9ae70d46f4aed54305f554ffb4",
       "version_major": 2,
       "version_minor": 0
      },
      "text/plain": [
       "HBox(children=(IntProgress(value=0, max=1473), HTML(value='')))"
      ]
     },
     "metadata": {},
     "output_type": "display_data"
    },
    {
     "name": "stdout",
     "output_type": "stream",
     "text": [
      "\n",
      "156200\n",
      "total_count over  616\n",
      "125439\n",
      "total_count over  418\n",
      "137890\n"
     ]
    },
    {
     "data": {
      "application/vnd.jupyter.widget-view+json": {
       "model_id": "b772a0a1377342aeb00d525d85bbf675",
       "version_major": 2,
       "version_minor": 0
      },
      "text/plain": [
       "HBox(children=(IntProgress(value=0, max=1059), HTML(value='')))"
      ]
     },
     "metadata": {},
     "output_type": "display_data"
    },
    {
     "name": "stdout",
     "output_type": "stream",
     "text": [
      "\n",
      "125418\n",
      "total_count over  366\n",
      "19031\n",
      "total_count over  5603\n",
      "36843\n",
      "total_count over  5377\n",
      "168478\n",
      "total_count over  68\n",
      "144975\n",
      "total_count over  1062\n",
      "161242\n"
     ]
    },
    {
     "data": {
      "application/vnd.jupyter.widget-view+json": {
       "model_id": "aa091ab4125f460f9aeaa5c471896e7a",
       "version_major": 2,
       "version_minor": 0
      },
      "text/plain": [
       "HBox(children=(IntProgress(value=0, max=2843), HTML(value='')))"
      ]
     },
     "metadata": {},
     "output_type": "display_data"
    },
    {
     "name": "stdout",
     "output_type": "stream",
     "text": [
      "\n",
      "116866\n"
     ]
    },
    {
     "data": {
      "application/vnd.jupyter.widget-view+json": {
       "model_id": "42939409168e46918fe5871dff8173f8",
       "version_major": 2,
       "version_minor": 0
      },
      "text/plain": [
       "HBox(children=(IntProgress(value=0, max=1122), HTML(value='')))"
      ]
     },
     "metadata": {},
     "output_type": "display_data"
    },
    {
     "name": "stdout",
     "output_type": "stream",
     "text": [
      "\n",
      "152625\n",
      "total_count over  3152\n",
      "143402\n",
      "total_count over  4533\n",
      "165514\n",
      "total_count over  320\n",
      "159516\n",
      "total_count over  2213\n",
      "151674\n",
      "total_count over  1390\n",
      "163663\n",
      "total_count over  658\n",
      "88227\n",
      "total_count over  3333\n",
      "140696\n",
      "total_count over  2880\n",
      "143390\n",
      "total_count over  546\n",
      "143469\n",
      "total_count over  718\n",
      "154573\n",
      "total_count over  921\n",
      "162200\n",
      "total_count over  77\n",
      "143489\n",
      "total_count over  112\n",
      "137970\n",
      "total_count over  3661\n",
      "152650\n",
      "total_count over  968\n",
      "159741\n",
      "total_count over  827\n",
      "149517\n",
      "total_count over  410\n",
      "162113\n",
      "total_count over  80\n",
      "153652\n"
     ]
    },
    {
     "data": {
      "application/vnd.jupyter.widget-view+json": {
       "model_id": "a892c8f4401b415b9e08b68682edafbf",
       "version_major": 2,
       "version_minor": 0
      },
      "text/plain": [
       "HBox(children=(IntProgress(value=0, max=1909), HTML(value='')))"
      ]
     },
     "metadata": {},
     "output_type": "display_data"
    },
    {
     "name": "stdout",
     "output_type": "stream",
     "text": [
      "\n",
      "144379\n",
      "total_count over  5522\n",
      "134898\n"
     ]
    },
    {
     "data": {
      "application/vnd.jupyter.widget-view+json": {
       "model_id": "616fa6032efb4481b4c0f68ee7dd9fbc",
       "version_major": 2,
       "version_minor": 0
      },
      "text/plain": [
       "HBox(children=(IntProgress(value=0, max=1668), HTML(value='')))"
      ]
     },
     "metadata": {},
     "output_type": "display_data"
    },
    {
     "name": "stdout",
     "output_type": "stream",
     "text": [
      "\n",
      "85579\n"
     ]
    },
    {
     "data": {
      "application/vnd.jupyter.widget-view+json": {
       "model_id": "632be43c30ab455580a8436e4d8daeed",
       "version_major": 2,
       "version_minor": 0
      },
      "text/plain": [
       "HBox(children=(IntProgress(value=0, max=5748), HTML(value='')))"
      ]
     },
     "metadata": {},
     "output_type": "display_data"
    },
    {
     "name": "stdout",
     "output_type": "stream",
     "text": [
      "\n",
      "146469\n"
     ]
    },
    {
     "data": {
      "application/vnd.jupyter.widget-view+json": {
       "model_id": "68c05dd0427c4684852bce1c069413f7",
       "version_major": 2,
       "version_minor": 0
      },
      "text/plain": [
       "HBox(children=(IntProgress(value=0, max=4889), HTML(value='')))"
      ]
     },
     "metadata": {},
     "output_type": "display_data"
    },
    {
     "name": "stdout",
     "output_type": "stream",
     "text": [
      "\n",
      "164932\n",
      "total_count over  6169\n",
      "69102\n",
      "total_count over  2557\n",
      "166008\n",
      "total_count over  140\n",
      "132626\n"
     ]
    },
    {
     "data": {
      "application/vnd.jupyter.widget-view+json": {
       "model_id": "ca5da163ec7f46139cefe1c59f28621e",
       "version_major": 2,
       "version_minor": 0
      },
      "text/plain": [
       "HBox(children=(IntProgress(value=0, max=875), HTML(value='')))"
      ]
     },
     "metadata": {},
     "output_type": "display_data"
    },
    {
     "name": "stdout",
     "output_type": "stream",
     "text": [
      "\n",
      "159830\n",
      "total_count over  4406\n",
      "129095\n",
      "total_count over  5106\n",
      "154353\n",
      "total_count over  2675\n",
      "65998\n",
      "total_count over  6356\n",
      "150637\n"
     ]
    },
    {
     "data": {
      "application/vnd.jupyter.widget-view+json": {
       "model_id": "a18877efd6fd4940a19626a9fb2fefa4",
       "version_major": 2,
       "version_minor": 0
      },
      "text/plain": [
       "HBox(children=(IntProgress(value=0, max=1635), HTML(value='')))"
      ]
     },
     "metadata": {},
     "output_type": "display_data"
    },
    {
     "name": "stdout",
     "output_type": "stream",
     "text": [
      "\n",
      "146480\n"
     ]
    },
    {
     "data": {
      "application/vnd.jupyter.widget-view+json": {
       "model_id": "aa8a822b4e334648a3d8fc61b3cebb96",
       "version_major": 2,
       "version_minor": 0
      },
      "text/plain": [
       "HBox(children=(IntProgress(value=0, max=1726), HTML(value='')))"
      ]
     },
     "metadata": {},
     "output_type": "display_data"
    },
    {
     "name": "stdout",
     "output_type": "stream",
     "text": [
      "\n",
      "157178\n",
      "total_count over  4184\n",
      "161850\n"
     ]
    },
    {
     "data": {
      "application/vnd.jupyter.widget-view+json": {
       "model_id": "dab3489ec0bc4b2987e389209267d65f",
       "version_major": 2,
       "version_minor": 0
      },
      "text/plain": [
       "HBox(children=(IntProgress(value=0, max=1417), HTML(value='')))"
      ]
     },
     "metadata": {},
     "output_type": "display_data"
    },
    {
     "name": "stdout",
     "output_type": "stream",
     "text": [
      "\n",
      "135874\n"
     ]
    },
    {
     "data": {
      "application/vnd.jupyter.widget-view+json": {
       "model_id": "30978340e8b44e99940f0d6250e29abe",
       "version_major": 2,
       "version_minor": 0
      },
      "text/plain": [
       "HBox(children=(IntProgress(value=0, max=1830), HTML(value='')))"
      ]
     },
     "metadata": {},
     "output_type": "display_data"
    },
    {
     "name": "stdout",
     "output_type": "stream",
     "text": [
      "\n",
      "143435\n"
     ]
    },
    {
     "data": {
      "application/vnd.jupyter.widget-view+json": {
       "model_id": "983f57b4f949428d9015b682b76e8d4a",
       "version_major": 2,
       "version_minor": 0
      },
      "text/plain": [
       "HBox(children=(IntProgress(value=0, max=1788), HTML(value='')))"
      ]
     },
     "metadata": {},
     "output_type": "display_data"
    },
    {
     "name": "stdout",
     "output_type": "stream",
     "text": [
      "\n",
      "156477\n",
      "total_count over  1132\n",
      "154437\n",
      "total_count over  2840\n",
      "152616\n",
      "total_count over  3217\n",
      "76309\n",
      "total_count over  3100\n",
      "152396\n",
      "total_count over  1368\n",
      "159054\n",
      "total_count over  1981\n",
      "158651\n",
      "total_count over  295\n",
      "152341\n"
     ]
    },
    {
     "data": {
      "application/vnd.jupyter.widget-view+json": {
       "model_id": "72f0c8923e964a6c8a0b3a536cc49243",
       "version_major": 2,
       "version_minor": 0
      },
      "text/plain": [
       "HBox(children=(IntProgress(value=0, max=1036), HTML(value='')))"
      ]
     },
     "metadata": {},
     "output_type": "display_data"
    },
    {
     "name": "stdout",
     "output_type": "stream",
     "text": [
      "\n",
      "154458\n",
      "total_count over  1026\n",
      "165025\n",
      "total_count over  623\n",
      "141675\n",
      "total_count over  627\n",
      "146407\n",
      "total_count over  1345\n",
      "151117\n",
      "total_count over  1478\n",
      "166083\n",
      "total_count over  90\n",
      "155716\n"
     ]
    },
    {
     "data": {
      "application/vnd.jupyter.widget-view+json": {
       "model_id": "d2b87b54a7a3467986fcf0e09a9e9576",
       "version_major": 2,
       "version_minor": 0
      },
      "text/plain": [
       "HBox(children=(IntProgress(value=0, max=932), HTML(value='')))"
      ]
     },
     "metadata": {},
     "output_type": "display_data"
    },
    {
     "name": "stdout",
     "output_type": "stream",
     "text": [
      "\n",
      "120160\n"
     ]
    },
    {
     "data": {
      "application/vnd.jupyter.widget-view+json": {
       "model_id": "0adf654b546b4646a0cdcb8e5f30d46d",
       "version_major": 2,
       "version_minor": 0
      },
      "text/plain": [
       "HBox(children=(IntProgress(value=0, max=1349), HTML(value='')))"
      ]
     },
     "metadata": {},
     "output_type": "display_data"
    },
    {
     "name": "stdout",
     "output_type": "stream",
     "text": [
      "\n",
      "123630\n"
     ]
    },
    {
     "data": {
      "application/vnd.jupyter.widget-view+json": {
       "model_id": "9cbd42b66824485ab11904b5de40c69f",
       "version_major": 2,
       "version_minor": 0
      },
      "text/plain": [
       "HBox(children=(IntProgress(value=0, max=1396), HTML(value='')))"
      ]
     },
     "metadata": {},
     "output_type": "display_data"
    },
    {
     "name": "stdout",
     "output_type": "stream",
     "text": [
      "\n",
      "152168\n",
      "total_count over  4065\n",
      "149776\n",
      "total_count over  583\n",
      "155256\n"
     ]
    },
    {
     "data": {
      "application/vnd.jupyter.widget-view+json": {
       "model_id": "5fee20fb150249688333b6fb07f74298",
       "version_major": 2,
       "version_minor": 0
      },
      "text/plain": [
       "HBox(children=(IntProgress(value=0, max=878), HTML(value='')))"
      ]
     },
     "metadata": {},
     "output_type": "display_data"
    },
    {
     "name": "stdout",
     "output_type": "stream",
     "text": [
      "\n",
      "137008\n"
     ]
    },
    {
     "data": {
      "application/vnd.jupyter.widget-view+json": {
       "model_id": "64636e662c194d609ef086b1235a5655",
       "version_major": 2,
       "version_minor": 0
      },
      "text/plain": [
       "HBox(children=(IntProgress(value=0, max=1228), HTML(value='')))"
      ]
     },
     "metadata": {},
     "output_type": "display_data"
    },
    {
     "name": "stdout",
     "output_type": "stream",
     "text": [
      "\n",
      "164342\n",
      "total_count over  77\n",
      "31827\n",
      "total_count over  2137\n",
      "162173\n"
     ]
    },
    {
     "data": {
      "application/vnd.jupyter.widget-view+json": {
       "model_id": "054b71d1a38b4894889a42548aee231e",
       "version_major": 2,
       "version_minor": 0
      },
      "text/plain": [
       "HBox(children=(IntProgress(value=0, max=1448), HTML(value='')))"
      ]
     },
     "metadata": {},
     "output_type": "display_data"
    },
    {
     "name": "stdout",
     "output_type": "stream",
     "text": [
      "\n",
      "152170\n"
     ]
    },
    {
     "data": {
      "application/vnd.jupyter.widget-view+json": {
       "model_id": "2c56547e47ff4b2f836098c5ce18a83a",
       "version_major": 2,
       "version_minor": 0
      },
      "text/plain": [
       "HBox(children=(IntProgress(value=0, max=1521), HTML(value='')))"
      ]
     },
     "metadata": {},
     "output_type": "display_data"
    },
    {
     "name": "stdout",
     "output_type": "stream",
     "text": [
      "\n",
      "82473\n"
     ]
    },
    {
     "data": {
      "application/vnd.jupyter.widget-view+json": {
       "model_id": "98512fa917f74aeda88a44f3b39a9a67",
       "version_major": 2,
       "version_minor": 0
      },
      "text/plain": [
       "HBox(children=(IntProgress(value=0, max=907), HTML(value='')))"
      ]
     },
     "metadata": {},
     "output_type": "display_data"
    },
    {
     "name": "stdout",
     "output_type": "stream",
     "text": [
      "\n",
      "162956\n",
      "total_count over  484\n",
      "158864\n",
      "total_count over  135\n",
      "160464\n",
      "total_count over  166\n",
      "148994\n",
      "total_count over  131\n",
      "62586\n"
     ]
    },
    {
     "data": {
      "application/vnd.jupyter.widget-view+json": {
       "model_id": "64880e55f3c74314b60a5f04bfbc4a8b",
       "version_major": 2,
       "version_minor": 0
      },
      "text/plain": [
       "HBox(children=(IntProgress(value=0, max=2608), HTML(value='')))"
      ]
     },
     "metadata": {},
     "output_type": "display_data"
    },
    {
     "name": "stdout",
     "output_type": "stream",
     "text": [
      "\n",
      "149248\n"
     ]
    },
    {
     "data": {
      "application/vnd.jupyter.widget-view+json": {
       "model_id": "53587a612d474e4ba5034e4c4129cb66",
       "version_major": 2,
       "version_minor": 0
      },
      "text/plain": [
       "HBox(children=(IntProgress(value=0, max=991), HTML(value='')))"
      ]
     },
     "metadata": {},
     "output_type": "display_data"
    },
    {
     "name": "stdout",
     "output_type": "stream",
     "text": [
      "\n",
      "144215\n",
      "total_count over  1365\n",
      "137696\n",
      "total_count over  7729\n",
      "155680\n",
      "total_count over  1579\n",
      "143394\n"
     ]
    },
    {
     "data": {
      "application/vnd.jupyter.widget-view+json": {
       "model_id": "0a905e4ff70b40a1b74a9c4781e978e2",
       "version_major": 2,
       "version_minor": 0
      },
      "text/plain": [
       "HBox(children=(IntProgress(value=0, max=961), HTML(value='')))"
      ]
     },
     "metadata": {},
     "output_type": "display_data"
    },
    {
     "name": "stdout",
     "output_type": "stream",
     "text": [
      "\n",
      "156083\n"
     ]
    },
    {
     "data": {
      "application/vnd.jupyter.widget-view+json": {
       "model_id": "4268d3744a3848c28f8bb1989728efec",
       "version_major": 2,
       "version_minor": 0
      },
      "text/plain": [
       "HBox(children=(IntProgress(value=0, max=932), HTML(value='')))"
      ]
     },
     "metadata": {},
     "output_type": "display_data"
    },
    {
     "name": "stdout",
     "output_type": "stream",
     "text": [
      "146485\n",
      "total_count over  7259\n",
      "140731\n"
     ]
    },
    {
     "data": {
      "application/vnd.jupyter.widget-view+json": {
       "model_id": "2d9dfe6ef4534c2ab4699537eecc4582",
       "version_major": 2,
       "version_minor": 0
      },
      "text/plain": [
       "HBox(children=(IntProgress(value=0, max=1079), HTML(value='')))"
      ]
     },
     "metadata": {},
     "output_type": "display_data"
    },
    {
     "name": "stdout",
     "output_type": "stream",
     "text": [
      "\n"
     ]
    },
    {
     "name": "stderr",
     "output_type": "stream",
     "text": [
      "Exception in thread Thread-38:\n",
      "Traceback (most recent call last):\n",
      "  File \"/usr/lib/python3.6/threading.py\", line 916, in _bootstrap_inner\n",
      "    self.run()\n",
      "  File \"/usr/lib/python3/dist-packages/tqdm/_tqdm.py\", line 144, in run\n",
      "    for instance in self.tqdm_cls._instances:\n",
      "  File \"/usr/lib/python3.6/_weakrefset.py\", line 60, in __iter__\n",
      "    for itemref in self.data:\n",
      "RuntimeError: Set changed size during iteration\n",
      "\n"
     ]
    },
    {
     "name": "stdout",
     "output_type": "stream",
     "text": [
      "\n",
      "165461\n",
      "total_count over  5271\n",
      "154668\n",
      "total_count over  5638\n",
      "154267\n",
      "total_count over  473\n",
      "167035\n",
      "total_count over  57\n",
      "162824\n",
      "total_count over  2777\n",
      "167103\n",
      "total_count over  77\n",
      "144213\n",
      "total_count over  419\n",
      "137945\n",
      "total_count over  1809\n",
      "125401\n",
      "total_count over  927\n",
      "149757\n",
      "total_count over  1060\n",
      "146506\n"
     ]
    },
    {
     "data": {
      "application/vnd.jupyter.widget-view+json": {
       "model_id": "f1b5589401284822b3c0074aeefcf85f",
       "version_major": 2,
       "version_minor": 0
      },
      "text/plain": [
       "HBox(children=(IntProgress(value=0, max=5359), HTML(value='')))"
      ]
     },
     "metadata": {},
     "output_type": "display_data"
    },
    {
     "name": "stdout",
     "output_type": "stream",
     "text": [
      "\n",
      "144988\n",
      "total_count over  782\n",
      "140803\n",
      "total_count over  907\n",
      "156417\n",
      "total_count over  818\n",
      "163027\n",
      "total_count over  80\n",
      "129094\n",
      "total_count over  6732\n",
      "158266\n",
      "total_count over  408\n",
      "162933\n",
      "total_count over  82\n",
      "154980\n",
      "total_count over  738\n",
      "156091\n",
      "total_count over  451\n",
      "156185\n",
      "total_count over  436\n",
      "154508\n",
      "total_count over  392\n",
      "152309\n",
      "total_count over  536\n",
      "147067\n",
      "total_count over  389\n",
      "159521\n",
      "total_count over  73\n",
      "143099\n",
      "total_count over  589\n",
      "141184\n",
      "total_count over  814\n",
      "38227\n",
      "total_count over  3512\n",
      "144280\n",
      "total_count over  7714\n",
      "134838\n",
      "total_count over  4853\n",
      "142699\n",
      "total_count over  2774\n",
      "147092\n",
      "total_count over  3265\n",
      "152331\n",
      "total_count over  3097\n",
      "142324\n",
      "total_count over  607\n",
      "142632\n",
      "total_count over  1240\n",
      "160720\n",
      "total_count over  128\n",
      "156465\n",
      "total_count over  1805\n",
      "160750\n",
      "total_count over  326\n",
      "152633\n",
      "total_count over  4302\n",
      "146544\n",
      "total_count over  1853\n",
      "154214\n",
      "total_count over  1672\n",
      "149731\n",
      "total_count over  840\n",
      "137909\n",
      "total_count over  124\n",
      "38197\n",
      "total_count over  3787\n",
      "114247\n",
      "total_count over  195\n",
      "161374\n",
      "total_count over  462\n",
      "143490\n",
      "total_count over  1041\n",
      "162471\n",
      "total_count over  1897\n",
      "137976\n",
      "total_count over  414\n",
      "143499\n",
      "total_count over  513\n",
      "97857\n"
     ]
    },
    {
     "data": {
      "application/vnd.jupyter.widget-view+json": {
       "model_id": "74fd4e07401c43c784cd745a01bd0488",
       "version_major": 2,
       "version_minor": 0
      },
      "text/plain": [
       "HBox(children=(IntProgress(value=0, max=837), HTML(value='')))"
      ]
     },
     "metadata": {},
     "output_type": "display_data"
    },
    {
     "name": "stdout",
     "output_type": "stream",
     "text": [
      "\n",
      "118966\n",
      "total_count over  1402\n",
      "161847\n",
      "total_count over  159\n",
      "136872\n"
     ]
    },
    {
     "data": {
      "application/vnd.jupyter.widget-view+json": {
       "model_id": "7bad9d3097a54c14803619da132a72e1",
       "version_major": 2,
       "version_minor": 0
      },
      "text/plain": [
       "HBox(children=(IntProgress(value=0, max=1764), HTML(value='')))"
      ]
     },
     "metadata": {},
     "output_type": "display_data"
    },
    {
     "name": "stdout",
     "output_type": "stream",
     "text": [
      "\n",
      "137875\n"
     ]
    },
    {
     "data": {
      "application/vnd.jupyter.widget-view+json": {
       "model_id": "8c88ac0f16834814a2221c135f48827d",
       "version_major": 2,
       "version_minor": 0
      },
      "text/plain": [
       "HBox(children=(IntProgress(value=0, max=887), HTML(value='')))"
      ]
     },
     "metadata": {},
     "output_type": "display_data"
    },
    {
     "name": "stdout",
     "output_type": "stream",
     "text": [
      "\n",
      "165029\n",
      "total_count over  202\n",
      "158910\n",
      "total_count over  1179\n",
      "142634\n",
      "total_count over  183\n",
      "154262\n",
      "total_count over  764\n",
      "114268\n",
      "total_count over  620\n",
      "125473\n"
     ]
    },
    {
     "data": {
      "application/vnd.jupyter.widget-view+json": {
       "model_id": "b29539a1faf84bf492bd694e84154a4f",
       "version_major": 2,
       "version_minor": 0
      },
      "text/plain": [
       "HBox(children=(IntProgress(value=0, max=1238), HTML(value='')))"
      ]
     },
     "metadata": {},
     "output_type": "display_data"
    },
    {
     "name": "stdout",
     "output_type": "stream",
     "text": [
      "\n",
      "117787\n"
     ]
    },
    {
     "data": {
      "application/vnd.jupyter.widget-view+json": {
       "model_id": "6cdcb3edbc5648dcab13c94dc6b332c0",
       "version_major": 2,
       "version_minor": 0
      },
      "text/plain": [
       "HBox(children=(IntProgress(value=0, max=1254), HTML(value='')))"
      ]
     },
     "metadata": {},
     "output_type": "display_data"
    },
    {
     "name": "stdout",
     "output_type": "stream",
     "text": [
      "\n",
      "143473\n",
      "total_count over  3120\n",
      "160135\n",
      "total_count over  520\n",
      "144984\n",
      "total_count over  371\n",
      "125447\n",
      "total_count over  1158\n",
      "127398\n"
     ]
    },
    {
     "data": {
      "application/vnd.jupyter.widget-view+json": {
       "model_id": "a898c52db5294248a8063336f48801b6",
       "version_major": 2,
       "version_minor": 0
      },
      "text/plain": [
       "HBox(children=(IntProgress(value=0, max=1102), HTML(value='')))"
      ]
     },
     "metadata": {},
     "output_type": "display_data"
    },
    {
     "name": "stdout",
     "output_type": "stream",
     "text": [
      "\n",
      "149221\n",
      "total_count over  6153\n",
      "142730\n",
      "total_count over  1134\n",
      "142384\n"
     ]
    },
    {
     "data": {
      "application/vnd.jupyter.widget-view+json": {
       "model_id": "6704d63d56e1484680dc5a49be5a209b",
       "version_major": 2,
       "version_minor": 0
      },
      "text/plain": [
       "HBox(children=(IntProgress(value=0, max=2478), HTML(value='')))"
      ]
     },
     "metadata": {},
     "output_type": "display_data"
    },
    {
     "name": "stdout",
     "output_type": "stream",
     "text": [
      "\n",
      "144927\n"
     ]
    },
    {
     "data": {
      "application/vnd.jupyter.widget-view+json": {
       "model_id": "0e7c9c6d7afd4088bc064b8a60d9c306",
       "version_major": 2,
       "version_minor": 0
      },
      "text/plain": [
       "HBox(children=(IntProgress(value=0, max=861), HTML(value='')))"
      ]
     },
     "metadata": {},
     "output_type": "display_data"
    },
    {
     "name": "stdout",
     "output_type": "stream",
     "text": [
      "\n",
      "146524\n"
     ]
    },
    {
     "data": {
      "application/vnd.jupyter.widget-view+json": {
       "model_id": "b86d2f787ba341e595aef3db3e107040",
       "version_major": 2,
       "version_minor": 0
      },
      "text/plain": [
       "HBox(children=(IntProgress(value=0, max=912), HTML(value='')))"
      ]
     },
     "metadata": {},
     "output_type": "display_data"
    },
    {
     "name": "stdout",
     "output_type": "stream",
     "text": [
      "\n",
      "149512\n",
      "total_count over  7898\n",
      "101904\n",
      "total_count over  1907\n",
      "134772\n",
      "total_count over  859\n",
      "127382\n"
     ]
    },
    {
     "data": {
      "application/vnd.jupyter.widget-view+json": {
       "model_id": "fd94bfdbbcd2415a8cff7caa56f565e0",
       "version_major": 2,
       "version_minor": 0
      },
      "text/plain": [
       "HBox(children=(IntProgress(value=0, max=1636), HTML(value='')))"
      ]
     },
     "metadata": {},
     "output_type": "display_data"
    },
    {
     "name": "stdout",
     "output_type": "stream",
     "text": [
      "\n",
      "94183\n",
      "total_count over  594\n",
      "153964\n",
      "total_count over  3212\n",
      "127346\n",
      "total_count over  2035\n",
      "150372\n",
      "total_count over  252\n",
      "99715\n"
     ]
    },
    {
     "data": {
      "application/vnd.jupyter.widget-view+json": {
       "model_id": "1573edeb2188490da92cef5b910947ae",
       "version_major": 2,
       "version_minor": 0
      },
      "text/plain": [
       "HBox(children=(IntProgress(value=0, max=1084), HTML(value='')))"
      ]
     },
     "metadata": {},
     "output_type": "display_data"
    },
    {
     "name": "stdout",
     "output_type": "stream",
     "text": [
      "\n",
      "152684\n",
      "total_count over  2037\n",
      "90922\n",
      "total_count over  779\n",
      "143932\n",
      "total_count over  1981\n",
      "127397\n",
      "total_count over  7183\n",
      "125417\n",
      "total_count over  861\n",
      "142255\n",
      "total_count over  309\n",
      "159408\n",
      "total_count over  2214\n",
      "152161\n",
      "total_count over  2019\n",
      "143437\n",
      "total_count over  416\n",
      "143379\n",
      "total_count over  360\n",
      "110379\n",
      "total_count over  454\n",
      "157500\n",
      "total_count over  358\n",
      "146459\n",
      "total_count over  5362\n",
      "130713\n",
      "total_count over  1806\n",
      "142305\n",
      "total_count over  3120\n",
      "145162\n"
     ]
    },
    {
     "data": {
      "application/vnd.jupyter.widget-view+json": {
       "model_id": "11520cf0d8de46a696c28e7ae24f2ffa",
       "version_major": 2,
       "version_minor": 0
      },
      "text/plain": [
       "HBox(children=(IntProgress(value=0, max=2179), HTML(value='')))"
      ]
     },
     "metadata": {},
     "output_type": "display_data"
    },
    {
     "name": "stdout",
     "output_type": "stream",
     "text": [
      "\n",
      "127374\n",
      "total_count over  2437\n",
      "156259\n",
      "total_count over  283\n",
      "158536\n",
      "total_count over  68\n",
      "146517\n"
     ]
    },
    {
     "data": {
      "application/vnd.jupyter.widget-view+json": {
       "model_id": "5eba168d590d408ab890b7f5c9e508d0",
       "version_major": 2,
       "version_minor": 0
      },
      "text/plain": [
       "HBox(children=(IntProgress(value=0, max=945), HTML(value='')))"
      ]
     },
     "metadata": {},
     "output_type": "display_data"
    },
    {
     "name": "stdout",
     "output_type": "stream",
     "text": [
      "\n",
      "144314\n"
     ]
    },
    {
     "data": {
      "application/vnd.jupyter.widget-view+json": {
       "model_id": "acaabd28efe74503bdcc8002bc7132ef",
       "version_major": 2,
       "version_minor": 0
      },
      "text/plain": [
       "HBox(children=(IntProgress(value=0, max=2148), HTML(value='')))"
      ]
     },
     "metadata": {},
     "output_type": "display_data"
    },
    {
     "name": "stdout",
     "output_type": "stream",
     "text": [
      "\n",
      "149777\n",
      "total_count over  3697\n",
      "31794\n",
      "total_count over  3502\n",
      "31795\n",
      "total_count over  2609\n",
      "137958\n",
      "total_count over  620\n",
      "31796\n",
      "total_count over  6840\n",
      "158266\n",
      "total_count over  408\n",
      "\n",
      "136868\n",
      "total_count over  5221\n",
      "144938\n",
      "total_count over  6654\n",
      "132933\n"
     ]
    },
    {
     "data": {
      "application/vnd.jupyter.widget-view+json": {
       "model_id": "94418b746a3a4d5a97284d3e18029d60",
       "version_major": 2,
       "version_minor": 0
      },
      "text/plain": [
       "HBox(children=(IntProgress(value=0, max=1892), HTML(value='')))"
      ]
     },
     "metadata": {},
     "output_type": "display_data"
    },
    {
     "name": "stdout",
     "output_type": "stream",
     "text": [
      "\n",
      "110333\n",
      "total_count over  4730\n",
      "130849\n"
     ]
    },
    {
     "data": {
      "application/vnd.jupyter.widget-view+json": {
       "model_id": "bd23f5ccba8a4b3b920ba4c78f9f2b02",
       "version_major": 2,
       "version_minor": 0
      },
      "text/plain": [
       "HBox(children=(IntProgress(value=0, max=1067), HTML(value='')))"
      ]
     },
     "metadata": {},
     "output_type": "display_data"
    },
    {
     "name": "stdout",
     "output_type": "stream",
     "text": [
      "\n",
      "70627\n",
      "total_count over  310\n",
      "\n",
      "134841\n",
      "total_count over  930\n",
      "137346\n",
      "total_count over  833\n",
      "149050\n",
      "total_count over  662\n",
      "155484\n",
      "total_count over  1690\n",
      "136869\n",
      "total_count over  5945\n",
      "136859\n",
      "total_count over  541\n",
      "132627\n",
      "total_count over  626\n",
      "142304\n",
      "total_count over  416\n",
      "130984\n",
      "total_count over  766\n",
      "102278\n",
      "total_count over  2389\n",
      "158849\n",
      "total_count over  349\n",
      "144081\n",
      "total_count over  1539\n",
      "126034\n",
      "total_count over  3643\n",
      "143372\n",
      "total_count over  2614\n",
      "151192\n",
      "total_count over  914\n",
      "\n",
      "153951\n",
      "total_count over  816\n",
      "152265\n",
      "total_count over  1160\n",
      "145292\n",
      "total_count over  7375\n",
      "141675\n",
      "total_count over  627\n",
      "10250\n",
      "total_count over  663\n",
      "150376\n",
      "total_count over  1778\n",
      "146526\n",
      "total_count over  366\n",
      "116233\n",
      "total_count over  5132\n",
      "140010\n",
      "total_count over  2184\n",
      "156675\n",
      "total_count over  1295\n",
      "139673\n",
      "total_count over  2071\n",
      "118307\n",
      "total_count over  3764\n"
     ]
    },
    {
     "ename": "AttributeError",
     "evalue": "'NoneType' object has no attribute 'findAll'",
     "output_type": "error",
     "traceback": [
      "\u001b[0;31m---------------------------------------------------------------------------\u001b[0m",
      "\u001b[0;31mRemoteTraceback\u001b[0m                           Traceback (most recent call last)",
      "\u001b[0;31mRemoteTraceback\u001b[0m: \n\"\"\"\nTraceback (most recent call last):\n  File \"/usr/lib/python3.6/multiprocessing/pool.py\", line 119, in worker\n    result = (True, func(*args, **kwds))\n  File \"/usr/lib/python3.6/multiprocessing/pool.py\", line 44, in mapstar\n    return list(map(*args))\n  File \"<ipython-input-13-6d65d99f5465>\", line 34, in func12\n    lis = score_result.findAll('li')\nAttributeError: 'NoneType' object has no attribute 'findAll'\n\"\"\"",
      "\nThe above exception was the direct cause of the following exception:\n",
      "\u001b[0;31mAttributeError\u001b[0m                            Traceback (most recent call last)",
      "\u001b[0;32m<ipython-input-13-6d65d99f5465>\u001b[0m in \u001b[0;36m<module>\u001b[0;34m\u001b[0m\n\u001b[1;32m     51\u001b[0m \u001b[0;34m\u001b[0m\u001b[0m\n\u001b[1;32m     52\u001b[0m \u001b[0mpool\u001b[0m \u001b[0;34m=\u001b[0m \u001b[0mmultiprocessing\u001b[0m\u001b[0;34m.\u001b[0m\u001b[0mPool\u001b[0m\u001b[0;34m(\u001b[0m\u001b[0mprocesses\u001b[0m\u001b[0;34m=\u001b[0m\u001b[0;36m4\u001b[0m\u001b[0;34m)\u001b[0m\u001b[0;34m\u001b[0m\u001b[0;34m\u001b[0m\u001b[0m\n\u001b[0;32m---> 53\u001b[0;31m \u001b[0mpool\u001b[0m\u001b[0;34m.\u001b[0m\u001b[0mmap\u001b[0m\u001b[0;34m(\u001b[0m\u001b[0mfunc12\u001b[0m\u001b[0;34m,\u001b[0m\u001b[0mmovie_lis\u001b[0m\u001b[0;34m)\u001b[0m\u001b[0;34m\u001b[0m\u001b[0;34m\u001b[0m\u001b[0m\n\u001b[0m\u001b[1;32m     54\u001b[0m \u001b[0mpool\u001b[0m\u001b[0;34m.\u001b[0m\u001b[0mclose\u001b[0m\u001b[0;34m(\u001b[0m\u001b[0;34m)\u001b[0m\u001b[0;34m\u001b[0m\u001b[0;34m\u001b[0m\u001b[0m\n\u001b[1;32m     55\u001b[0m \u001b[0mpool\u001b[0m\u001b[0;34m.\u001b[0m\u001b[0mjoin\u001b[0m\u001b[0;34m(\u001b[0m\u001b[0;34m)\u001b[0m\u001b[0;34m\u001b[0m\u001b[0;34m\u001b[0m\u001b[0m\n",
      "\u001b[0;32m/usr/lib/python3.6/multiprocessing/pool.py\u001b[0m in \u001b[0;36mmap\u001b[0;34m(self, func, iterable, chunksize)\u001b[0m\n\u001b[1;32m    286\u001b[0m         \u001b[0;32min\u001b[0m \u001b[0ma\u001b[0m \u001b[0mlist\u001b[0m \u001b[0mthat\u001b[0m \u001b[0;32mis\u001b[0m \u001b[0mreturned\u001b[0m\u001b[0;34m.\u001b[0m\u001b[0;34m\u001b[0m\u001b[0;34m\u001b[0m\u001b[0m\n\u001b[1;32m    287\u001b[0m         '''\n\u001b[0;32m--> 288\u001b[0;31m         \u001b[0;32mreturn\u001b[0m \u001b[0mself\u001b[0m\u001b[0;34m.\u001b[0m\u001b[0m_map_async\u001b[0m\u001b[0;34m(\u001b[0m\u001b[0mfunc\u001b[0m\u001b[0;34m,\u001b[0m \u001b[0miterable\u001b[0m\u001b[0;34m,\u001b[0m \u001b[0mmapstar\u001b[0m\u001b[0;34m,\u001b[0m \u001b[0mchunksize\u001b[0m\u001b[0;34m)\u001b[0m\u001b[0;34m.\u001b[0m\u001b[0mget\u001b[0m\u001b[0;34m(\u001b[0m\u001b[0;34m)\u001b[0m\u001b[0;34m\u001b[0m\u001b[0;34m\u001b[0m\u001b[0m\n\u001b[0m\u001b[1;32m    289\u001b[0m \u001b[0;34m\u001b[0m\u001b[0m\n\u001b[1;32m    290\u001b[0m     \u001b[0;32mdef\u001b[0m \u001b[0mstarmap\u001b[0m\u001b[0;34m(\u001b[0m\u001b[0mself\u001b[0m\u001b[0;34m,\u001b[0m \u001b[0mfunc\u001b[0m\u001b[0;34m,\u001b[0m \u001b[0miterable\u001b[0m\u001b[0;34m,\u001b[0m \u001b[0mchunksize\u001b[0m\u001b[0;34m=\u001b[0m\u001b[0;32mNone\u001b[0m\u001b[0;34m)\u001b[0m\u001b[0;34m:\u001b[0m\u001b[0;34m\u001b[0m\u001b[0;34m\u001b[0m\u001b[0m\n",
      "\u001b[0;32m/usr/lib/python3.6/multiprocessing/pool.py\u001b[0m in \u001b[0;36mget\u001b[0;34m(self, timeout)\u001b[0m\n\u001b[1;32m    668\u001b[0m             \u001b[0;32mreturn\u001b[0m \u001b[0mself\u001b[0m\u001b[0;34m.\u001b[0m\u001b[0m_value\u001b[0m\u001b[0;34m\u001b[0m\u001b[0;34m\u001b[0m\u001b[0m\n\u001b[1;32m    669\u001b[0m         \u001b[0;32melse\u001b[0m\u001b[0;34m:\u001b[0m\u001b[0;34m\u001b[0m\u001b[0;34m\u001b[0m\u001b[0m\n\u001b[0;32m--> 670\u001b[0;31m             \u001b[0;32mraise\u001b[0m \u001b[0mself\u001b[0m\u001b[0;34m.\u001b[0m\u001b[0m_value\u001b[0m\u001b[0;34m\u001b[0m\u001b[0;34m\u001b[0m\u001b[0m\n\u001b[0m\u001b[1;32m    671\u001b[0m \u001b[0;34m\u001b[0m\u001b[0m\n\u001b[1;32m    672\u001b[0m     \u001b[0;32mdef\u001b[0m \u001b[0m_set\u001b[0m\u001b[0;34m(\u001b[0m\u001b[0mself\u001b[0m\u001b[0;34m,\u001b[0m \u001b[0mi\u001b[0m\u001b[0;34m,\u001b[0m \u001b[0mobj\u001b[0m\u001b[0;34m)\u001b[0m\u001b[0;34m:\u001b[0m\u001b[0;34m\u001b[0m\u001b[0;34m\u001b[0m\u001b[0m\n",
      "\u001b[0;31mAttributeError\u001b[0m: 'NoneType' object has no attribute 'findAll'"
     ]
    }
   ],
   "source": [
    "import requests\n",
    "from bs4 import BeautifulSoup\n",
    "from datetime import datetime\n",
    "import sys\n",
    "import pandas as pd\n",
    "from tqdm import tqdm_notebook\n",
    "import multiprocessing\n",
    "\n",
    "af='after'\n",
    "be='before'\n",
    "lis = pd.read_csv('/home/ubuntu/movie/data/naver_movie_all.csv')\n",
    "movie_lis =[]\n",
    "\n",
    "for i in range(len(lis['naver_movieCd'])):\n",
    "    movie_lis.insert(i,str(lis['naver_movieCd'][i])[:-2])\n",
    "# len(movie_lis)\n",
    "\n",
    "def func12(code):\n",
    "    lists = []\n",
    "#     code=str(movie_lis[i])[:-2]\n",
    "    test_url = 'https://movie.naver.com/movie/bi/mi/pointWriteFormList.nhn?code='+code+'&type='+af+'&onlyActualPointYn=N&order=newest'\n",
    "    resp = requests.get(test_url)\n",
    "    html = BeautifulSoup(resp.content, 'html.parser')\n",
    "    result = html.find('div', {'class':'score_total'}).find('strong').findChildren('em')[1].getText()\n",
    "    total_count = int(result.replace(',', ''))\n",
    "    print(code)\n",
    "    if(8000 <= total_count):\n",
    "        for i in tqdm_notebook(range(1,int(total_count / 10) + 2)):\n",
    "\n",
    "            url = test_url + '&page=' + str(i)\n",
    "            resp = requests.get(url)\n",
    "            html = BeautifulSoup(resp.content, 'html.parser')\n",
    "            score_result = html.find('div', {'class': 'score_result'})\n",
    "            lis = score_result.findAll('li')\n",
    "            for li in lis:\n",
    "                try:\n",
    "                    a = []\n",
    "                    created_at = li.find('dt').findAll('em')[-1].getText()[0:10]\n",
    "                    created_at = created_at.replace(\".\",\"\")\n",
    "                    score = li.find('em').getText()\n",
    "                    review_text = li.find('p').getText()\n",
    "                    a = [created_at, score, review_text]\n",
    "                    lists.append(a)\n",
    "                except AttributeError:\n",
    "                    pass\n",
    "\n",
    "        df = pd.DataFrame(lists)\n",
    "        df.to_csv('/home/ubuntu/movie/data/'+af+'/'+code+'.csv',index=False)\n",
    "    else:\n",
    "        print(\"total_count over \",total_count)\n",
    "        \n",
    "pool = multiprocessing.Pool(processes=4)\n",
    "pool.map(func12,movie_lis)\n",
    "pool.close()\n",
    "pool.join()"
   ]
  },
  {
   "cell_type": "code",
   "execution_count": null,
   "metadata": {},
   "outputs": [],
   "source": [
    "134772 147092 149512(7000~8000) 149248 141206 100205"
   ]
  },
  {
   "cell_type": "code",
   "execution_count": 2,
   "metadata": {},
   "outputs": [
    {
     "data": {
      "text/plain": [
       "304"
      ]
     },
     "execution_count": 2,
     "metadata": {},
     "output_type": "execute_result"
    }
   ],
   "source": [
    "import glob\n",
    "lis = glob.glob('/home/ubuntu/movie/data/before/*.csv')\n",
    "len(lis)"
   ]
  },
  {
   "cell_type": "code",
   "execution_count": null,
   "metadata": {},
   "outputs": [],
   "source": [
    "import requests\n",
    "from bs4 import BeautifulSoup\n",
    "from datetime import datetime\n",
    "import sys\n",
    "import pandas as pd\n",
    "from tqdm import tqdm_notebook\n",
    "import multiprocessing\n",
    "\n",
    "pool = multiprocessing.Pool(processes=8)\n",
    "pool.map(func12,lis3)\n",
    "pool.close()\n",
    "pool.join()"
   ]
  },
  {
   "cell_type": "code",
   "execution_count": null,
   "metadata": {},
   "outputs": [],
   "source": [
    "import glob\n",
    "lis = pd.read_csv('/home/ubuntu/movie/data/naver_movie_all.csv')\n",
    "movie_lis =[]\n",
    "lis2 = glob.glob('/home/ubuntu/movie/data/after/*.csv')\n",
    "for i in range(len(lis['naver_movieCd'])):\n",
    "    movie_lis.insert(i,str(lis['naver_movieCd'][i])[:-2])\n",
    "for i in range(len(lis2)):\n",
    "    lis2[i] = lis2[i][30:-4]\n"
   ]
  },
  {
   "cell_type": "code",
   "execution_count": null,
   "metadata": {},
   "outputs": [],
   "source": [
    "movie_lis2 = movie_lis\n",
    "for i in range(len(movie_lis2)):\n",
    "    for li in lis2:\n",
    "        if(movie_lis2[i] == li):\n",
    "            movie_lis2[i] = 0\n",
    "        else:\n",
    "            pass"
   ]
  },
  {
   "cell_type": "code",
   "execution_count": null,
   "metadata": {},
   "outputs": [],
   "source": [
    "len(movie_lis)"
   ]
  },
  {
   "cell_type": "code",
   "execution_count": null,
   "metadata": {},
   "outputs": [],
   "source": [
    "len(lis2)"
   ]
  },
  {
   "cell_type": "code",
   "execution_count": null,
   "metadata": {},
   "outputs": [],
   "source": [
    "lis3 = list(set(movie_lis2))\n",
    "len(lis3)"
   ]
  },
  {
   "cell_type": "code",
   "execution_count": null,
   "metadata": {},
   "outputs": [],
   "source": [
    "lis3"
   ]
  },
  {
   "cell_type": "code",
   "execution_count": null,
   "metadata": {},
   "outputs": [],
   "source": []
  }
 ],
 "metadata": {
  "kernelspec": {
   "display_name": "Python 3",
   "language": "python",
   "name": "python3"
  },
  "language_info": {
   "codemirror_mode": {
    "name": "ipython",
    "version": 3
   },
   "file_extension": ".py",
   "mimetype": "text/x-python",
   "name": "python",
   "nbconvert_exporter": "python",
   "pygments_lexer": "ipython3",
   "version": "3.6.7"
  }
 },
 "nbformat": 4,
 "nbformat_minor": 2
}
