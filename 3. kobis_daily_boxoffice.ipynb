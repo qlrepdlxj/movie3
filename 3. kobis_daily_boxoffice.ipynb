{
 "cells": [
  {
   "cell_type": "markdown",
   "metadata": {},
   "source": [
    "# 3. KOBIS OPEN API\n",
    "\n",
    "영화관 입장권 통합 전산망 OPENAPI를 사용하여 일일 박스오피스 자료를 가져오고 JSON파일로 저장\n",
    "\n",
    "##  1) 일별 박스오피스\n",
    "kobis에서 일별박스오피스 api를 활용하여 movieCd, movieNm, openDt, salesAmt, salesShare, salesInten, salesChange, salesAcc, audiCnt, audiInten, audiChange, audiAcc, scrnCnt, showCnt, CurrentDate, Nation 을 추출\n",
    "\n",
    "##  2) 영화 상세정보\n",
    "kobis에서 영화상세정보 api를 활용하여 movieCd, movieNm, movieNmEn, movieNmOg, showTm, prdtYear, openDt, prdtStatNm, typeNm, nations, genres, directors, actors 를 추출 = movie_info.txt\n"
   ]
  },
  {
   "cell_type": "markdown",
   "metadata": {},
   "source": [
    "."
   ]
  },
  {
   "cell_type": "markdown",
   "metadata": {},
   "source": [
    "."
   ]
  },
  {
   "cell_type": "markdown",
   "metadata": {},
   "source": [
    "# 3.1 일별 박스오피스"
   ]
  },
  {
   "cell_type": "markdown",
   "metadata": {},
   "source": [
    "### 1) kobis API를 통해 일별 박스오피스 데이터를 받아온다. \n",
    "###     파일은' 해당일자'를 이름으로 지정하고\n",
    "###     JSON 타입으로 저장한다.\n"
   ]
  },
  {
   "cell_type": "code",
   "execution_count": 1,
   "metadata": {},
   "outputs": [],
   "source": [
    "import os\n",
    "import requests\n",
    "import json\n",
    "import calendar\n",
    "from tqdm import tqdm\n",
    "from tqdm import tqdm_notebook\n",
    "from datetime import date, timedelta\n",
    "\n",
    "key='ad816991534afeaef71f07e7336b0d61'\n",
    "movie_info_path='/home/ubuntu/movie/'"
   ]
  },
  {
   "cell_type": "code",
   "execution_count": null,
   "metadata": {},
   "outputs": [],
   "source": [
    "def daily_box_office_to_json(start_date,end_date):    \n",
    "    tmp_date = start_date\n",
    "#     startDt = int(str(start_date)[0:4]+str(start_date)[5:7]+str(start_date)[8:10])\n",
    "#     endDt = int(str(end_date)[0:4]+str(end_date)[5:7]+str(end_date)[8:10])\n",
    "    days = end_date - start_date # 날짜 경과\n",
    "    for i in tqdm_notebook(range(days.days+1)):\n",
    "        targetDt = int(str(tmp_date)[0:4]+str(tmp_date)[5:7]+str(tmp_date)[8:10])\n",
    "        \n",
    "        if(os.path.isfile(movie_info_path+'raw_data/daily/'+str(targetDt)+'.json')!=1):\n",
    "            url='http://www.kobis.or.kr/kobisopenapi/webservice/rest/boxoffice/searchDailyBoxOfficeList.json?key='+key+'&targetDt='+str(targetDt)\n",
    "            res = requests.get(url)\n",
    "            text = res.text\n",
    "            d = json.loads(text)\n",
    "            with open(movie_info_path+'raw_data/daily/'+str(targetDt)+'.json', 'w', encoding=\"utf-8\") as make_file:\n",
    "                json.dump(d, make_file, ensure_ascii=False, indent=\"\\t\")\n",
    "        tmp_date += timedelta(1)"
   ]
  },
  {
   "cell_type": "code",
   "execution_count": null,
   "metadata": {},
   "outputs": [],
   "source": []
  },
  {
   "cell_type": "markdown",
   "metadata": {},
   "source": [
    "### 3) daliy_box_office_to_json 사용자 함수 실행한다."
   ]
  },
  {
   "cell_type": "code",
   "execution_count": null,
   "metadata": {},
   "outputs": [
    {
     "data": {
      "application/vnd.jupyter.widget-view+json": {
       "model_id": "42424120a12349c5975c00a1613ee72b",
       "version_major": 2,
       "version_minor": 0
      },
      "text/plain": [
       "HBox(children=(IntProgress(value=0, max=424), HTML(value='')))"
      ]
     },
     "metadata": {},
     "output_type": "display_data"
    }
   ],
   "source": [
    "# 2017년 01월 ~ 2018년 02월까지 boxoffice 를 받아온다.\n",
    "start_date = date(2017,1,1)\n",
    "end_date = date(2018,2,28)\n",
    "daily_box_office_to_json(start_date,end_date)"
   ]
  },
  {
   "cell_type": "code",
   "execution_count": null,
   "metadata": {},
   "outputs": [],
   "source": []
  },
  {
   "cell_type": "markdown",
   "metadata": {},
   "source": [
    "### 4) 일별 데이터를 분석할 때 용이하도록 월별로 합친다."
   ]
  },
  {
   "cell_type": "code",
   "execution_count": null,
   "metadata": {},
   "outputs": [],
   "source": [
    "import pandas as pd\n",
    "import requests\n",
    "from datetime import datetime\n",
    "from datetime import timedelta\n",
    "import json\n",
    "from tqdm import tqdm_notebook\n",
    "from dateutil.relativedelta import relativedelta\n",
    "\n",
    "key='ad816991534afeaef71f07e7336b0d61'\n",
    "movie_info_path='/home/ubuntu/movie/'"
   ]
  },
  {
   "cell_type": "code",
   "execution_count": null,
   "metadata": {},
   "outputs": [],
   "source": [
    "def daily_boxoffice(start_date, end_date) :\n",
    "    \n",
    "    final_list = []\n",
    "\n",
    "    for single_date in tqdm_notebook(pd.date_range(start_date, end_date)) :\n",
    "        targetDt = str(single_date)[0:4]+str(single_date)[5:7]+str(single_date)[8:10]\n",
    "        with open(movie_info_path+'raw_data/daily/'+str(targetDt)+'.json', 'r', encoding=\"utf-8\") as read_file:\n",
    "            d = json.load(read_file)\n",
    "\n",
    "        for item in d[\"boxOfficeResult\"][\"dailyBoxOfficeList\"] :\n",
    "            value_list = []\n",
    "            key_list = []\n",
    "            for key, value in item.items() :\n",
    "                key_list.append(key)\n",
    "                value_list.append(value)\n",
    "\n",
    "            value_list.append(single_date)\n",
    "            key_list.append('CurrentDate')\n",
    "            final_list.append(value_list)\n",
    "\n",
    "    return pd.DataFrame(final_list, columns=key_list)"
   ]
  },
  {
   "cell_type": "code",
   "execution_count": null,
   "metadata": {},
   "outputs": [],
   "source": [
    "my_date = date(2017, 1, 1)\n",
    "movie_code_list_all=pd.DataFrame()\n",
    "for i in tqdm_notebook(range(14)): # 14개월 추출이라서 range(14)\n",
    "    start_date = my_date + relativedelta(months=i)\n",
    "    end_date = start_date + relativedelta(months=1) - timedelta(days=1)\n",
    "    \n",
    "    daily_boxoffice_data = daily_boxoffice(start_date, end_date)\n",
    "    startdate=start_date.strftime('%Y%m%d')\n",
    "    enddate=end_date.strftime('%Y%m%d')\n",
    "    \n",
    "    movie_code_list = pd.DataFrame({'movieCd' :daily_boxoffice_data.movieCd.drop_duplicates(), 'movieNm':daily_boxoffice_data.movieNm.drop_duplicates(), 'director':'','Rate' : 0})\n",
    "    \n",
    "    \n",
    "    daily_boxoffice_data.to_csv(movie_info_path+\"data/\"+\"daily_\"+startdate+\"~\"+enddate+\".csv\", index=False)\n",
    "    \n",
    "    \n",
    "    movie_code_list_all = movie_code_list.append(movie_code_list_all)\n",
    "    movie_code_list_all = movie_code_list_all.drop_duplicates()\n",
    "    movie_code_list_all.to_csv(movie_info_path+\"data/\"+\"movie_code_list_all.csv\", index=False)"
   ]
  },
  {
   "cell_type": "code",
   "execution_count": null,
   "metadata": {
    "scrolled": true
   },
   "outputs": [],
   "source": [
    "movie_code_list_all.head()"
   ]
  },
  {
   "cell_type": "code",
   "execution_count": null,
   "metadata": {},
   "outputs": [],
   "source": []
  },
  {
   "cell_type": "code",
   "execution_count": null,
   "metadata": {},
   "outputs": [],
   "source": []
  },
  {
   "cell_type": "markdown",
   "metadata": {},
   "source": [
    "### 5) 일일 데이터를 하나로 합치기\n"
   ]
  },
  {
   "cell_type": "code",
   "execution_count": null,
   "metadata": {},
   "outputs": [],
   "source": [
    "# start_date = date(2017,1,1)\n",
    "# end_date = date(2018,2,28)\n",
    "# a = daily_boxoffice(start_date, end_date)\n",
    "# a"
   ]
  },
  {
   "cell_type": "code",
   "execution_count": null,
   "metadata": {},
   "outputs": [],
   "source": []
  },
  {
   "cell_type": "code",
   "execution_count": null,
   "metadata": {},
   "outputs": [],
   "source": []
  },
  {
   "cell_type": "markdown",
   "metadata": {},
   "source": [
    "# 3.2 영화 상세정보 "
   ]
  },
  {
   "cell_type": "markdown",
   "metadata": {},
   "source": [
    "### 1) kobis API를 통해 영화 정보 데이터를 받아온다.\n",
    "### 파일 이름은 movie_info 이고\n",
    "### csv 파일 형식으로 저장한다."
   ]
  },
  {
   "cell_type": "code",
   "execution_count": null,
   "metadata": {},
   "outputs": [],
   "source": [
    "#영화데이터  : txt 로 저장 함수 정의\n",
    "def movie_data(lists) :    \n",
    "    dict_list = dict()\n",
    "    url = 'http://www.kobis.or.kr/kobisopenapi/webservice/rest/movie/searchMovieInfo.json'\n",
    "    \n",
    "    for movie in lists :\n",
    "        #print(movie)\n",
    "        dic={ 'key' : key, 'movieCd' : movie}        \n",
    "        req = requests.get(url, params = dic)\n",
    "        \n",
    "        dict_list[movie] = req.json()['movieInfoResult']['movieInfo'] #dict_list[movie] 가 있어야 append형식으로 됨. 없으면 마지막것만 추출\n",
    "    return dict_list"
   ]
  },
  {
   "cell_type": "code",
   "execution_count": null,
   "metadata": {},
   "outputs": [],
   "source": [
    "movie_info=movie_data(movie_code_list_all.movieCd) \n",
    "with open(movie_info_path+'raw_data/movie_info/movie_info.txt', 'w', encoding='utf-8') as outfile:   #딕셔너리를 json으로 저장\n",
    "    json.dump(movie_info, outfile, ensure_ascii=False)"
   ]
  },
  {
   "cell_type": "code",
   "execution_count": null,
   "metadata": {},
   "outputs": [],
   "source": []
  },
  {
   "cell_type": "markdown",
   "metadata": {},
   "source": [
    "### 2)  movie_code_list_all 에 dirctors 삽입"
   ]
  },
  {
   "cell_type": "code",
   "execution_count": null,
   "metadata": {
    "scrolled": true
   },
   "outputs": [],
   "source": [
    "movie_code_list_all.reset_index(drop=True, inplace=True)\n",
    "movie_code_list_all"
   ]
  },
  {
   "cell_type": "code",
   "execution_count": null,
   "metadata": {},
   "outputs": [],
   "source": [
    "#movie_info의  director를 뽑아서 movie_code_list에 넣기\n",
    "movie_info_keys=list(movie_info.keys())\n",
    "#movie_info_keys"
   ]
  },
  {
   "cell_type": "code",
   "execution_count": null,
   "metadata": {},
   "outputs": [],
   "source": [
    "for i in range(len(movie_code_list_all)):\n",
    "    with open(movie_info_path+'raw_data/movie_info/movie_info.txt', 'r', encoding=\"utf-8\") as make_file:\n",
    "        d = json.load(make_file)\n",
    "    if(d[movie_info_keys[i]]['directors'] != []):\n",
    "        movie_code_list_all['director'][i]=d[movie_info_keys[i]]['directors'][0]['peopleNm']\n",
    "        \n",
    "    else:\n",
    "        movie_code_list_all['director'][i] = '---'"
   ]
  },
  {
   "cell_type": "code",
   "execution_count": null,
   "metadata": {
    "scrolled": true
   },
   "outputs": [],
   "source": [
    "movie_code_list_all.to_csv(movie_info_path+\"data/movie_code_add_director.csv\")"
   ]
  },
  {
   "cell_type": "code",
   "execution_count": null,
   "metadata": {},
   "outputs": [],
   "source": [
    "with open('movie_info.txt', 'w', encoding='utf-8') as outfile:   #딕셔너리를 json으로 저장\n",
    "    json.dump(movie_info, outfile, ensure_ascii=False)"
   ]
  },
  {
   "cell_type": "code",
   "execution_count": null,
   "metadata": {},
   "outputs": [],
   "source": []
  },
  {
   "cell_type": "code",
   "execution_count": null,
   "metadata": {},
   "outputs": [],
   "source": []
  },
  {
   "cell_type": "code",
   "execution_count": null,
   "metadata": {},
   "outputs": [],
   "source": []
  },
  {
   "cell_type": "code",
   "execution_count": null,
   "metadata": {},
   "outputs": [],
   "source": []
  }
 ],
 "metadata": {
  "kernelspec": {
   "display_name": "Python 3",
   "language": "python",
   "name": "python3"
  },
  "language_info": {
   "codemirror_mode": {
    "name": "ipython",
    "version": 3
   },
   "file_extension": ".py",
   "mimetype": "text/x-python",
   "name": "python",
   "nbconvert_exporter": "python",
   "pygments_lexer": "ipython3",
   "version": "3.6.7"
  }
 },
 "nbformat": 4,
 "nbformat_minor": 2
}
